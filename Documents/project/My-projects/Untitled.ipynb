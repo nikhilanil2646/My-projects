{
 "cells": [
  {
   "cell_type": "code",
   "execution_count": 1,
   "metadata": {},
   "outputs": [],
   "source": [
    "d = rnorm(n=100,mean = 55.55,sd=10.5)"
   ]
  },
  {
   "cell_type": "code",
   "execution_count": 2,
   "metadata": {},
   "outputs": [
    {
     "data": {
      "image/png": "[encoded data removed]",
      "text/plain": [
       "Plot with title \"Histogram of d\""
      ]
     },
     "metadata": {},
     "output_type": "display_data"
    }
   ],
   "source": [
    "hist(d,nclass = 30)"
   ]
  },
  {
   "cell_type": "code",
   "execution_count": 18,
   "metadata": {},
   "outputs": [
    {
     "name": "stdout",
     "output_type": "stream",
     "text": [
      "Enter a no :12\n",
      "[1] \"Even\"\n"
     ]
    }
   ],
   "source": [
    "n <- as.integer(readline(\"Enter a no :\"))\n",
    "if(n %% 2==0){\n",
    "    print(\"Even\")\n",
    "}else{\n",
    "    print(\"odd\")\n",
    "}"
   ]
  },
  {
   "cell_type": "code",
   "execution_count": 16,
   "metadata": {},
   "outputs": [
    {
     "name": "stdout",
     "output_type": "stream",
     "text": [
      "[1] \"C is greater\"\n"
     ]
    }
   ],
   "source": [
    "a = 12\n",
    "b = 34\n",
    "c = 42\n",
    "if(a<b & c<b){\n",
    "    print(\"B is greater\")\n",
    "}else if(a>b & a>c){\n",
    "    print(\"A is greater\")\n",
    "}else{\n",
    "    print(\"C is greater\")\n",
    "}"
   ]
  },
  {
   "cell_type": "code",
   "execution_count": 33,
   "metadata": {},
   "outputs": [
    {
     "name": "stdout",
     "output_type": "stream",
     "text": [
      "Enter a no :1996\n",
      "[1] \"leap year\"\n"
     ]
    }
   ],
   "source": [
    "n <- as.integer(readline(\"Enter a no :\"))\n",
    "if((n %% 4 == 0) & (n %% 100 | n %% 400==0 )){\n",
    "    print(\"leap year\")\n",
    "}else{\n",
    "    print(\"not leap year\")\n",
    "}\n"
   ]
  },
  {
   "cell_type": "code",
   "execution_count": null,
   "metadata": {},
   "outputs": [],
   "source": [
    "com = sample(1:50,1)\n",
    "i = 5\n",
    "print(\"you have 5 chance ok.. \")\n",
    "\n",
    "while(i>0){\n",
    "    num = as.integer(readline(\"Enter a number: \"))\n",
    "    if(num < com){\n",
    "        print(\"bada soch\")\n",
    "        flush(stdout());\n",
    "        i = i-1\n",
    "        next;\n",
    "    }else if(num > com){\n",
    "        print(\"chota soch\")\n",
    "        flush(stdout());\n",
    "        i = i-1\n",
    "        next;\n",
    "    }else if(num == com){\n",
    "        print(\"you win\")\n",
    "        print(\"computer choice .. \",com)\n",
    "        break;\n",
    "    }else if(num > 50){\n",
    "        print(\"bhai bhai bhai aukat me soch(1-50) : \")\n",
    "        flush(stdout());\n",
    "        next;\n",
    "    }\n",
    "    \n",
    "}\n",
    "print(\"you lose..\")\n",
    "print(\"computer choice .. \",com)"
   ]
  },
  {
   "cell_type": "markdown",
   "metadata": {},
   "source": [
    "* Data Maniplution in R"
   ]
  },
  {
   "cell_type": "code",
   "execution_count": 1,
   "metadata": {},
   "outputs": [],
   "source": [
    "data = sample(40:70,1000,replace = T)"
   ]
  },
  {
   "cell_type": "code",
   "execution_count": 3,
   "metadata": {},
   "outputs": [
    {
     "data": {
      "image/png": "[encoded data removed]",
      "text/plain": [
       "Plot with title \"Histogram of data\""
      ]
     },
     "metadata": {},
     "output_type": "display_data"
    }
   ],
   "source": [
    "hist(data)"
   ]
  },
  {
   "cell_type": "markdown",
   "metadata": {},
   "source": [
    "##### List"
   ]
  },
  {
   "cell_type": "code",
   "execution_count": 4,
   "metadata": {},
   "outputs": [],
   "source": [
    "a='hello'\n",
    "b=1:5\n",
    "c=letters[1:5]\n",
    "d=sample(10:20,5)"
   ]
  },
  {
   "cell_type": "code",
   "execution_count": 8,
   "metadata": {},
   "outputs": [],
   "source": [
    "data = list(a=a,b=b,c=c,d=d)"
   ]
  },
  {
   "cell_type": "code",
   "execution_count": 9,
   "metadata": {},
   "outputs": [
    {
     "data": {
      "text/html": [
       "<dl>\n",
       "\t<dt>$a</dt>\n",
       "\t\t<dd>'hello'</dd>\n",
       "\t<dt>$b</dt>\n",
       "\t\t<dd><ol class=list-inline>\n",
       "\t<li>1</li>\n",
       "\t<li>2</li>\n",
       "\t<li>3</li>\n",
       "\t<li>4</li>\n",
       "\t<li>5</li>\n",
       "</ol>\n",
       "</dd>\n",
       "\t<dt>$c</dt>\n",
       "\t\t<dd><ol class=list-inline>\n",
       "\t<li>'a'</li>\n",
       "\t<li>'b'</li>\n",
       "\t<li>'c'</li>\n",
       "\t<li>'d'</li>\n",
       "\t<li>'e'</li>\n",
       "</ol>\n",
       "</dd>\n",
       "\t<dt>$d</dt>\n",
       "\t\t<dd><ol class=list-inline>\n",
       "\t<li>13</li>\n",
       "\t<li>12</li>\n",
       "\t<li>15</li>\n",
       "\t<li>19</li>\n",
       "\t<li>14</li>\n",
       "</ol>\n",
       "</dd>\n",
       "</dl>\n"
      ],
      "text/latex": [
       "\\begin{description}\n",
       "\\item[\\$a] 'hello'\n",
       "\\item[\\$b] \\begin{enumerate*}\n",
       "\\item 1\n",
       "\\item 2\n",
       "\\item 3\n",
       "\\item 4\n",
       "\\item 5\n",
       "\\end{enumerate*}\n",
       "\n",
       "\\item[\\$c] \\begin{enumerate*}\n",
       "\\item 'a'\n",
       "\\item 'b'\n",
       "\\item 'c'\n",
       "\\item 'd'\n",
       "\\item 'e'\n",
       "\\end{enumerate*}\n",
       "\n",
       "\\item[\\$d] \\begin{enumerate*}\n",
       "\\item 13\n",
       "\\item 12\n",
       "\\item 15\n",
       "\\item 19\n",
       "\\item 14\n",
       "\\end{enumerate*}\n",
       "\n",
       "\\end{description}\n"
      ],
      "text/markdown": [
       "$a\n",
       ":   'hello'\n",
       "$b\n",
       ":   1. 1\n",
       "2. 2\n",
       "3. 3\n",
       "4. 4\n",
       "5. 5\n",
       "\n",
       "\n",
       "\n",
       "$c\n",
       ":   1. 'a'\n",
       "2. 'b'\n",
       "3. 'c'\n",
       "4. 'd'\n",
       "5. 'e'\n",
       "\n",
       "\n",
       "\n",
       "$d\n",
       ":   1. 13\n",
       "2. 12\n",
       "3. 15\n",
       "4. 19\n",
       "5. 14\n",
       "\n",
       "\n",
       "\n",
       "\n",
       "\n"
      ],
      "text/plain": [
       "$a\n",
       "[1] \"hello\"\n",
       "\n",
       "$b\n",
       "[1] 1 2 3 4 5\n",
       "\n",
       "$c\n",
       "[1] \"a\" \"b\" \"c\" \"d\" \"e\"\n",
       "\n",
       "$d\n",
       "[1] 13 12 15 19 14\n"
      ]
     },
     "metadata": {},
     "output_type": "display_data"
    }
   ],
   "source": [
    "data"
   ]
  },
  {
   "cell_type": "code",
   "execution_count": 10,
   "metadata": {},
   "outputs": [
    {
     "data": {
      "text/html": [
       "<strong>$b</strong> = <ol class=list-inline>\n",
       "\t<li>1</li>\n",
       "\t<li>2</li>\n",
       "\t<li>3</li>\n",
       "\t<li>4</li>\n",
       "\t<li>5</li>\n",
       "</ol>\n"
      ],
      "text/latex": [
       "\\textbf{\\$b} = \\begin{enumerate*}\n",
       "\\item 1\n",
       "\\item 2\n",
       "\\item 3\n",
       "\\item 4\n",
       "\\item 5\n",
       "\\end{enumerate*}\n"
      ],
      "text/markdown": [
       "**$b** = 1. 1\n",
       "2. 2\n",
       "3. 3\n",
       "4. 4\n",
       "5. 5\n",
       "\n",
       "\n"
      ],
      "text/plain": [
       "$b\n",
       "[1] 1 2 3 4 5\n"
      ]
     },
     "metadata": {},
     "output_type": "display_data"
    }
   ],
   "source": [
    "data[2]"
   ]
  },
  {
   "cell_type": "code",
   "execution_count": 11,
   "metadata": {},
   "outputs": [
    {
     "data": {
      "text/html": [
       "<ol class=list-inline>\n",
       "\t<li>13</li>\n",
       "\t<li>12</li>\n",
       "\t<li>15</li>\n",
       "\t<li>19</li>\n",
       "\t<li>14</li>\n",
       "</ol>\n"
      ],
      "text/latex": [
       "\\begin{enumerate*}\n",
       "\\item 13\n",
       "\\item 12\n",
       "\\item 15\n",
       "\\item 19\n",
       "\\item 14\n",
       "\\end{enumerate*}\n"
      ],
      "text/markdown": [
       "1. 13\n",
       "2. 12\n",
       "3. 15\n",
       "4. 19\n",
       "5. 14\n",
       "\n",
       "\n"
      ],
      "text/plain": [
       "[1] 13 12 15 19 14"
      ]
     },
     "metadata": {},
     "output_type": "display_data"
    }
   ],
   "source": [
    "data$d"
   ]
  },
  {
   "cell_type": "code",
   "execution_count": 12,
   "metadata": {},
   "outputs": [
    {
     "data": {
      "text/html": [
       "12"
      ],
      "text/latex": [
       "12"
      ],
      "text/markdown": [
       "12"
      ],
      "text/plain": [
       "[1] 12"
      ]
     },
     "metadata": {},
     "output_type": "display_data"
    }
   ],
   "source": [
    "data$d[2]"
   ]
  },
  {
   "cell_type": "markdown",
   "metadata": {},
   "source": [
    "# matrix"
   ]
  },
  {
   "cell_type": "code",
   "execution_count": 14,
   "metadata": {},
   "outputs": [],
   "source": [
    "data = 1:20"
   ]
  },
  {
   "cell_type": "code",
   "execution_count": 15,
   "metadata": {},
   "outputs": [],
   "source": [
    "dim(data) <-c(5,4)"
   ]
  },
  {
   "cell_type": "code",
   "execution_count": 16,
   "metadata": {},
   "outputs": [
    {
     "data": {
      "text/html": [
       "<table>\n",
       "<tbody>\n",
       "\t<tr><td>1 </td><td> 6</td><td>11</td><td>16</td></tr>\n",
       "\t<tr><td>2 </td><td> 7</td><td>12</td><td>17</td></tr>\n",
       "\t<tr><td>3 </td><td> 8</td><td>13</td><td>18</td></tr>\n",
       "\t<tr><td>4 </td><td> 9</td><td>14</td><td>19</td></tr>\n",
       "\t<tr><td>5 </td><td>10</td><td>15</td><td>20</td></tr>\n",
       "</tbody>\n",
       "</table>\n"
      ],
      "text/latex": [
       "\\begin{tabular}{llll}\n",
       "\t 1  &  6 & 11 & 16\\\\\n",
       "\t 2  &  7 & 12 & 17\\\\\n",
       "\t 3  &  8 & 13 & 18\\\\\n",
       "\t 4  &  9 & 14 & 19\\\\\n",
       "\t 5  & 10 & 15 & 20\\\\\n",
       "\\end{tabular}\n"
      ],
      "text/markdown": [
       "\n",
       "| 1  |  6 | 11 | 16 |\n",
       "| 2  |  7 | 12 | 17 |\n",
       "| 3  |  8 | 13 | 18 |\n",
       "| 4  |  9 | 14 | 19 |\n",
       "| 5  | 10 | 15 | 20 |\n",
       "\n"
      ],
      "text/plain": [
       "     [,1] [,2] [,3] [,4]\n",
       "[1,] 1     6   11   16  \n",
       "[2,] 2     7   12   17  \n",
       "[3,] 3     8   13   18  \n",
       "[4,] 4     9   14   19  \n",
       "[5,] 5    10   15   20  "
      ]
     },
     "metadata": {},
     "output_type": "display_data"
    }
   ],
   "source": [
    "data"
   ]
  },
  {
   "cell_type": "code",
   "execution_count": 17,
   "metadata": {},
   "outputs": [
    {
     "data": {
      "text/html": [
       "<table>\n",
       "<tbody>\n",
       "\t<tr><td>7 </td><td>12</td></tr>\n",
       "\t<tr><td>8 </td><td>13</td></tr>\n",
       "</tbody>\n",
       "</table>\n"
      ],
      "text/latex": [
       "\\begin{tabular}{ll}\n",
       "\t 7  & 12\\\\\n",
       "\t 8  & 13\\\\\n",
       "\\end{tabular}\n"
      ],
      "text/markdown": [
       "\n",
       "| 7  | 12 |\n",
       "| 8  | 13 |\n",
       "\n"
      ],
      "text/plain": [
       "     [,1] [,2]\n",
       "[1,] 7    12  \n",
       "[2,] 8    13  "
      ]
     },
     "metadata": {},
     "output_type": "display_data"
    }
   ],
   "source": [
    "data[2:3,2:3]"
   ]
  },
  {
   "cell_type": "code",
   "execution_count": 18,
   "metadata": {},
   "outputs": [],
   "source": [
    "rownames(data)<-c('a','b','c','d','e')"
   ]
  },
  {
   "cell_type": "code",
   "execution_count": 19,
   "metadata": {},
   "outputs": [
    {
     "data": {
      "text/html": [
       "<table>\n",
       "<tbody>\n",
       "\t<tr><th scope=row>a</th><td>1 </td><td> 6</td><td>11</td><td>16</td></tr>\n",
       "\t<tr><th scope=row>b</th><td>2 </td><td> 7</td><td>12</td><td>17</td></tr>\n",
       "\t<tr><th scope=row>c</th><td>3 </td><td> 8</td><td>13</td><td>18</td></tr>\n",
       "\t<tr><th scope=row>d</th><td>4 </td><td> 9</td><td>14</td><td>19</td></tr>\n",
       "\t<tr><th scope=row>e</th><td>5 </td><td>10</td><td>15</td><td>20</td></tr>\n",
       "</tbody>\n",
       "</table>\n"
      ],
      "text/latex": [
       "\\begin{tabular}{r|llll}\n",
       "\ta & 1  &  6 & 11 & 16\\\\\n",
       "\tb & 2  &  7 & 12 & 17\\\\\n",
       "\tc & 3  &  8 & 13 & 18\\\\\n",
       "\td & 4  &  9 & 14 & 19\\\\\n",
       "\te & 5  & 10 & 15 & 20\\\\\n",
       "\\end{tabular}\n"
      ],
      "text/markdown": [
       "\n",
       "| a | 1  |  6 | 11 | 16 |\n",
       "| b | 2  |  7 | 12 | 17 |\n",
       "| c | 3  |  8 | 13 | 18 |\n",
       "| d | 4  |  9 | 14 | 19 |\n",
       "| e | 5  | 10 | 15 | 20 |\n",
       "\n"
      ],
      "text/plain": [
       "  [,1] [,2] [,3] [,4]\n",
       "a 1     6   11   16  \n",
       "b 2     7   12   17  \n",
       "c 3     8   13   18  \n",
       "d 4     9   14   19  \n",
       "e 5    10   15   20  "
      ]
     },
     "metadata": {},
     "output_type": "display_data"
    }
   ],
   "source": [
    "data"
   ]
  },
  {
   "cell_type": "code",
   "execution_count": 20,
   "metadata": {},
   "outputs": [],
   "source": [
    "colnames(data) <- letters[1:4]"
   ]
  },
  {
   "cell_type": "code",
   "execution_count": 21,
   "metadata": {},
   "outputs": [
    {
     "data": {
      "text/html": [
       "<table>\n",
       "<thead><tr><th></th><th scope=col>a</th><th scope=col>b</th><th scope=col>c</th><th scope=col>d</th></tr></thead>\n",
       "<tbody>\n",
       "\t<tr><th scope=row>a</th><td>1 </td><td> 6</td><td>11</td><td>16</td></tr>\n",
       "\t<tr><th scope=row>b</th><td>2 </td><td> 7</td><td>12</td><td>17</td></tr>\n",
       "\t<tr><th scope=row>c</th><td>3 </td><td> 8</td><td>13</td><td>18</td></tr>\n",
       "\t<tr><th scope=row>d</th><td>4 </td><td> 9</td><td>14</td><td>19</td></tr>\n",
       "\t<tr><th scope=row>e</th><td>5 </td><td>10</td><td>15</td><td>20</td></tr>\n",
       "</tbody>\n",
       "</table>\n"
      ],
      "text/latex": [
       "\\begin{tabular}{r|llll}\n",
       "  & a & b & c & d\\\\\n",
       "\\hline\n",
       "\ta & 1  &  6 & 11 & 16\\\\\n",
       "\tb & 2  &  7 & 12 & 17\\\\\n",
       "\tc & 3  &  8 & 13 & 18\\\\\n",
       "\td & 4  &  9 & 14 & 19\\\\\n",
       "\te & 5  & 10 & 15 & 20\\\\\n",
       "\\end{tabular}\n"
      ],
      "text/markdown": [
       "\n",
       "| <!--/--> | a | b | c | d |\n",
       "|---|---|---|---|---|\n",
       "| a | 1  |  6 | 11 | 16 |\n",
       "| b | 2  |  7 | 12 | 17 |\n",
       "| c | 3  |  8 | 13 | 18 |\n",
       "| d | 4  |  9 | 14 | 19 |\n",
       "| e | 5  | 10 | 15 | 20 |\n",
       "\n"
      ],
      "text/plain": [
       "  a b  c  d \n",
       "a 1  6 11 16\n",
       "b 2  7 12 17\n",
       "c 3  8 13 18\n",
       "d 4  9 14 19\n",
       "e 5 10 15 20"
      ]
     },
     "metadata": {},
     "output_type": "display_data"
    }
   ],
   "source": [
    "data"
   ]
  },
  {
   "cell_type": "code",
   "execution_count": 28,
   "metadata": {},
   "outputs": [
    {
     "data": {
      "text/html": [
       "<table>\n",
       "<thead><tr><th></th><th scope=col>a</th><th scope=col>b</th></tr></thead>\n",
       "<tbody>\n",
       "\t<tr><th scope=row>a</th><td>1</td><td>6</td></tr>\n",
       "\t<tr><th scope=row>b</th><td>2</td><td>7</td></tr>\n",
       "\t<tr><th scope=row>d</th><td>4</td><td>9</td></tr>\n",
       "</tbody>\n",
       "</table>\n"
      ],
      "text/latex": [
       "\\begin{tabular}{r|ll}\n",
       "  & a & b\\\\\n",
       "\\hline\n",
       "\ta & 1 & 6\\\\\n",
       "\tb & 2 & 7\\\\\n",
       "\td & 4 & 9\\\\\n",
       "\\end{tabular}\n"
      ],
      "text/markdown": [
       "\n",
       "| <!--/--> | a | b |\n",
       "|---|---|---|\n",
       "| a | 1 | 6 |\n",
       "| b | 2 | 7 |\n",
       "| d | 4 | 9 |\n",
       "\n"
      ],
      "text/plain": [
       "  a b\n",
       "a 1 6\n",
       "b 2 7\n",
       "d 4 9"
      ]
     },
     "metadata": {},
     "output_type": "display_data"
    }
   ],
   "source": [
    "data[c('a','b','d'),c('a','b')]"
   ]
  },
  {
   "cell_type": "code",
   "execution_count": 29,
   "metadata": {},
   "outputs": [],
   "source": [
    "data[3,4]=NA"
   ]
  },
  {
   "cell_type": "code",
   "execution_count": 30,
   "metadata": {},
   "outputs": [
    {
     "data": {
      "text/html": [
       "<table>\n",
       "<thead><tr><th></th><th scope=col>a</th><th scope=col>b</th><th scope=col>c</th><th scope=col>d</th></tr></thead>\n",
       "<tbody>\n",
       "\t<tr><th scope=row>a</th><td>1 </td><td> 6</td><td>11</td><td>16</td></tr>\n",
       "\t<tr><th scope=row>b</th><td>2 </td><td> 7</td><td>12</td><td>17</td></tr>\n",
       "\t<tr><th scope=row>c</th><td>3 </td><td> 8</td><td>13</td><td>NA</td></tr>\n",
       "\t<tr><th scope=row>d</th><td>4 </td><td> 9</td><td>14</td><td>19</td></tr>\n",
       "\t<tr><th scope=row>e</th><td>5 </td><td>10</td><td>15</td><td>20</td></tr>\n",
       "</tbody>\n",
       "</table>\n"
      ],
      "text/latex": [
       "\\begin{tabular}{r|llll}\n",
       "  & a & b & c & d\\\\\n",
       "\\hline\n",
       "\ta & 1  &  6 & 11 & 16\\\\\n",
       "\tb & 2  &  7 & 12 & 17\\\\\n",
       "\tc & 3  &  8 & 13 & NA\\\\\n",
       "\td & 4  &  9 & 14 & 19\\\\\n",
       "\te & 5  & 10 & 15 & 20\\\\\n",
       "\\end{tabular}\n"
      ],
      "text/markdown": [
       "\n",
       "| <!--/--> | a | b | c | d |\n",
       "|---|---|---|---|---|\n",
       "| a | 1  |  6 | 11 | 16 |\n",
       "| b | 2  |  7 | 12 | 17 |\n",
       "| c | 3  |  8 | 13 | NA |\n",
       "| d | 4  |  9 | 14 | 19 |\n",
       "| e | 5  | 10 | 15 | 20 |\n",
       "\n"
      ],
      "text/plain": [
       "  a b  c  d \n",
       "a 1  6 11 16\n",
       "b 2  7 12 17\n",
       "c 3  8 13 NA\n",
       "d 4  9 14 19\n",
       "e 5 10 15 20"
      ]
     },
     "metadata": {},
     "output_type": "display_data"
    }
   ],
   "source": [
    "data\n"
   ]
  },
  {
   "cell_type": "code",
   "execution_count": 31,
   "metadata": {},
   "outputs": [
    {
     "data": {
      "text/html": [
       "&lt;NA&gt;"
      ],
      "text/latex": [
       "<NA>"
      ],
      "text/markdown": [
       "&lt;NA&gt;"
      ],
      "text/plain": [
       "[1] NA"
      ]
     },
     "metadata": {},
     "output_type": "display_data"
    }
   ],
   "source": [
    "data[is.na(data)]"
   ]
  },
  {
   "cell_type": "code",
   "execution_count": 32,
   "metadata": {},
   "outputs": [],
   "source": [
    "m = matrix(sample(1:100,20),nrow=5,ncol=4)"
   ]
  },
  {
   "cell_type": "code",
   "execution_count": 33,
   "metadata": {},
   "outputs": [
    {
     "data": {
      "text/html": [
       "<table>\n",
       "<tbody>\n",
       "\t<tr><td>80 </td><td> 8 </td><td> 90</td><td>54 </td></tr>\n",
       "\t<tr><td>75 </td><td>50 </td><td>100</td><td>47 </td></tr>\n",
       "\t<tr><td>49 </td><td>28 </td><td> 40</td><td>25 </td></tr>\n",
       "\t<tr><td>61 </td><td>19 </td><td> 18</td><td>20 </td></tr>\n",
       "\t<tr><td> 7 </td><td>16 </td><td> 94</td><td>72 </td></tr>\n",
       "</tbody>\n",
       "</table>\n"
      ],
      "text/latex": [
       "\\begin{tabular}{llll}\n",
       "\t 80  &  8  &  90 & 54 \\\\\n",
       "\t 75  & 50  & 100 & 47 \\\\\n",
       "\t 49  & 28  &  40 & 25 \\\\\n",
       "\t 61  & 19  &  18 & 20 \\\\\n",
       "\t  7  & 16  &  94 & 72 \\\\\n",
       "\\end{tabular}\n"
      ],
      "text/markdown": [
       "\n",
       "| 80  |  8  |  90 | 54  |\n",
       "| 75  | 50  | 100 | 47  |\n",
       "| 49  | 28  |  40 | 25  |\n",
       "| 61  | 19  |  18 | 20  |\n",
       "|  7  | 16  |  94 | 72  |\n",
       "\n"
      ],
      "text/plain": [
       "     [,1] [,2] [,3] [,4]\n",
       "[1,] 80    8    90  54  \n",
       "[2,] 75   50   100  47  \n",
       "[3,] 49   28    40  25  \n",
       "[4,] 61   19    18  20  \n",
       "[5,]  7   16    94  72  "
      ]
     },
     "metadata": {},
     "output_type": "display_data"
    }
   ],
   "source": [
    "m"
   ]
  },
  {
   "cell_type": "markdown",
   "metadata": {},
   "source": [
    "Data Frame"
   ]
  },
  {
   "cell_type": "code",
   "execution_count": 35,
   "metadata": {},
   "outputs": [],
   "source": [
    "d = data.frame(\n",
    "    name = letters[1:5],\n",
    "    maths = sample(50:100,5),\n",
    "    chem = sample(50:100,5),\n",
    "    phy = sample(50:100,5),\n",
    "    sex = sample(factor(c(\"male\",\"female\")),5,replace = T)\n",
    ")"
   ]
  },
  {
   "cell_type": "code",
   "execution_count": 36,
   "metadata": {},
   "outputs": [
    {
     "data": {
      "text/html": [
       "<table>\n",
       "<thead><tr><th scope=col>name</th><th scope=col>maths</th><th scope=col>chem</th><th scope=col>phy</th><th scope=col>sex</th></tr></thead>\n",
       "<tbody>\n",
       "\t<tr><td>a     </td><td>91    </td><td>81    </td><td>78    </td><td>male  </td></tr>\n",
       "\t<tr><td>b     </td><td>65    </td><td>66    </td><td>82    </td><td>male  </td></tr>\n",
       "\t<tr><td>c     </td><td>59    </td><td>95    </td><td>60    </td><td>female</td></tr>\n",
       "\t<tr><td>d     </td><td>82    </td><td>76    </td><td>69    </td><td>male  </td></tr>\n",
       "\t<tr><td>e     </td><td>81    </td><td>65    </td><td>63    </td><td>female</td></tr>\n",
       "</tbody>\n",
       "</table>\n"
      ],
      "text/latex": [
       "\\begin{tabular}{r|lllll}\n",
       " name & maths & chem & phy & sex\\\\\n",
       "\\hline\n",
       "\t a      & 91     & 81     & 78     & male  \\\\\n",
       "\t b      & 65     & 66     & 82     & male  \\\\\n",
       "\t c      & 59     & 95     & 60     & female\\\\\n",
       "\t d      & 82     & 76     & 69     & male  \\\\\n",
       "\t e      & 81     & 65     & 63     & female\\\\\n",
       "\\end{tabular}\n"
      ],
      "text/markdown": [
       "\n",
       "| name | maths | chem | phy | sex |\n",
       "|---|---|---|---|---|\n",
       "| a      | 91     | 81     | 78     | male   |\n",
       "| b      | 65     | 66     | 82     | male   |\n",
       "| c      | 59     | 95     | 60     | female |\n",
       "| d      | 82     | 76     | 69     | male   |\n",
       "| e      | 81     | 65     | 63     | female |\n",
       "\n"
      ],
      "text/plain": [
       "  name maths chem phy sex   \n",
       "1 a    91    81   78  male  \n",
       "2 b    65    66   82  male  \n",
       "3 c    59    95   60  female\n",
       "4 d    82    76   69  male  \n",
       "5 e    81    65   63  female"
      ]
     },
     "metadata": {},
     "output_type": "display_data"
    }
   ],
   "source": [
    "d"
   ]
  },
  {
   "cell_type": "code",
   "execution_count": 39,
   "metadata": {},
   "outputs": [
    {
     "data": {
      "text/html": [
       "<ol class=list-inline>\n",
       "\t<li>a</li>\n",
       "\t<li>b</li>\n",
       "\t<li>c</li>\n",
       "\t<li>d</li>\n",
       "\t<li>e</li>\n",
       "</ol>\n",
       "\n",
       "<details>\n",
       "\t<summary style=display:list-item;cursor:pointer>\n",
       "\t\t<strong>Levels</strong>:\n",
       "\t</summary>\n",
       "\t<ol class=list-inline>\n",
       "\t\t<li>'a'</li>\n",
       "\t\t<li>'b'</li>\n",
       "\t\t<li>'c'</li>\n",
       "\t\t<li>'d'</li>\n",
       "\t\t<li>'e'</li>\n",
       "\t</ol>\n",
       "</details>"
      ],
      "text/latex": [
       "\\begin{enumerate*}\n",
       "\\item a\n",
       "\\item b\n",
       "\\item c\n",
       "\\item d\n",
       "\\item e\n",
       "\\end{enumerate*}\n",
       "\n",
       "\\emph{Levels}: \\begin{enumerate*}\n",
       "\\item 'a'\n",
       "\\item 'b'\n",
       "\\item 'c'\n",
       "\\item 'd'\n",
       "\\item 'e'\n",
       "\\end{enumerate*}\n"
      ],
      "text/markdown": [
       "1. a\n",
       "2. b\n",
       "3. c\n",
       "4. d\n",
       "5. e\n",
       "\n",
       "\n",
       "\n",
       "**Levels**: 1. 'a'\n",
       "2. 'b'\n",
       "3. 'c'\n",
       "4. 'd'\n",
       "5. 'e'\n",
       "\n",
       "\n"
      ],
      "text/plain": [
       "[1] a b c d e\n",
       "Levels: a b c d e"
      ]
     },
     "metadata": {},
     "output_type": "display_data"
    }
   ],
   "source": [
    "d$name"
   ]
  },
  {
   "cell_type": "code",
   "execution_count": 40,
   "metadata": {},
   "outputs": [
    {
     "data": {
      "text/html": [
       "<ol class=list-inline>\n",
       "\t<li>91</li>\n",
       "\t<li>65</li>\n",
       "\t<li>59</li>\n",
       "\t<li>82</li>\n",
       "\t<li>81</li>\n",
       "</ol>\n"
      ],
      "text/latex": [
       "\\begin{enumerate*}\n",
       "\\item 91\n",
       "\\item 65\n",
       "\\item 59\n",
       "\\item 82\n",
       "\\item 81\n",
       "\\end{enumerate*}\n"
      ],
      "text/markdown": [
       "1. 91\n",
       "2. 65\n",
       "3. 59\n",
       "4. 82\n",
       "5. 81\n",
       "\n",
       "\n"
      ],
      "text/plain": [
       "[1] 91 65 59 82 81"
      ]
     },
     "metadata": {},
     "output_type": "display_data"
    }
   ],
   "source": [
    "d$maths"
   ]
  },
  {
   "cell_type": "code",
   "execution_count": 41,
   "metadata": {},
   "outputs": [
    {
     "data": {
      "text/html": [
       "<table>\n",
       "<thead><tr><th scope=col>name</th><th scope=col>sex</th></tr></thead>\n",
       "<tbody>\n",
       "\t<tr><td>a     </td><td>male  </td></tr>\n",
       "\t<tr><td>b     </td><td>male  </td></tr>\n",
       "\t<tr><td>c     </td><td>female</td></tr>\n",
       "\t<tr><td>d     </td><td>male  </td></tr>\n",
       "\t<tr><td>e     </td><td>female</td></tr>\n",
       "</tbody>\n",
       "</table>\n"
      ],
      "text/latex": [
       "\\begin{tabular}{r|ll}\n",
       " name & sex\\\\\n",
       "\\hline\n",
       "\t a      & male  \\\\\n",
       "\t b      & male  \\\\\n",
       "\t c      & female\\\\\n",
       "\t d      & male  \\\\\n",
       "\t e      & female\\\\\n",
       "\\end{tabular}\n"
      ],
      "text/markdown": [
       "\n",
       "| name | sex |\n",
       "|---|---|\n",
       "| a      | male   |\n",
       "| b      | male   |\n",
       "| c      | female |\n",
       "| d      | male   |\n",
       "| e      | female |\n",
       "\n"
      ],
      "text/plain": [
       "  name sex   \n",
       "1 a    male  \n",
       "2 b    male  \n",
       "3 c    female\n",
       "4 d    male  \n",
       "5 e    female"
      ]
     },
     "metadata": {},
     "output_type": "display_data"
    }
   ],
   "source": [
    "d[c(\"name\",\"sex\")]"
   ]
  },
  {
   "cell_type": "code",
   "execution_count": 42,
   "metadata": {},
   "outputs": [
    {
     "data": {
      "text/html": [
       "<table>\n",
       "<thead><tr><th scope=col>name</th><th scope=col>maths</th><th scope=col>chem</th></tr></thead>\n",
       "<tbody>\n",
       "\t<tr><td>a </td><td>91</td><td>81</td></tr>\n",
       "\t<tr><td>b </td><td>65</td><td>66</td></tr>\n",
       "\t<tr><td>c </td><td>59</td><td>95</td></tr>\n",
       "\t<tr><td>d </td><td>82</td><td>76</td></tr>\n",
       "\t<tr><td>e </td><td>81</td><td>65</td></tr>\n",
       "</tbody>\n",
       "</table>\n"
      ],
      "text/latex": [
       "\\begin{tabular}{r|lll}\n",
       " name & maths & chem\\\\\n",
       "\\hline\n",
       "\t a  & 91 & 81\\\\\n",
       "\t b  & 65 & 66\\\\\n",
       "\t c  & 59 & 95\\\\\n",
       "\t d  & 82 & 76\\\\\n",
       "\t e  & 81 & 65\\\\\n",
       "\\end{tabular}\n"
      ],
      "text/markdown": [
       "\n",
       "| name | maths | chem |\n",
       "|---|---|---|\n",
       "| a  | 91 | 81 |\n",
       "| b  | 65 | 66 |\n",
       "| c  | 59 | 95 |\n",
       "| d  | 82 | 76 |\n",
       "| e  | 81 | 65 |\n",
       "\n"
      ],
      "text/plain": [
       "  name maths chem\n",
       "1 a    91    81  \n",
       "2 b    65    66  \n",
       "3 c    59    95  \n",
       "4 d    82    76  \n",
       "5 e    81    65  "
      ]
     },
     "metadata": {},
     "output_type": "display_data"
    }
   ],
   "source": [
    "d[c(1,2,3)]"
   ]
  },
  {
   "cell_type": "code",
   "execution_count": 51,
   "metadata": {},
   "outputs": [
    {
     "data": {
      "text/html": [
       "<table>\n",
       "<thead><tr><th></th><th scope=col>name</th><th scope=col>maths</th><th scope=col>chem</th><th scope=col>phy</th><th scope=col>sex</th></tr></thead>\n",
       "<tbody>\n",
       "\t<tr><th scope=row>1</th><td>a     </td><td>91    </td><td>81    </td><td>78    </td><td>male  </td></tr>\n",
       "\t<tr><th scope=row>4</th><td>d     </td><td>82    </td><td>76    </td><td>69    </td><td>male  </td></tr>\n",
       "\t<tr><th scope=row>5</th><td>e     </td><td>81    </td><td>65    </td><td>63    </td><td>female</td></tr>\n",
       "</tbody>\n",
       "</table>\n"
      ],
      "text/latex": [
       "\\begin{tabular}{r|lllll}\n",
       "  & name & maths & chem & phy & sex\\\\\n",
       "\\hline\n",
       "\t1 & a      & 91     & 81     & 78     & male  \\\\\n",
       "\t4 & d      & 82     & 76     & 69     & male  \\\\\n",
       "\t5 & e      & 81     & 65     & 63     & female\\\\\n",
       "\\end{tabular}\n"
      ],
      "text/markdown": [
       "\n",
       "| <!--/--> | name | maths | chem | phy | sex |\n",
       "|---|---|---|---|---|---|\n",
       "| 1 | a      | 91     | 81     | 78     | male   |\n",
       "| 4 | d      | 82     | 76     | 69     | male   |\n",
       "| 5 | e      | 81     | 65     | 63     | female |\n",
       "\n"
      ],
      "text/plain": [
       "  name maths chem phy sex   \n",
       "1 a    91    81   78  male  \n",
       "4 d    82    76   69  male  \n",
       "5 e    81    65   63  female"
      ]
     },
     "metadata": {},
     "output_type": "display_data"
    }
   ],
   "source": [
    "d[d['maths']>70 & d['phy']>60,]"
   ]
  },
  {
   "cell_type": "code",
   "execution_count": 53,
   "metadata": {},
   "outputs": [],
   "source": [
    "d$address = sample(c(\"jaipur\",\"ajmer\",'up'),5,replace = T)"
   ]
  },
  {
   "cell_type": "code",
   "execution_count": 54,
   "metadata": {},
   "outputs": [
    {
     "data": {
      "text/html": [
       "<table>\n",
       "<thead><tr><th scope=col>name</th><th scope=col>maths</th><th scope=col>chem</th><th scope=col>phy</th><th scope=col>sex</th><th scope=col>address</th></tr></thead>\n",
       "<tbody>\n",
       "\t<tr><td>a     </td><td>91    </td><td>81    </td><td>78    </td><td>male  </td><td>jaipur</td></tr>\n",
       "\t<tr><td>b     </td><td>65    </td><td>66    </td><td>82    </td><td>male  </td><td>up    </td></tr>\n",
       "\t<tr><td>c     </td><td>59    </td><td>95    </td><td>60    </td><td>female</td><td>ajmer </td></tr>\n",
       "\t<tr><td>d     </td><td>82    </td><td>76    </td><td>69    </td><td>male  </td><td>up    </td></tr>\n",
       "\t<tr><td>e     </td><td>81    </td><td>65    </td><td>63    </td><td>female</td><td>up    </td></tr>\n",
       "</tbody>\n",
       "</table>\n"
      ],
      "text/latex": [
       "\\begin{tabular}{r|llllll}\n",
       " name & maths & chem & phy & sex & address\\\\\n",
       "\\hline\n",
       "\t a      & 91     & 81     & 78     & male   & jaipur\\\\\n",
       "\t b      & 65     & 66     & 82     & male   & up    \\\\\n",
       "\t c      & 59     & 95     & 60     & female & ajmer \\\\\n",
       "\t d      & 82     & 76     & 69     & male   & up    \\\\\n",
       "\t e      & 81     & 65     & 63     & female & up    \\\\\n",
       "\\end{tabular}\n"
      ],
      "text/markdown": [
       "\n",
       "| name | maths | chem | phy | sex | address |\n",
       "|---|---|---|---|---|---|\n",
       "| a      | 91     | 81     | 78     | male   | jaipur |\n",
       "| b      | 65     | 66     | 82     | male   | up     |\n",
       "| c      | 59     | 95     | 60     | female | ajmer  |\n",
       "| d      | 82     | 76     | 69     | male   | up     |\n",
       "| e      | 81     | 65     | 63     | female | up     |\n",
       "\n"
      ],
      "text/plain": [
       "  name maths chem phy sex    address\n",
       "1 a    91    81   78  male   jaipur \n",
       "2 b    65    66   82  male   up     \n",
       "3 c    59    95   60  female ajmer  \n",
       "4 d    82    76   69  male   up     \n",
       "5 e    81    65   63  female up     "
      ]
     },
     "metadata": {},
     "output_type": "display_data"
    }
   ],
   "source": []
  },
  {
   "cell_type": "code",
   "execution_count": 70,
   "metadata": {},
   "outputs": [],
   "source": [
    "e = data.frame(\n",
    "    name = letters[6:7],\n",
    "    maths = sample(50:100,2),\n",
    "    chem = sample(50:100,2),\n",
    "    phy = sample(50:100,2),\n",
    "    sex = sample(factor(c(\"male\",\"female\")),2,replace = T),\n",
    "    address = sample(factor(c(\"jaipur\",\"ajmer\",'up')),2,replace = T)\n",
    ")"
   ]
  },
  {
   "cell_type": "code",
   "execution_count": 71,
   "metadata": {},
   "outputs": [
    {
     "data": {
      "text/html": [
       "<table>\n",
       "<thead><tr><th scope=col>name</th><th scope=col>maths</th><th scope=col>chem</th><th scope=col>phy</th><th scope=col>sex</th><th scope=col>address</th></tr></thead>\n",
       "<tbody>\n",
       "\t<tr><td>f    </td><td>60   </td><td>77   </td><td>76   </td><td>male </td><td>ajmer</td></tr>\n",
       "\t<tr><td>g    </td><td>57   </td><td>51   </td><td>78   </td><td>male </td><td>ajmer</td></tr>\n",
       "</tbody>\n",
       "</table>\n"
      ],
      "text/latex": [
       "\\begin{tabular}{r|llllll}\n",
       " name & maths & chem & phy & sex & address\\\\\n",
       "\\hline\n",
       "\t f     & 60    & 77    & 76    & male  & ajmer\\\\\n",
       "\t g     & 57    & 51    & 78    & male  & ajmer\\\\\n",
       "\\end{tabular}\n"
      ],
      "text/markdown": [
       "\n",
       "| name | maths | chem | phy | sex | address |\n",
       "|---|---|---|---|---|---|\n",
       "| f     | 60    | 77    | 76    | male  | ajmer |\n",
       "| g     | 57    | 51    | 78    | male  | ajmer |\n",
       "\n"
      ],
      "text/plain": [
       "  name maths chem phy sex  address\n",
       "1 f    60    77   76  male ajmer  \n",
       "2 g    57    51   78  male ajmer  "
      ]
     },
     "metadata": {},
     "output_type": "display_data"
    }
   ],
   "source": [
    "e"
   ]
  },
  {
   "cell_type": "code",
   "execution_count": 72,
   "metadata": {},
   "outputs": [],
   "source": [
    "df = rbind(d,e)"
   ]
  },
  {
   "cell_type": "code",
   "execution_count": 73,
   "metadata": {},
   "outputs": [
    {
     "data": {
      "text/html": [
       "<table>\n",
       "<thead><tr><th scope=col>name</th><th scope=col>maths</th><th scope=col>chem</th><th scope=col>phy</th><th scope=col>sex</th><th scope=col>address</th></tr></thead>\n",
       "<tbody>\n",
       "\t<tr><td>a     </td><td>91    </td><td>81    </td><td>78    </td><td>male  </td><td>jaipur</td></tr>\n",
       "\t<tr><td>b     </td><td>65    </td><td>66    </td><td>82    </td><td>male  </td><td>up    </td></tr>\n",
       "\t<tr><td>c     </td><td>59    </td><td>95    </td><td>60    </td><td>female</td><td>ajmer </td></tr>\n",
       "\t<tr><td>d     </td><td>82    </td><td>76    </td><td>69    </td><td>male  </td><td>up    </td></tr>\n",
       "\t<tr><td>e     </td><td>81    </td><td>65    </td><td>63    </td><td>female</td><td>up    </td></tr>\n",
       "\t<tr><td>f     </td><td>60    </td><td>77    </td><td>76    </td><td>male  </td><td>ajmer </td></tr>\n",
       "\t<tr><td>g     </td><td>57    </td><td>51    </td><td>78    </td><td>male  </td><td>ajmer </td></tr>\n",
       "</tbody>\n",
       "</table>\n"
      ],
      "text/latex": [
       "\\begin{tabular}{r|llllll}\n",
       " name & maths & chem & phy & sex & address\\\\\n",
       "\\hline\n",
       "\t a      & 91     & 81     & 78     & male   & jaipur\\\\\n",
       "\t b      & 65     & 66     & 82     & male   & up    \\\\\n",
       "\t c      & 59     & 95     & 60     & female & ajmer \\\\\n",
       "\t d      & 82     & 76     & 69     & male   & up    \\\\\n",
       "\t e      & 81     & 65     & 63     & female & up    \\\\\n",
       "\t f      & 60     & 77     & 76     & male   & ajmer \\\\\n",
       "\t g      & 57     & 51     & 78     & male   & ajmer \\\\\n",
       "\\end{tabular}\n"
      ],
      "text/markdown": [
       "\n",
       "| name | maths | chem | phy | sex | address |\n",
       "|---|---|---|---|---|---|\n",
       "| a      | 91     | 81     | 78     | male   | jaipur |\n",
       "| b      | 65     | 66     | 82     | male   | up     |\n",
       "| c      | 59     | 95     | 60     | female | ajmer  |\n",
       "| d      | 82     | 76     | 69     | male   | up     |\n",
       "| e      | 81     | 65     | 63     | female | up     |\n",
       "| f      | 60     | 77     | 76     | male   | ajmer  |\n",
       "| g      | 57     | 51     | 78     | male   | ajmer  |\n",
       "\n"
      ],
      "text/plain": [
       "  name maths chem phy sex    address\n",
       "1 a    91    81   78  male   jaipur \n",
       "2 b    65    66   82  male   up     \n",
       "3 c    59    95   60  female ajmer  \n",
       "4 d    82    76   69  male   up     \n",
       "5 e    81    65   63  female up     \n",
       "6 f    60    77   76  male   ajmer  \n",
       "7 g    57    51   78  male   ajmer  "
      ]
     },
     "metadata": {},
     "output_type": "display_data"
    }
   ],
   "source": [
    "df"
   ]
  },
  {
   "cell_type": "code",
   "execution_count": 74,
   "metadata": {},
   "outputs": [
    {
     "data": {
      "text/plain": [
       " name      maths            chem           phy            sex   \n",
       " a:1   Min.   :57.00   Min.   :51.0   Min.   :60.00   female:2  \n",
       " b:1   1st Qu.:59.50   1st Qu.:65.5   1st Qu.:66.00   male  :5  \n",
       " c:1   Median :65.00   Median :76.0   Median :76.00             \n",
       " d:1   Mean   :70.71   Mean   :73.0   Mean   :72.29             \n",
       " e:1   3rd Qu.:81.50   3rd Qu.:79.0   3rd Qu.:78.00             \n",
       " f:1   Max.   :91.00   Max.   :95.0   Max.   :82.00             \n",
       " g:1                                                            \n",
       "   address         \n",
       " Length:7          \n",
       " Class :character  \n",
       " Mode  :character  \n",
       "                   \n",
       "                   \n",
       "                   \n",
       "                   "
      ]
     },
     "metadata": {},
     "output_type": "display_data"
    }
   ],
   "source": [
    "summary(df)"
   ]
  },
  {
   "cell_type": "code",
   "execution_count": 75,
   "metadata": {},
   "outputs": [],
   "source": [
    "d1 = data.frame(\n",
    "    name=letters[1:10],\n",
    "    game = sample(c('cri','foot','basketball'),10,replace = T),\n",
    "    score = sample(40:100,10)\n",
    ")"
   ]
  },
  {
   "cell_type": "code",
   "execution_count": 76,
   "metadata": {},
   "outputs": [
    {
     "data": {
      "text/html": [
       "<table>\n",
       "<thead><tr><th scope=col>name</th><th scope=col>game</th><th scope=col>score</th></tr></thead>\n",
       "<tbody>\n",
       "\t<tr><td>a         </td><td>basketball</td><td>91        </td></tr>\n",
       "\t<tr><td>b         </td><td>foot      </td><td>75        </td></tr>\n",
       "\t<tr><td>c         </td><td>cri       </td><td>40        </td></tr>\n",
       "\t<tr><td>d         </td><td>cri       </td><td>58        </td></tr>\n",
       "\t<tr><td>e         </td><td>foot      </td><td>81        </td></tr>\n",
       "\t<tr><td>f         </td><td>cri       </td><td>89        </td></tr>\n",
       "\t<tr><td>g         </td><td>basketball</td><td>83        </td></tr>\n",
       "\t<tr><td>h         </td><td>cri       </td><td>48        </td></tr>\n",
       "\t<tr><td>i         </td><td>foot      </td><td>49        </td></tr>\n",
       "\t<tr><td>j         </td><td>cri       </td><td>98        </td></tr>\n",
       "</tbody>\n",
       "</table>\n"
      ],
      "text/latex": [
       "\\begin{tabular}{r|lll}\n",
       " name & game & score\\\\\n",
       "\\hline\n",
       "\t a          & basketball & 91        \\\\\n",
       "\t b          & foot       & 75        \\\\\n",
       "\t c          & cri        & 40        \\\\\n",
       "\t d          & cri        & 58        \\\\\n",
       "\t e          & foot       & 81        \\\\\n",
       "\t f          & cri        & 89        \\\\\n",
       "\t g          & basketball & 83        \\\\\n",
       "\t h          & cri        & 48        \\\\\n",
       "\t i          & foot       & 49        \\\\\n",
       "\t j          & cri        & 98        \\\\\n",
       "\\end{tabular}\n"
      ],
      "text/markdown": [
       "\n",
       "| name | game | score |\n",
       "|---|---|---|\n",
       "| a          | basketball | 91         |\n",
       "| b          | foot       | 75         |\n",
       "| c          | cri        | 40         |\n",
       "| d          | cri        | 58         |\n",
       "| e          | foot       | 81         |\n",
       "| f          | cri        | 89         |\n",
       "| g          | basketball | 83         |\n",
       "| h          | cri        | 48         |\n",
       "| i          | foot       | 49         |\n",
       "| j          | cri        | 98         |\n",
       "\n"
      ],
      "text/plain": [
       "   name game       score\n",
       "1  a    basketball 91   \n",
       "2  b    foot       75   \n",
       "3  c    cri        40   \n",
       "4  d    cri        58   \n",
       "5  e    foot       81   \n",
       "6  f    cri        89   \n",
       "7  g    basketball 83   \n",
       "8  h    cri        48   \n",
       "9  i    foot       49   \n",
       "10 j    cri        98   "
      ]
     },
     "metadata": {},
     "output_type": "display_data"
    }
   ],
   "source": [
    "d1"
   ]
  },
  {
   "cell_type": "code",
   "execution_count": 77,
   "metadata": {},
   "outputs": [
    {
     "data": {
      "text/html": [
       "<table>\n",
       "<thead><tr><th scope=col>name</th><th scope=col>game</th><th scope=col>score</th><th scope=col>maths</th><th scope=col>chem</th><th scope=col>phy</th><th scope=col>sex</th><th scope=col>address</th></tr></thead>\n",
       "<tbody>\n",
       "\t<tr><td>a         </td><td>basketball</td><td>91        </td><td>91        </td><td>81        </td><td>78        </td><td>male      </td><td>jaipur    </td></tr>\n",
       "\t<tr><td>b         </td><td>foot      </td><td>75        </td><td>65        </td><td>66        </td><td>82        </td><td>male      </td><td>up        </td></tr>\n",
       "\t<tr><td>c         </td><td>cri       </td><td>40        </td><td>59        </td><td>95        </td><td>60        </td><td>female    </td><td>ajmer     </td></tr>\n",
       "\t<tr><td>d         </td><td>cri       </td><td>58        </td><td>82        </td><td>76        </td><td>69        </td><td>male      </td><td>up        </td></tr>\n",
       "\t<tr><td>e         </td><td>foot      </td><td>81        </td><td>81        </td><td>65        </td><td>63        </td><td>female    </td><td>up        </td></tr>\n",
       "\t<tr><td>f         </td><td>cri       </td><td>89        </td><td>60        </td><td>77        </td><td>76        </td><td>male      </td><td>ajmer     </td></tr>\n",
       "\t<tr><td>g         </td><td>basketball</td><td>83        </td><td>57        </td><td>51        </td><td>78        </td><td>male      </td><td>ajmer     </td></tr>\n",
       "</tbody>\n",
       "</table>\n"
      ],
      "text/latex": [
       "\\begin{tabular}{r|llllllll}\n",
       " name & game & score & maths & chem & phy & sex & address\\\\\n",
       "\\hline\n",
       "\t a          & basketball & 91         & 91         & 81         & 78         & male       & jaipur    \\\\\n",
       "\t b          & foot       & 75         & 65         & 66         & 82         & male       & up        \\\\\n",
       "\t c          & cri        & 40         & 59         & 95         & 60         & female     & ajmer     \\\\\n",
       "\t d          & cri        & 58         & 82         & 76         & 69         & male       & up        \\\\\n",
       "\t e          & foot       & 81         & 81         & 65         & 63         & female     & up        \\\\\n",
       "\t f          & cri        & 89         & 60         & 77         & 76         & male       & ajmer     \\\\\n",
       "\t g          & basketball & 83         & 57         & 51         & 78         & male       & ajmer     \\\\\n",
       "\\end{tabular}\n"
      ],
      "text/markdown": [
       "\n",
       "| name | game | score | maths | chem | phy | sex | address |\n",
       "|---|---|---|---|---|---|---|---|\n",
       "| a          | basketball | 91         | 91         | 81         | 78         | male       | jaipur     |\n",
       "| b          | foot       | 75         | 65         | 66         | 82         | male       | up         |\n",
       "| c          | cri        | 40         | 59         | 95         | 60         | female     | ajmer      |\n",
       "| d          | cri        | 58         | 82         | 76         | 69         | male       | up         |\n",
       "| e          | foot       | 81         | 81         | 65         | 63         | female     | up         |\n",
       "| f          | cri        | 89         | 60         | 77         | 76         | male       | ajmer      |\n",
       "| g          | basketball | 83         | 57         | 51         | 78         | male       | ajmer      |\n",
       "\n"
      ],
      "text/plain": [
       "  name game       score maths chem phy sex    address\n",
       "1 a    basketball 91    91    81   78  male   jaipur \n",
       "2 b    foot       75    65    66   82  male   up     \n",
       "3 c    cri        40    59    95   60  female ajmer  \n",
       "4 d    cri        58    82    76   69  male   up     \n",
       "5 e    foot       81    81    65   63  female up     \n",
       "6 f    cri        89    60    77   76  male   ajmer  \n",
       "7 g    basketball 83    57    51   78  male   ajmer  "
      ]
     },
     "metadata": {},
     "output_type": "display_data"
    }
   ],
   "source": [
    "merge(d1,df,by = 'name')"
   ]
  },
  {
   "cell_type": "code",
   "execution_count": 78,
   "metadata": {},
   "outputs": [
    {
     "name": "stderr",
     "output_type": "stream",
     "text": [
      "Installing package into 'C:/Users/91911/Documents/R/win-library/3.6'\n",
      "(as 'lib' is unspecified)\n"
     ]
    },
    {
     "name": "stdout",
     "output_type": "stream",
     "text": [
      "package 'ggplot2' successfully unpacked and MD5 sums checked\n",
      "\n",
      "The downloaded binary packages are in\n",
      "\tC:\\Users\\91911\\AppData\\Local\\Temp\\Rtmp4KyWCz\\downloaded_packages\n"
     ]
    }
   ],
   "source": [
    "install.packages(\"ggplot2\")"
   ]
  },
  {
   "cell_type": "code",
   "execution_count": 79,
   "metadata": {},
   "outputs": [
    {
     "name": "stderr",
     "output_type": "stream",
     "text": [
      "Installing package into 'C:/Users/91911/Documents/R/win-library/3.6'\n",
      "(as 'lib' is unspecified)\n"
     ]
    },
    {
     "name": "stdout",
     "output_type": "stream",
     "text": [
      "package 'reshape2' successfully unpacked and MD5 sums checked\n",
      "\n",
      "The downloaded binary packages are in\n",
      "\tC:\\Users\\91911\\AppData\\Local\\Temp\\Rtmp4KyWCz\\downloaded_packages\n"
     ]
    }
   ],
   "source": [
    "install.packages(\"reshape2\")"
   ]
  },
  {
   "cell_type": "code",
   "execution_count": 1,
   "metadata": {},
   "outputs": [
    {
     "name": "stderr",
     "output_type": "stream",
     "text": [
      "Installing package into 'C:/Users/91911/Documents/R/win-library/3.6'\n",
      "(as 'lib' is unspecified)\n",
      "also installing the dependencies 'RSQLite', 'chron'\n",
      "\n"
     ]
    },
    {
     "name": "stdout",
     "output_type": "stream",
     "text": [
      "package 'RSQLite' successfully unpacked and MD5 sums checked\n",
      "package 'chron' successfully unpacked and MD5 sums checked\n",
      "package 'sqldf' successfully unpacked and MD5 sums checked\n",
      "\n",
      "The downloaded binary packages are in\n",
      "\tC:\\Users\\91911\\AppData\\Local\\Temp\\RtmpEbStIv\\downloaded_packages\n"
     ]
    }
   ],
   "source": [
    "install.packages(\"sqldf\")"
   ]
  },
  {
   "cell_type": "code",
   "execution_count": 2,
   "metadata": {},
   "outputs": [
    {
     "name": "stderr",
     "output_type": "stream",
     "text": [
      "Installing package into 'C:/Users/91911/Documents/R/win-library/3.6'\n",
      "(as 'lib' is unspecified)\n",
      "also installing the dependency 'rlang'\n",
      "\n"
     ]
    },
    {
     "name": "stdout",
     "output_type": "stream",
     "text": [
      "package 'rlang' successfully unpacked and MD5 sums checked\n",
      "package 'dplyr' successfully unpacked and MD5 sums checked\n",
      "\n",
      "The downloaded binary packages are in\n",
      "\tC:\\Users\\91911\\AppData\\Local\\Temp\\RtmpEbStIv\\downloaded_packages\n"
     ]
    }
   ],
   "source": [
    "install.packages(\"dplyr\")"
   ]
  },
  {
   "cell_type": "code",
   "execution_count": 80,
   "metadata": {},
   "outputs": [
    {
     "name": "stderr",
     "output_type": "stream",
     "text": [
      "Installing packages into 'C:/Users/91911/Documents/R/win-library/3.6'\n",
      "(as 'lib' is unspecified)\n",
      "also installing the dependencies 'ellipsis', 'zeallot', 'bit', 'vctrs', 'bit64', 'blob', 'memoise', 'gsubfn', 'proto', 'RSQLite', 'chron', 'rlang'\n",
      "\n",
      "Warning message in download.file(url, destfile, method, mode = \"wb\", ...):\n",
      "\"downloaded length 1622016 != reported length 2265764\"Warning message in download.file(url, destfile, method, mode = \"wb\", ...):\n",
      "\"InternetOpenUrl failed: 'The server name or address could not be resolved'\""
     ]
    },
    {
     "name": "stdout",
     "output_type": "stream",
     "text": [
      "Error in download.file(url, destfile, method, mode = \"wb\", ...) : \n",
      "  cannot open URL 'https://cran.r-project.org/bin/windows/contrib/3.6/chron_2.3-53.zip'\n"
     ]
    },
    {
     "name": "stderr",
     "output_type": "stream",
     "text": [
      "Warning message in download.packages(pkgs, destdir = tmpd, available = available, :\n",
      "\"download of package 'chron' failed\"Warning message in download.file(url, destfile, method, mode = \"wb\", ...):\n",
      "\"InternetOpenUrl failed: 'The server name or address could not be resolved'\""
     ]
    },
    {
     "name": "stdout",
     "output_type": "stream",
     "text": [
      "Error in download.file(url, destfile, method, mode = \"wb\", ...) : \n",
      "  cannot open URL 'https://cran.r-project.org/bin/windows/contrib/3.6/rlang_0.4.0.zip'\n"
     ]
    },
    {
     "name": "stderr",
     "output_type": "stream",
     "text": [
      "Warning message in download.packages(pkgs, destdir = tmpd, available = available, :\n",
      "\"download of package 'rlang' failed\"Warning message in download.file(url, destfile, method, mode = \"wb\", ...):\n",
      "\"InternetOpenUrl failed: 'The server name or address could not be resolved'\""
     ]
    },
    {
     "name": "stdout",
     "output_type": "stream",
     "text": [
      "Error in download.file(url, destfile, method, mode = \"wb\", ...) : \n",
      "  cannot open URL 'https://cran.r-project.org/bin/windows/contrib/3.6/tidyr_0.8.3.zip'\n"
     ]
    },
    {
     "name": "stderr",
     "output_type": "stream",
     "text": [
      "Warning message in download.packages(pkgs, destdir = tmpd, available = available, :\n",
      "\"download of package 'tidyr' failed\"Warning message in download.file(url, destfile, method, mode = \"wb\", ...):\n",
      "\"InternetOpenUrl failed: 'The server name or address could not be resolved'\""
     ]
    },
    {
     "name": "stdout",
     "output_type": "stream",
     "text": [
      "Error in download.file(url, destfile, method, mode = \"wb\", ...) : \n",
      "  cannot open URL 'https://cran.r-project.org/bin/windows/contrib/3.6/sqldf_0.4-11.zip'\n"
     ]
    },
    {
     "name": "stderr",
     "output_type": "stream",
     "text": [
      "Warning message in download.packages(pkgs, destdir = tmpd, available = available, :\n",
      "\"download of package 'sqldf' failed\"Warning message in download.file(url, destfile, method, mode = \"wb\", ...):\n",
      "\"InternetOpenUrl failed: 'The server name or address could not be resolved'\""
     ]
    },
    {
     "name": "stdout",
     "output_type": "stream",
     "text": [
      "Error in download.file(url, destfile, method, mode = \"wb\", ...) : \n",
      "  cannot open URL 'https://cran.r-project.org/bin/windows/contrib/3.6/dplyr_0.8.3.zip'\n"
     ]
    },
    {
     "name": "stderr",
     "output_type": "stream",
     "text": [
      "Warning message in download.packages(pkgs, destdir = tmpd, available = available, :\n",
      "\"download of package 'dplyr' failed\""
     ]
    },
    {
     "name": "stdout",
     "output_type": "stream",
     "text": [
      "package 'ellipsis' successfully unpacked and MD5 sums checked\n",
      "package 'zeallot' successfully unpacked and MD5 sums checked\n",
      "package 'bit' successfully unpacked and MD5 sums checked\n",
      "package 'vctrs' successfully unpacked and MD5 sums checked\n",
      "package 'bit64' successfully unpacked and MD5 sums checked\n",
      "package 'blob' successfully unpacked and MD5 sums checked\n",
      "package 'memoise' successfully unpacked and MD5 sums checked\n",
      "package 'gsubfn' successfully unpacked and MD5 sums checked\n",
      "package 'proto' successfully unpacked and MD5 sums checked\n"
     ]
    },
    {
     "name": "stderr",
     "output_type": "stream",
     "text": [
      "Warning message in unzip(zipname, exdir = dest):\n",
      "\"error 1 in extracting from zip file\"Warning message in read.dcf(file.path(pkgname, \"DESCRIPTION\"), c(\"Package\", \"Type\")):\n",
      "\"cannot open compressed file 'RSQLite/DESCRIPTION', probable reason 'No such file or directory'\""
     ]
    },
    {
     "ename": "ERROR",
     "evalue": "Error in read.dcf(file.path(pkgname, \"DESCRIPTION\"), c(\"Package\", \"Type\")): cannot open the connection\n",
     "output_type": "error",
     "traceback": [
      "Error in read.dcf(file.path(pkgname, \"DESCRIPTION\"), c(\"Package\", \"Type\")): cannot open the connection\nTraceback:\n",
      "1. install.packages(c(\"tidyr\", \"sqldf\", \"dplyr\"))",
      "2. .install.winbinary(pkgs = bins, lib = lib, contriburl = contrib.url(repos, \n .     type2), method = method, available = av2, destdir = destdir, \n .     dependencies = NULL, libs_only = libs_only, quiet = quiet, \n .     ...)",
      "3. unpackPkgZip(foundpkgs[okp, 2L], foundpkgs[okp, 1L], lib, libs_only, \n .     lock)",
      "4. read.dcf(file.path(pkgname, \"DESCRIPTION\"), c(\"Package\", \"Type\"))"
     ]
    }
   ],
   "source": [
    "install.packages(c(\"tidyr\",'sqldf','dplyr'))"
   ]
  },
  {
   "cell_type": "code",
   "execution_count": null,
   "metadata": {},
   "outputs": [],
   "source": []
  },
  {
   "cell_type": "code",
   "execution_count": 81,
   "metadata": {},
   "outputs": [],
   "source": [
    "library(ggplot2)"
   ]
  },
  {
   "cell_type": "code",
   "execution_count": 82,
   "metadata": {},
   "outputs": [
    {
     "data": {
      "text/html": [
       "<table>\n",
       "<thead><tr><th scope=col>manufacturer</th><th scope=col>model</th><th scope=col>displ</th><th scope=col>year</th><th scope=col>cyl</th><th scope=col>trans</th><th scope=col>drv</th><th scope=col>cty</th><th scope=col>hwy</th><th scope=col>fl</th><th scope=col>class</th></tr></thead>\n",
       "<tbody>\n",
       "\t<tr><td>audi      </td><td>a4        </td><td>1.8       </td><td>1999      </td><td>4         </td><td>auto(l5)  </td><td>f         </td><td>18        </td><td>29        </td><td>p         </td><td>compact   </td></tr>\n",
       "\t<tr><td>audi      </td><td>a4        </td><td>1.8       </td><td>1999      </td><td>4         </td><td>manual(m5)</td><td>f         </td><td>21        </td><td>29        </td><td>p         </td><td>compact   </td></tr>\n",
       "\t<tr><td>audi      </td><td>a4        </td><td>2.0       </td><td>2008      </td><td>4         </td><td>manual(m6)</td><td>f         </td><td>20        </td><td>31        </td><td>p         </td><td>compact   </td></tr>\n",
       "\t<tr><td>audi      </td><td>a4        </td><td>2.0       </td><td>2008      </td><td>4         </td><td>auto(av)  </td><td>f         </td><td>21        </td><td>30        </td><td>p         </td><td>compact   </td></tr>\n",
       "\t<tr><td>audi      </td><td>a4        </td><td>2.8       </td><td>1999      </td><td>6         </td><td>auto(l5)  </td><td>f         </td><td>16        </td><td>26        </td><td>p         </td><td>compact   </td></tr>\n",
       "\t<tr><td>audi      </td><td>a4        </td><td>2.8       </td><td>1999      </td><td>6         </td><td>manual(m5)</td><td>f         </td><td>18        </td><td>26        </td><td>p         </td><td>compact   </td></tr>\n",
       "</tbody>\n",
       "</table>\n"
      ],
      "text/latex": [
       "\\begin{tabular}{r|lllllllllll}\n",
       " manufacturer & model & displ & year & cyl & trans & drv & cty & hwy & fl & class\\\\\n",
       "\\hline\n",
       "\t audi       & a4         & 1.8        & 1999       & 4          & auto(l5)   & f          & 18         & 29         & p          & compact   \\\\\n",
       "\t audi       & a4         & 1.8        & 1999       & 4          & manual(m5) & f          & 21         & 29         & p          & compact   \\\\\n",
       "\t audi       & a4         & 2.0        & 2008       & 4          & manual(m6) & f          & 20         & 31         & p          & compact   \\\\\n",
       "\t audi       & a4         & 2.0        & 2008       & 4          & auto(av)   & f          & 21         & 30         & p          & compact   \\\\\n",
       "\t audi       & a4         & 2.8        & 1999       & 6          & auto(l5)   & f          & 16         & 26         & p          & compact   \\\\\n",
       "\t audi       & a4         & 2.8        & 1999       & 6          & manual(m5) & f          & 18         & 26         & p          & compact   \\\\\n",
       "\\end{tabular}\n"
      ],
      "text/markdown": [
       "\n",
       "| manufacturer | model | displ | year | cyl | trans | drv | cty | hwy | fl | class |\n",
       "|---|---|---|---|---|---|---|---|---|---|---|\n",
       "| audi       | a4         | 1.8        | 1999       | 4          | auto(l5)   | f          | 18         | 29         | p          | compact    |\n",
       "| audi       | a4         | 1.8        | 1999       | 4          | manual(m5) | f          | 21         | 29         | p          | compact    |\n",
       "| audi       | a4         | 2.0        | 2008       | 4          | manual(m6) | f          | 20         | 31         | p          | compact    |\n",
       "| audi       | a4         | 2.0        | 2008       | 4          | auto(av)   | f          | 21         | 30         | p          | compact    |\n",
       "| audi       | a4         | 2.8        | 1999       | 6          | auto(l5)   | f          | 16         | 26         | p          | compact    |\n",
       "| audi       | a4         | 2.8        | 1999       | 6          | manual(m5) | f          | 18         | 26         | p          | compact    |\n",
       "\n"
      ],
      "text/plain": [
       "  manufacturer model displ year cyl trans      drv cty hwy fl class  \n",
       "1 audi         a4    1.8   1999 4   auto(l5)   f   18  29  p  compact\n",
       "2 audi         a4    1.8   1999 4   manual(m5) f   21  29  p  compact\n",
       "3 audi         a4    2.0   2008 4   manual(m6) f   20  31  p  compact\n",
       "4 audi         a4    2.0   2008 4   auto(av)   f   21  30  p  compact\n",
       "5 audi         a4    2.8   1999 6   auto(l5)   f   16  26  p  compact\n",
       "6 audi         a4    2.8   1999 6   manual(m5) f   18  26  p  compact"
      ]
     },
     "metadata": {},
     "output_type": "display_data"
    }
   ],
   "source": [
    "head(mpg)"
   ]
  },
  {
   "cell_type": "code",
   "execution_count": 84,
   "metadata": {},
   "outputs": [
    {
     "data": {
      "image/png": "[encoded data removed]",
      "text/plain": [
       "plot without title"
      ]
     },
     "metadata": {},
     "output_type": "display_data"
    }
   ],
   "source": [
    "ggplot(mpg)+geom_histogram(mapping = aes(x=hwy),bins = 30)"
   ]
  },
  {
   "cell_type": "code",
   "execution_count": 88,
   "metadata": {},
   "outputs": [
    {
     "data": {
      "image/png": "[encoded data removed]",
      "text/plain": [
       "plot without title"
      ]
     },
     "metadata": {},
     "output_type": "display_data"
    }
   ],
   "source": [
    "ggplot(mpg)+geom_point(mapping = aes(x=displ,y=hwy),size=4)"
   ]
  },
  {
   "cell_type": "code",
   "execution_count": 94,
   "metadata": {},
   "outputs": [
    {
     "data": {
      "image/png": "[encoded data removed]",
      "text/plain": [
       "plot without title"
      ]
     },
     "metadata": {},
     "output_type": "display_data"
    }
   ],
   "source": [
    "ggplot(mpg)+geom_point(mapping = aes(x=displ,y=hwy,color=class),size=4)"
   ]
  },
  {
   "cell_type": "code",
   "execution_count": 96,
   "metadata": {},
   "outputs": [
    {
     "data": {
      "image/png": "[encoded data removed]",
      "text/plain": [
       "plot without title"
      ]
     },
     "metadata": {},
     "output_type": "display_data"
    }
   ],
   "source": [
    "ggplot(mpg)+geom_point(mapping = aes(x=displ,y=hwy,color=manufacturer),size=2)"
   ]
  },
  {
   "cell_type": "code",
   "execution_count": 1,
   "metadata": {},
   "outputs": [
    {
     "data": {
      "text/html": [
       "'E:/Batch1pm/R language'"
      ],
      "text/latex": [
       "'E:/Batch1pm/R language'"
      ],
      "text/markdown": [
       "'E:/Batch1pm/R language'"
      ],
      "text/plain": [
       "[1] \"E:/Batch1pm/R language\""
      ]
     },
     "metadata": {},
     "output_type": "display_data"
    }
   ],
   "source": [
    "getwd()"
   ]
  },
  {
   "cell_type": "code",
   "execution_count": 2,
   "metadata": {},
   "outputs": [],
   "source": [
    "df = read.csv(\"h1b_kaggle.csv\")"
   ]
  },
  {
   "cell_type": "code",
   "execution_count": 3,
   "metadata": {},
   "outputs": [
    {
     "data": {
      "text/html": [
       "<table>\n",
       "<thead><tr><th scope=col>X</th><th scope=col>CASE_STATUS</th><th scope=col>EMPLOYER_NAME</th><th scope=col>SOC_NAME</th><th scope=col>JOB_TITLE</th><th scope=col>FULL_TIME_POSITION</th><th scope=col>PREVAILING_WAGE</th><th scope=col>YEAR</th><th scope=col>WORKSITE</th><th scope=col>lon</th><th scope=col>lat</th></tr></thead>\n",
       "<tbody>\n",
       "\t<tr><td>1                                                           </td><td>CERTIFIED-WITHDRAWN                                         </td><td>UNIVERSITY OF MICHIGAN                                      </td><td>BIOCHEMISTS AND BIOPHYSICISTS                               </td><td>POSTDOCTORAL RESEARCH FELLOW                                </td><td>N                                                           </td><td> 36067.0                                                    </td><td>2016                                                        </td><td>ANN ARBOR, MICHIGAN                                         </td><td> -83.74304                                                  </td><td>42.28083                                                    </td></tr>\n",
       "\t<tr><td>2                                                           </td><td>CERTIFIED-WITHDRAWN                                         </td><td>GOODMAN NETWORKS, INC.                                      </td><td>CHIEF EXECUTIVES                                            </td><td>CHIEF OPERATING OFFICER                                     </td><td>Y                                                           </td><td>242674.0                                                    </td><td>2016                                                        </td><td>PLANO, TEXAS                                                </td><td> -96.69889                                                  </td><td>33.01984                                                    </td></tr>\n",
       "\t<tr><td>3                                                           </td><td>CERTIFIED-WITHDRAWN                                         </td><td>PORTS AMERICA GROUP, INC.                                   </td><td>CHIEF EXECUTIVES                                            </td><td>CHIEF PROCESS OFFICER                                       </td><td>Y                                                           </td><td>193066.0                                                    </td><td>2016                                                        </td><td>JERSEY CITY, NEW JERSEY                                     </td><td> -74.07764                                                  </td><td>40.72816                                                    </td></tr>\n",
       "\t<tr><td>4                                                           </td><td>CERTIFIED-WITHDRAWN                                         </td><td>GATES CORPORATION, A WHOLLY-OWNED SUBSIDIARY OF TOMKINS PLC </td><td>CHIEF EXECUTIVES                                            </td><td>REGIONAL PRESIDEN, AMERICAS                                 </td><td>Y                                                           </td><td>220314.0                                                    </td><td>2016                                                        </td><td>DENVER, COLORADO                                            </td><td>-104.99025                                                  </td><td>39.73924                                                    </td></tr>\n",
       "\t<tr><td>5                                                           </td><td>WITHDRAWN                                                   </td><td>PEABODY INVESTMENTS CORP.                                   </td><td>CHIEF EXECUTIVES                                            </td><td>PRESIDENT MONGOLIA AND INDIA                                </td><td>Y                                                           </td><td>157518.4                                                    </td><td>2016                                                        </td><td>ST. LOUIS, MISSOURI                                         </td><td> -90.19940                                                  </td><td>38.62700                                                    </td></tr>\n",
       "\t<tr><td>6                                                           </td><td>CERTIFIED-WITHDRAWN                                         </td><td>BURGER KING CORPORATION                                     </td><td>CHIEF EXECUTIVES                                            </td><td>EXECUTIVE V P, GLOBAL DEVELOPMENT AND PRESIDENT, LATIN AMERI</td><td>Y                                                           </td><td>225000.0                                                    </td><td>2016                                                        </td><td>MIAMI, FLORIDA                                              </td><td> -80.19179                                                  </td><td>25.76168                                                    </td></tr>\n",
       "</tbody>\n",
       "</table>\n"
      ],
      "text/latex": [
       "\\begin{tabular}{r|lllllllllll}\n",
       " X & CASE\\_STATUS & EMPLOYER\\_NAME & SOC\\_NAME & JOB\\_TITLE & FULL\\_TIME\\_POSITION & PREVAILING\\_WAGE & YEAR & WORKSITE & lon & lat\\\\\n",
       "\\hline\n",
       "\t 1                                                            & CERTIFIED-WITHDRAWN                                          & UNIVERSITY OF MICHIGAN                                       & BIOCHEMISTS AND BIOPHYSICISTS                                & POSTDOCTORAL RESEARCH FELLOW                                 & N                                                            &  36067.0                                                     & 2016                                                         & ANN ARBOR, MICHIGAN                                          &  -83.74304                                                   & 42.28083                                                    \\\\\n",
       "\t 2                                                            & CERTIFIED-WITHDRAWN                                          & GOODMAN NETWORKS, INC.                                       & CHIEF EXECUTIVES                                             & CHIEF OPERATING OFFICER                                      & Y                                                            & 242674.0                                                     & 2016                                                         & PLANO, TEXAS                                                 &  -96.69889                                                   & 33.01984                                                    \\\\\n",
       "\t 3                                                            & CERTIFIED-WITHDRAWN                                          & PORTS AMERICA GROUP, INC.                                    & CHIEF EXECUTIVES                                             & CHIEF PROCESS OFFICER                                        & Y                                                            & 193066.0                                                     & 2016                                                         & JERSEY CITY, NEW JERSEY                                      &  -74.07764                                                   & 40.72816                                                    \\\\\n",
       "\t 4                                                            & CERTIFIED-WITHDRAWN                                          & GATES CORPORATION, A WHOLLY-OWNED SUBSIDIARY OF TOMKINS PLC  & CHIEF EXECUTIVES                                             & REGIONAL PRESIDEN, AMERICAS                                  & Y                                                            & 220314.0                                                     & 2016                                                         & DENVER, COLORADO                                             & -104.99025                                                   & 39.73924                                                    \\\\\n",
       "\t 5                                                            & WITHDRAWN                                                    & PEABODY INVESTMENTS CORP.                                    & CHIEF EXECUTIVES                                             & PRESIDENT MONGOLIA AND INDIA                                 & Y                                                            & 157518.4                                                     & 2016                                                         & ST. LOUIS, MISSOURI                                          &  -90.19940                                                   & 38.62700                                                    \\\\\n",
       "\t 6                                                            & CERTIFIED-WITHDRAWN                                          & BURGER KING CORPORATION                                      & CHIEF EXECUTIVES                                             & EXECUTIVE V P, GLOBAL DEVELOPMENT AND PRESIDENT, LATIN AMERI & Y                                                            & 225000.0                                                     & 2016                                                         & MIAMI, FLORIDA                                               &  -80.19179                                                   & 25.76168                                                    \\\\\n",
       "\\end{tabular}\n"
      ],
      "text/markdown": [
       "\n",
       "| X | CASE_STATUS | EMPLOYER_NAME | SOC_NAME | JOB_TITLE | FULL_TIME_POSITION | PREVAILING_WAGE | YEAR | WORKSITE | lon | lat |\n",
       "|---|---|---|---|---|---|---|---|---|---|---|\n",
       "| 1                                                            | CERTIFIED-WITHDRAWN                                          | UNIVERSITY OF MICHIGAN                                       | BIOCHEMISTS AND BIOPHYSICISTS                                | POSTDOCTORAL RESEARCH FELLOW                                 | N                                                            |  36067.0                                                     | 2016                                                         | ANN ARBOR, MICHIGAN                                          |  -83.74304                                                   | 42.28083                                                     |\n",
       "| 2                                                            | CERTIFIED-WITHDRAWN                                          | GOODMAN NETWORKS, INC.                                       | CHIEF EXECUTIVES                                             | CHIEF OPERATING OFFICER                                      | Y                                                            | 242674.0                                                     | 2016                                                         | PLANO, TEXAS                                                 |  -96.69889                                                   | 33.01984                                                     |\n",
       "| 3                                                            | CERTIFIED-WITHDRAWN                                          | PORTS AMERICA GROUP, INC.                                    | CHIEF EXECUTIVES                                             | CHIEF PROCESS OFFICER                                        | Y                                                            | 193066.0                                                     | 2016                                                         | JERSEY CITY, NEW JERSEY                                      |  -74.07764                                                   | 40.72816                                                     |\n",
       "| 4                                                            | CERTIFIED-WITHDRAWN                                          | GATES CORPORATION, A WHOLLY-OWNED SUBSIDIARY OF TOMKINS PLC  | CHIEF EXECUTIVES                                             | REGIONAL PRESIDEN, AMERICAS                                  | Y                                                            | 220314.0                                                     | 2016                                                         | DENVER, COLORADO                                             | -104.99025                                                   | 39.73924                                                     |\n",
       "| 5                                                            | WITHDRAWN                                                    | PEABODY INVESTMENTS CORP.                                    | CHIEF EXECUTIVES                                             | PRESIDENT MONGOLIA AND INDIA                                 | Y                                                            | 157518.4                                                     | 2016                                                         | ST. LOUIS, MISSOURI                                          |  -90.19940                                                   | 38.62700                                                     |\n",
       "| 6                                                            | CERTIFIED-WITHDRAWN                                          | BURGER KING CORPORATION                                      | CHIEF EXECUTIVES                                             | EXECUTIVE V P, GLOBAL DEVELOPMENT AND PRESIDENT, LATIN AMERI | Y                                                            | 225000.0                                                     | 2016                                                         | MIAMI, FLORIDA                                               |  -80.19179                                                   | 25.76168                                                     |\n",
       "\n"
      ],
      "text/plain": [
       "  X CASE_STATUS        \n",
       "1 1 CERTIFIED-WITHDRAWN\n",
       "2 2 CERTIFIED-WITHDRAWN\n",
       "3 3 CERTIFIED-WITHDRAWN\n",
       "4 4 CERTIFIED-WITHDRAWN\n",
       "5 5 WITHDRAWN          \n",
       "6 6 CERTIFIED-WITHDRAWN\n",
       "  EMPLOYER_NAME                                              \n",
       "1 UNIVERSITY OF MICHIGAN                                     \n",
       "2 GOODMAN NETWORKS, INC.                                     \n",
       "3 PORTS AMERICA GROUP, INC.                                  \n",
       "4 GATES CORPORATION, A WHOLLY-OWNED SUBSIDIARY OF TOMKINS PLC\n",
       "5 PEABODY INVESTMENTS CORP.                                  \n",
       "6 BURGER KING CORPORATION                                    \n",
       "  SOC_NAME                     \n",
       "1 BIOCHEMISTS AND BIOPHYSICISTS\n",
       "2 CHIEF EXECUTIVES             \n",
       "3 CHIEF EXECUTIVES             \n",
       "4 CHIEF EXECUTIVES             \n",
       "5 CHIEF EXECUTIVES             \n",
       "6 CHIEF EXECUTIVES             \n",
       "  JOB_TITLE                                                   \n",
       "1 POSTDOCTORAL RESEARCH FELLOW                                \n",
       "2 CHIEF OPERATING OFFICER                                     \n",
       "3 CHIEF PROCESS OFFICER                                       \n",
       "4 REGIONAL PRESIDEN, AMERICAS                                 \n",
       "5 PRESIDENT MONGOLIA AND INDIA                                \n",
       "6 EXECUTIVE V P, GLOBAL DEVELOPMENT AND PRESIDENT, LATIN AMERI\n",
       "  FULL_TIME_POSITION PREVAILING_WAGE YEAR WORKSITE                lon       \n",
       "1 N                   36067.0        2016 ANN ARBOR, MICHIGAN      -83.74304\n",
       "2 Y                  242674.0        2016 PLANO, TEXAS             -96.69889\n",
       "3 Y                  193066.0        2016 JERSEY CITY, NEW JERSEY  -74.07764\n",
       "4 Y                  220314.0        2016 DENVER, COLORADO        -104.99025\n",
       "5 Y                  157518.4        2016 ST. LOUIS, MISSOURI      -90.19940\n",
       "6 Y                  225000.0        2016 MIAMI, FLORIDA           -80.19179\n",
       "  lat     \n",
       "1 42.28083\n",
       "2 33.01984\n",
       "3 40.72816\n",
       "4 39.73924\n",
       "5 38.62700\n",
       "6 25.76168"
      ]
     },
     "metadata": {},
     "output_type": "display_data"
    }
   ],
   "source": [
    "head(df)"
   ]
  },
  {
   "cell_type": "code",
   "execution_count": null,
   "metadata": {},
   "outputs": [],
   "source": [
    "table(df$EMPLOYER_NAME)"
   ]
  },
  {
   "cell_type": "code",
   "execution_count": 1,
   "metadata": {},
   "outputs": [],
   "source": [
    "library(ggplot2)"
   ]
  },
  {
   "cell_type": "code",
   "execution_count": 2,
   "metadata": {},
   "outputs": [
    {
     "data": {
      "text/html": [
       "<table>\n",
       "<thead><tr><th scope=col>manufacturer</th><th scope=col>model</th><th scope=col>displ</th><th scope=col>year</th><th scope=col>cyl</th><th scope=col>trans</th><th scope=col>drv</th><th scope=col>cty</th><th scope=col>hwy</th><th scope=col>fl</th><th scope=col>class</th></tr></thead>\n",
       "<tbody>\n",
       "\t<tr><td>audi      </td><td>a4        </td><td>1.8       </td><td>1999      </td><td>4         </td><td>auto(l5)  </td><td>f         </td><td>18        </td><td>29        </td><td>p         </td><td>compact   </td></tr>\n",
       "\t<tr><td>audi      </td><td>a4        </td><td>1.8       </td><td>1999      </td><td>4         </td><td>manual(m5)</td><td>f         </td><td>21        </td><td>29        </td><td>p         </td><td>compact   </td></tr>\n",
       "\t<tr><td>audi      </td><td>a4        </td><td>2.0       </td><td>2008      </td><td>4         </td><td>manual(m6)</td><td>f         </td><td>20        </td><td>31        </td><td>p         </td><td>compact   </td></tr>\n",
       "\t<tr><td>audi      </td><td>a4        </td><td>2.0       </td><td>2008      </td><td>4         </td><td>auto(av)  </td><td>f         </td><td>21        </td><td>30        </td><td>p         </td><td>compact   </td></tr>\n",
       "\t<tr><td>audi      </td><td>a4        </td><td>2.8       </td><td>1999      </td><td>6         </td><td>auto(l5)  </td><td>f         </td><td>16        </td><td>26        </td><td>p         </td><td>compact   </td></tr>\n",
       "\t<tr><td>audi      </td><td>a4        </td><td>2.8       </td><td>1999      </td><td>6         </td><td>manual(m5)</td><td>f         </td><td>18        </td><td>26        </td><td>p         </td><td>compact   </td></tr>\n",
       "</tbody>\n",
       "</table>\n"
      ],
      "text/latex": [
       "\\begin{tabular}{r|lllllllllll}\n",
       " manufacturer & model & displ & year & cyl & trans & drv & cty & hwy & fl & class\\\\\n",
       "\\hline\n",
       "\t audi       & a4         & 1.8        & 1999       & 4          & auto(l5)   & f          & 18         & 29         & p          & compact   \\\\\n",
       "\t audi       & a4         & 1.8        & 1999       & 4          & manual(m5) & f          & 21         & 29         & p          & compact   \\\\\n",
       "\t audi       & a4         & 2.0        & 2008       & 4          & manual(m6) & f          & 20         & 31         & p          & compact   \\\\\n",
       "\t audi       & a4         & 2.0        & 2008       & 4          & auto(av)   & f          & 21         & 30         & p          & compact   \\\\\n",
       "\t audi       & a4         & 2.8        & 1999       & 6          & auto(l5)   & f          & 16         & 26         & p          & compact   \\\\\n",
       "\t audi       & a4         & 2.8        & 1999       & 6          & manual(m5) & f          & 18         & 26         & p          & compact   \\\\\n",
       "\\end{tabular}\n"
      ],
      "text/markdown": [
       "\n",
       "| manufacturer | model | displ | year | cyl | trans | drv | cty | hwy | fl | class |\n",
       "|---|---|---|---|---|---|---|---|---|---|---|\n",
       "| audi       | a4         | 1.8        | 1999       | 4          | auto(l5)   | f          | 18         | 29         | p          | compact    |\n",
       "| audi       | a4         | 1.8        | 1999       | 4          | manual(m5) | f          | 21         | 29         | p          | compact    |\n",
       "| audi       | a4         | 2.0        | 2008       | 4          | manual(m6) | f          | 20         | 31         | p          | compact    |\n",
       "| audi       | a4         | 2.0        | 2008       | 4          | auto(av)   | f          | 21         | 30         | p          | compact    |\n",
       "| audi       | a4         | 2.8        | 1999       | 6          | auto(l5)   | f          | 16         | 26         | p          | compact    |\n",
       "| audi       | a4         | 2.8        | 1999       | 6          | manual(m5) | f          | 18         | 26         | p          | compact    |\n",
       "\n"
      ],
      "text/plain": [
       "  manufacturer model displ year cyl trans      drv cty hwy fl class  \n",
       "1 audi         a4    1.8   1999 4   auto(l5)   f   18  29  p  compact\n",
       "2 audi         a4    1.8   1999 4   manual(m5) f   21  29  p  compact\n",
       "3 audi         a4    2.0   2008 4   manual(m6) f   20  31  p  compact\n",
       "4 audi         a4    2.0   2008 4   auto(av)   f   21  30  p  compact\n",
       "5 audi         a4    2.8   1999 6   auto(l5)   f   16  26  p  compact\n",
       "6 audi         a4    2.8   1999 6   manual(m5) f   18  26  p  compact"
      ]
     },
     "metadata": {},
     "output_type": "display_data"
    }
   ],
   "source": [
    "head(mpg)"
   ]
  },
  {
   "cell_type": "code",
   "execution_count": 3,
   "metadata": {},
   "outputs": [],
   "source": [
    "df = mpg"
   ]
  },
  {
   "cell_type": "code",
   "execution_count": 4,
   "metadata": {},
   "outputs": [
    {
     "data": {
      "text/html": [
       "<table>\n",
       "<thead><tr><th scope=col>manufacturer</th><th scope=col>model</th><th scope=col>displ</th><th scope=col>year</th><th scope=col>cyl</th><th scope=col>trans</th><th scope=col>drv</th><th scope=col>cty</th><th scope=col>hwy</th><th scope=col>fl</th><th scope=col>class</th></tr></thead>\n",
       "<tbody>\n",
       "\t<tr><td>audi      </td><td>a4        </td><td>1.8       </td><td>1999      </td><td>4         </td><td>auto(l5)  </td><td>f         </td><td>18        </td><td>29        </td><td>p         </td><td>compact   </td></tr>\n",
       "\t<tr><td>audi      </td><td>a4        </td><td>1.8       </td><td>1999      </td><td>4         </td><td>manual(m5)</td><td>f         </td><td>21        </td><td>29        </td><td>p         </td><td>compact   </td></tr>\n",
       "\t<tr><td>audi      </td><td>a4        </td><td>2.0       </td><td>2008      </td><td>4         </td><td>manual(m6)</td><td>f         </td><td>20        </td><td>31        </td><td>p         </td><td>compact   </td></tr>\n",
       "\t<tr><td>audi      </td><td>a4        </td><td>2.0       </td><td>2008      </td><td>4         </td><td>auto(av)  </td><td>f         </td><td>21        </td><td>30        </td><td>p         </td><td>compact   </td></tr>\n",
       "\t<tr><td>audi      </td><td>a4        </td><td>2.8       </td><td>1999      </td><td>6         </td><td>auto(l5)  </td><td>f         </td><td>16        </td><td>26        </td><td>p         </td><td>compact   </td></tr>\n",
       "\t<tr><td>audi      </td><td>a4        </td><td>2.8       </td><td>1999      </td><td>6         </td><td>manual(m5)</td><td>f         </td><td>18        </td><td>26        </td><td>p         </td><td>compact   </td></tr>\n",
       "</tbody>\n",
       "</table>\n"
      ],
      "text/latex": [
       "\\begin{tabular}{r|lllllllllll}\n",
       " manufacturer & model & displ & year & cyl & trans & drv & cty & hwy & fl & class\\\\\n",
       "\\hline\n",
       "\t audi       & a4         & 1.8        & 1999       & 4          & auto(l5)   & f          & 18         & 29         & p          & compact   \\\\\n",
       "\t audi       & a4         & 1.8        & 1999       & 4          & manual(m5) & f          & 21         & 29         & p          & compact   \\\\\n",
       "\t audi       & a4         & 2.0        & 2008       & 4          & manual(m6) & f          & 20         & 31         & p          & compact   \\\\\n",
       "\t audi       & a4         & 2.0        & 2008       & 4          & auto(av)   & f          & 21         & 30         & p          & compact   \\\\\n",
       "\t audi       & a4         & 2.8        & 1999       & 6          & auto(l5)   & f          & 16         & 26         & p          & compact   \\\\\n",
       "\t audi       & a4         & 2.8        & 1999       & 6          & manual(m5) & f          & 18         & 26         & p          & compact   \\\\\n",
       "\\end{tabular}\n"
      ],
      "text/markdown": [
       "\n",
       "| manufacturer | model | displ | year | cyl | trans | drv | cty | hwy | fl | class |\n",
       "|---|---|---|---|---|---|---|---|---|---|---|\n",
       "| audi       | a4         | 1.8        | 1999       | 4          | auto(l5)   | f          | 18         | 29         | p          | compact    |\n",
       "| audi       | a4         | 1.8        | 1999       | 4          | manual(m5) | f          | 21         | 29         | p          | compact    |\n",
       "| audi       | a4         | 2.0        | 2008       | 4          | manual(m6) | f          | 20         | 31         | p          | compact    |\n",
       "| audi       | a4         | 2.0        | 2008       | 4          | auto(av)   | f          | 21         | 30         | p          | compact    |\n",
       "| audi       | a4         | 2.8        | 1999       | 6          | auto(l5)   | f          | 16         | 26         | p          | compact    |\n",
       "| audi       | a4         | 2.8        | 1999       | 6          | manual(m5) | f          | 18         | 26         | p          | compact    |\n",
       "\n"
      ],
      "text/plain": [
       "  manufacturer model displ year cyl trans      drv cty hwy fl class  \n",
       "1 audi         a4    1.8   1999 4   auto(l5)   f   18  29  p  compact\n",
       "2 audi         a4    1.8   1999 4   manual(m5) f   21  29  p  compact\n",
       "3 audi         a4    2.0   2008 4   manual(m6) f   20  31  p  compact\n",
       "4 audi         a4    2.0   2008 4   auto(av)   f   21  30  p  compact\n",
       "5 audi         a4    2.8   1999 6   auto(l5)   f   16  26  p  compact\n",
       "6 audi         a4    2.8   1999 6   manual(m5) f   18  26  p  compact"
      ]
     },
     "metadata": {},
     "output_type": "display_data"
    }
   ],
   "source": [
    "head(df)"
   ]
  },
  {
   "cell_type": "code",
   "execution_count": 5,
   "metadata": {},
   "outputs": [
    {
     "data": {
      "text/html": [
       "<ol class=list-inline>\n",
       "\t<li>234</li>\n",
       "\t<li>11</li>\n",
       "</ol>\n"
      ],
      "text/latex": [
       "\\begin{enumerate*}\n",
       "\\item 234\n",
       "\\item 11\n",
       "\\end{enumerate*}\n"
      ],
      "text/markdown": [
       "1. 234\n",
       "2. 11\n",
       "\n",
       "\n"
      ],
      "text/plain": [
       "[1] 234  11"
      ]
     },
     "metadata": {},
     "output_type": "display_data"
    }
   ],
   "source": [
    "dim(df)"
   ]
  },
  {
   "cell_type": "code",
   "execution_count": 6,
   "metadata": {},
   "outputs": [],
   "source": [
    "df$id=1:234"
   ]
  },
  {
   "cell_type": "code",
   "execution_count": 7,
   "metadata": {},
   "outputs": [
    {
     "data": {
      "text/html": [
       "<table>\n",
       "<thead><tr><th scope=col>manufacturer</th><th scope=col>model</th><th scope=col>displ</th><th scope=col>year</th><th scope=col>cyl</th><th scope=col>trans</th><th scope=col>drv</th><th scope=col>cty</th><th scope=col>hwy</th><th scope=col>fl</th><th scope=col>class</th><th scope=col>id</th></tr></thead>\n",
       "<tbody>\n",
       "\t<tr><td>audi      </td><td>a4        </td><td>1.8       </td><td>1999      </td><td>4         </td><td>auto(l5)  </td><td>f         </td><td>18        </td><td>29        </td><td>p         </td><td>compact   </td><td>1         </td></tr>\n",
       "\t<tr><td>audi      </td><td>a4        </td><td>1.8       </td><td>1999      </td><td>4         </td><td>manual(m5)</td><td>f         </td><td>21        </td><td>29        </td><td>p         </td><td>compact   </td><td>2         </td></tr>\n",
       "\t<tr><td>audi      </td><td>a4        </td><td>2.0       </td><td>2008      </td><td>4         </td><td>manual(m6)</td><td>f         </td><td>20        </td><td>31        </td><td>p         </td><td>compact   </td><td>3         </td></tr>\n",
       "\t<tr><td>audi      </td><td>a4        </td><td>2.0       </td><td>2008      </td><td>4         </td><td>auto(av)  </td><td>f         </td><td>21        </td><td>30        </td><td>p         </td><td>compact   </td><td>4         </td></tr>\n",
       "\t<tr><td>audi      </td><td>a4        </td><td>2.8       </td><td>1999      </td><td>6         </td><td>auto(l5)  </td><td>f         </td><td>16        </td><td>26        </td><td>p         </td><td>compact   </td><td>5         </td></tr>\n",
       "\t<tr><td>audi      </td><td>a4        </td><td>2.8       </td><td>1999      </td><td>6         </td><td>manual(m5)</td><td>f         </td><td>18        </td><td>26        </td><td>p         </td><td>compact   </td><td>6         </td></tr>\n",
       "</tbody>\n",
       "</table>\n"
      ],
      "text/latex": [
       "\\begin{tabular}{r|llllllllllll}\n",
       " manufacturer & model & displ & year & cyl & trans & drv & cty & hwy & fl & class & id\\\\\n",
       "\\hline\n",
       "\t audi       & a4         & 1.8        & 1999       & 4          & auto(l5)   & f          & 18         & 29         & p          & compact    & 1         \\\\\n",
       "\t audi       & a4         & 1.8        & 1999       & 4          & manual(m5) & f          & 21         & 29         & p          & compact    & 2         \\\\\n",
       "\t audi       & a4         & 2.0        & 2008       & 4          & manual(m6) & f          & 20         & 31         & p          & compact    & 3         \\\\\n",
       "\t audi       & a4         & 2.0        & 2008       & 4          & auto(av)   & f          & 21         & 30         & p          & compact    & 4         \\\\\n",
       "\t audi       & a4         & 2.8        & 1999       & 6          & auto(l5)   & f          & 16         & 26         & p          & compact    & 5         \\\\\n",
       "\t audi       & a4         & 2.8        & 1999       & 6          & manual(m5) & f          & 18         & 26         & p          & compact    & 6         \\\\\n",
       "\\end{tabular}\n"
      ],
      "text/markdown": [
       "\n",
       "| manufacturer | model | displ | year | cyl | trans | drv | cty | hwy | fl | class | id |\n",
       "|---|---|---|---|---|---|---|---|---|---|---|---|\n",
       "| audi       | a4         | 1.8        | 1999       | 4          | auto(l5)   | f          | 18         | 29         | p          | compact    | 1          |\n",
       "| audi       | a4         | 1.8        | 1999       | 4          | manual(m5) | f          | 21         | 29         | p          | compact    | 2          |\n",
       "| audi       | a4         | 2.0        | 2008       | 4          | manual(m6) | f          | 20         | 31         | p          | compact    | 3          |\n",
       "| audi       | a4         | 2.0        | 2008       | 4          | auto(av)   | f          | 21         | 30         | p          | compact    | 4          |\n",
       "| audi       | a4         | 2.8        | 1999       | 6          | auto(l5)   | f          | 16         | 26         | p          | compact    | 5          |\n",
       "| audi       | a4         | 2.8        | 1999       | 6          | manual(m5) | f          | 18         | 26         | p          | compact    | 6          |\n",
       "\n"
      ],
      "text/plain": [
       "  manufacturer model displ year cyl trans      drv cty hwy fl class   id\n",
       "1 audi         a4    1.8   1999 4   auto(l5)   f   18  29  p  compact 1 \n",
       "2 audi         a4    1.8   1999 4   manual(m5) f   21  29  p  compact 2 \n",
       "3 audi         a4    2.0   2008 4   manual(m6) f   20  31  p  compact 3 \n",
       "4 audi         a4    2.0   2008 4   auto(av)   f   21  30  p  compact 4 \n",
       "5 audi         a4    2.8   1999 6   auto(l5)   f   16  26  p  compact 5 \n",
       "6 audi         a4    2.8   1999 6   manual(m5) f   18  26  p  compact 6 "
      ]
     },
     "metadata": {},
     "output_type": "display_data"
    }
   ],
   "source": [
    "head(df)"
   ]
  },
  {
   "cell_type": "code",
   "execution_count": 3,
   "metadata": {},
   "outputs": [],
   "source": [
    "data = data.frame(\n",
    "    id = 1:10,\n",
    "    sex = sample(c(\"mail\",\"female\"),10,replace = T),\n",
    "    name = c(\"a\",\"b\",\"c\",\"d\",\"e\",\"f\",\"g\",\"h\",\"i\",\"j\"),\n",
    "    maths=sample(40:100,10),\n",
    "    phy=sample(40:100,10),\n",
    "    chem=sample(40:100,10)\n",
    ")"
   ]
  },
  {
   "cell_type": "code",
   "execution_count": 4,
   "metadata": {},
   "outputs": [
    {
     "data": {
      "text/html": [
       "<table>\n",
       "<thead><tr><th scope=col>id</th><th scope=col>sex</th><th scope=col>name</th><th scope=col>maths</th><th scope=col>phy</th><th scope=col>chem</th></tr></thead>\n",
       "<tbody>\n",
       "\t<tr><td> 1    </td><td>mail  </td><td>a     </td><td>85    </td><td>50    </td><td>53    </td></tr>\n",
       "\t<tr><td> 2    </td><td>mail  </td><td>b     </td><td>97    </td><td>89    </td><td>63    </td></tr>\n",
       "\t<tr><td> 3    </td><td>female</td><td>c     </td><td>80    </td><td>67    </td><td>50    </td></tr>\n",
       "\t<tr><td> 4    </td><td>mail  </td><td>d     </td><td>74    </td><td>75    </td><td>73    </td></tr>\n",
       "\t<tr><td> 5    </td><td>female</td><td>e     </td><td>84    </td><td>83    </td><td>51    </td></tr>\n",
       "\t<tr><td> 6    </td><td>female</td><td>f     </td><td>92    </td><td>60    </td><td>97    </td></tr>\n",
       "\t<tr><td> 7    </td><td>female</td><td>g     </td><td>51    </td><td>46    </td><td>95    </td></tr>\n",
       "\t<tr><td> 8    </td><td>female</td><td>h     </td><td>81    </td><td>94    </td><td>80    </td></tr>\n",
       "\t<tr><td> 9    </td><td>female</td><td>i     </td><td>87    </td><td>93    </td><td>69    </td></tr>\n",
       "\t<tr><td>10    </td><td>female</td><td>j     </td><td>67    </td><td>98    </td><td>88    </td></tr>\n",
       "</tbody>\n",
       "</table>\n"
      ],
      "text/latex": [
       "\\begin{tabular}{r|llllll}\n",
       " id & sex & name & maths & phy & chem\\\\\n",
       "\\hline\n",
       "\t  1     & mail   & a      & 85     & 50     & 53    \\\\\n",
       "\t  2     & mail   & b      & 97     & 89     & 63    \\\\\n",
       "\t  3     & female & c      & 80     & 67     & 50    \\\\\n",
       "\t  4     & mail   & d      & 74     & 75     & 73    \\\\\n",
       "\t  5     & female & e      & 84     & 83     & 51    \\\\\n",
       "\t  6     & female & f      & 92     & 60     & 97    \\\\\n",
       "\t  7     & female & g      & 51     & 46     & 95    \\\\\n",
       "\t  8     & female & h      & 81     & 94     & 80    \\\\\n",
       "\t  9     & female & i      & 87     & 93     & 69    \\\\\n",
       "\t 10     & female & j      & 67     & 98     & 88    \\\\\n",
       "\\end{tabular}\n"
      ],
      "text/markdown": [
       "\n",
       "| id | sex | name | maths | phy | chem |\n",
       "|---|---|---|---|---|---|\n",
       "|  1     | mail   | a      | 85     | 50     | 53     |\n",
       "|  2     | mail   | b      | 97     | 89     | 63     |\n",
       "|  3     | female | c      | 80     | 67     | 50     |\n",
       "|  4     | mail   | d      | 74     | 75     | 73     |\n",
       "|  5     | female | e      | 84     | 83     | 51     |\n",
       "|  6     | female | f      | 92     | 60     | 97     |\n",
       "|  7     | female | g      | 51     | 46     | 95     |\n",
       "|  8     | female | h      | 81     | 94     | 80     |\n",
       "|  9     | female | i      | 87     | 93     | 69     |\n",
       "| 10     | female | j      | 67     | 98     | 88     |\n",
       "\n"
      ],
      "text/plain": [
       "   id sex    name maths phy chem\n",
       "1   1 mail   a    85    50  53  \n",
       "2   2 mail   b    97    89  63  \n",
       "3   3 female c    80    67  50  \n",
       "4   4 mail   d    74    75  73  \n",
       "5   5 female e    84    83  51  \n",
       "6   6 female f    92    60  97  \n",
       "7   7 female g    51    46  95  \n",
       "8   8 female h    81    94  80  \n",
       "9   9 female i    87    93  69  \n",
       "10 10 female j    67    98  88  "
      ]
     },
     "metadata": {},
     "output_type": "display_data"
    }
   ],
   "source": [
    "library(tidyr)\n",
    "data"
   ]
  },
  {
   "cell_type": "code",
   "execution_count": 5,
   "metadata": {},
   "outputs": [
    {
     "data": {
      "text/html": [
       "<table>\n",
       "<thead><tr><th scope=col>id</th><th scope=col>sex</th><th scope=col>name</th><th scope=col>subject</th><th scope=col>marks</th></tr></thead>\n",
       "<tbody>\n",
       "\t<tr><td>1     </td><td>mail  </td><td>a     </td><td>maths </td><td>85    </td></tr>\n",
       "\t<tr><td>2     </td><td>mail  </td><td>b     </td><td>maths </td><td>97    </td></tr>\n",
       "\t<tr><td>3     </td><td>female</td><td>c     </td><td>maths </td><td>80    </td></tr>\n",
       "\t<tr><td>4     </td><td>mail  </td><td>d     </td><td>maths </td><td>74    </td></tr>\n",
       "\t<tr><td>5     </td><td>female</td><td>e     </td><td>maths </td><td>84    </td></tr>\n",
       "\t<tr><td>6     </td><td>female</td><td>f     </td><td>maths </td><td>92    </td></tr>\n",
       "</tbody>\n",
       "</table>\n"
      ],
      "text/latex": [
       "\\begin{tabular}{r|lllll}\n",
       " id & sex & name & subject & marks\\\\\n",
       "\\hline\n",
       "\t 1      & mail   & a      & maths  & 85    \\\\\n",
       "\t 2      & mail   & b      & maths  & 97    \\\\\n",
       "\t 3      & female & c      & maths  & 80    \\\\\n",
       "\t 4      & mail   & d      & maths  & 74    \\\\\n",
       "\t 5      & female & e      & maths  & 84    \\\\\n",
       "\t 6      & female & f      & maths  & 92    \\\\\n",
       "\\end{tabular}\n"
      ],
      "text/markdown": [
       "\n",
       "| id | sex | name | subject | marks |\n",
       "|---|---|---|---|---|\n",
       "| 1      | mail   | a      | maths  | 85     |\n",
       "| 2      | mail   | b      | maths  | 97     |\n",
       "| 3      | female | c      | maths  | 80     |\n",
       "| 4      | mail   | d      | maths  | 74     |\n",
       "| 5      | female | e      | maths  | 84     |\n",
       "| 6      | female | f      | maths  | 92     |\n",
       "\n"
      ],
      "text/plain": [
       "  id sex    name subject marks\n",
       "1 1  mail   a    maths   85   \n",
       "2 2  mail   b    maths   97   \n",
       "3 3  female c    maths   80   \n",
       "4 4  mail   d    maths   74   \n",
       "5 5  female e    maths   84   \n",
       "6 6  female f    maths   92   "
      ]
     },
     "metadata": {},
     "output_type": "display_data"
    }
   ],
   "source": [
    "gdf = gather(data,key=\"subject\",value=\"marks\",c(4,5,6))\n",
    "head(gdf)"
   ]
  },
  {
   "cell_type": "code",
   "execution_count": 6,
   "metadata": {},
   "outputs": [
    {
     "data": {
      "text/html": [
       "<table>\n",
       "<thead><tr><th scope=col>id</th><th scope=col>sex</th><th scope=col>name</th><th scope=col>chem</th><th scope=col>maths</th><th scope=col>phy</th></tr></thead>\n",
       "<tbody>\n",
       "\t<tr><td>1     </td><td>mail  </td><td>a     </td><td>53    </td><td>85    </td><td>50    </td></tr>\n",
       "\t<tr><td>2     </td><td>mail  </td><td>b     </td><td>63    </td><td>97    </td><td>89    </td></tr>\n",
       "\t<tr><td>3     </td><td>female</td><td>c     </td><td>50    </td><td>80    </td><td>67    </td></tr>\n",
       "\t<tr><td>4     </td><td>mail  </td><td>d     </td><td>73    </td><td>74    </td><td>75    </td></tr>\n",
       "\t<tr><td>5     </td><td>female</td><td>e     </td><td>51    </td><td>84    </td><td>83    </td></tr>\n",
       "\t<tr><td>6     </td><td>female</td><td>f     </td><td>97    </td><td>92    </td><td>60    </td></tr>\n",
       "</tbody>\n",
       "</table>\n"
      ],
      "text/latex": [
       "\\begin{tabular}{r|llllll}\n",
       " id & sex & name & chem & maths & phy\\\\\n",
       "\\hline\n",
       "\t 1      & mail   & a      & 53     & 85     & 50    \\\\\n",
       "\t 2      & mail   & b      & 63     & 97     & 89    \\\\\n",
       "\t 3      & female & c      & 50     & 80     & 67    \\\\\n",
       "\t 4      & mail   & d      & 73     & 74     & 75    \\\\\n",
       "\t 5      & female & e      & 51     & 84     & 83    \\\\\n",
       "\t 6      & female & f      & 97     & 92     & 60    \\\\\n",
       "\\end{tabular}\n"
      ],
      "text/markdown": [
       "\n",
       "| id | sex | name | chem | maths | phy |\n",
       "|---|---|---|---|---|---|\n",
       "| 1      | mail   | a      | 53     | 85     | 50     |\n",
       "| 2      | mail   | b      | 63     | 97     | 89     |\n",
       "| 3      | female | c      | 50     | 80     | 67     |\n",
       "| 4      | mail   | d      | 73     | 74     | 75     |\n",
       "| 5      | female | e      | 51     | 84     | 83     |\n",
       "| 6      | female | f      | 97     | 92     | 60     |\n",
       "\n"
      ],
      "text/plain": [
       "  id sex    name chem maths phy\n",
       "1 1  mail   a    53   85    50 \n",
       "2 2  mail   b    63   97    89 \n",
       "3 3  female c    50   80    67 \n",
       "4 4  mail   d    73   74    75 \n",
       "5 5  female e    51   84    83 \n",
       "6 6  female f    97   92    60 "
      ]
     },
     "metadata": {},
     "output_type": "display_data"
    }
   ],
   "source": [
    "sdf  = spread(gdf,key=\"subject\",value=\"marks\")\n",
    "head(sdf)"
   ]
  },
  {
   "cell_type": "code",
   "execution_count": 7,
   "metadata": {},
   "outputs": [
    {
     "ename": "ERROR",
     "evalue": "Error in c(\"2019-08-01\", \"2019-08-02\", \"2019-08-03\", \"2019-08-04\", \"2019-08-05\", : argument 25 is empty\n",
     "output_type": "error",
     "traceback": [
      "Error in c(\"2019-08-01\", \"2019-08-02\", \"2019-08-03\", \"2019-08-04\", \"2019-08-05\", : argument 25 is empty\nTraceback:\n"
     ]
    }
   ],
   "source": [
    "x = c(\"2019-08-01\",\"2019-08-02\",\"2019-08-03\",\"2019-08-04\",\"2019-08-05\",\"2019-08-06\"\n",
    "      ,\"2019-08-07\",\"2019-08-08\",\"2019-08-09\",\"2019-08-10\",\"2019-08-11\",\"2019-08-12\",\n",
    "      \"2018-08-01\",\"2018-08-02\",\"2018-08-03\",\"2018-08-04\",\"2018-08-05\",\"2018-08-06\"\n",
    "      ,\"2018-08-07\",\"2018-08-08\",\"2018-08-09\",\"2018-08-10\",\"2018-08-11\",\"2018-08-12\",\n",
    "     )"
   ]
  },
  {
   "cell_type": "code",
   "execution_count": 8,
   "metadata": {},
   "outputs": [
    {
     "ename": "ERROR",
     "evalue": "Error in str(x): object 'x' not found\n",
     "output_type": "error",
     "traceback": [
      "Error in str(x): object 'x' not found\nTraceback:\n",
      "1. str(x)"
     ]
    }
   ],
   "source": [
    "str(x)"
   ]
  },
  {
   "cell_type": "code",
   "execution_count": null,
   "metadata": {},
   "outputs": [],
   "source": [
    "df = data.frame(\n",
    "    data = data,\n",
    "    A = sample()\n",
    ")\n"
   ]
  },
  {
   "cell_type": "code",
   "execution_count": null,
   "metadata": {},
   "outputs": [],
   "source": [
    "library(sqldf)"
   ]
  },
  {
   "cell_type": "code",
   "execution_count": null,
   "metadata": {},
   "outputs": [],
   "source": [
    "library(reshape2)"
   ]
  },
  {
   "cell_type": "code",
   "execution_count": null,
   "metadata": {},
   "outputs": [],
   "source": [
    "data = data.frame(\n",
    "    id = 1:10,\n",
    "    sex = sample(c(\"male\",\"female\"),10,replace = T),\n",
    "    name = c(\"a\",\"b\",\"c\",\"d\",\"e\",\"f\",\"g\",\"h\",\"i\",\"j\"),\n",
    "    chem = sample(40:100,10),\n",
    "    phy = sample(40:100,10),\n",
    "    math = sample(40:100,10)\n",
    ")"
   ]
  },
  {
   "cell_type": "code",
   "execution_count": null,
   "metadata": {},
   "outputs": [],
   "source": [
    "head(data)"
   ]
  },
  {
   "cell_type": "code",
   "execution_count": null,
   "metadata": {},
   "outputs": [],
   "source": [
    "mdf = melt(data,id.vars = c(\"id\",\"sex\",\"name\"),measure.vars = c(\"math\",\"phy\",\"chem\"),\n",
    "          variable.name = \"subjects\",value.name = \"marks\")"
   ]
  },
  {
   "cell_type": "code",
   "execution_count": null,
   "metadata": {},
   "outputs": [],
   "source": [
    "mdf[sample(1:dim(mdf)[1],10),]"
   ]
  },
  {
   "cell_type": "code",
   "execution_count": null,
   "metadata": {},
   "outputs": [],
   "source": [
    "dim(data)"
   ]
  },
  {
   "cell_type": "code",
   "execution_count": null,
   "metadata": {},
   "outputs": [],
   "source": [
    "dim(mdf)"
   ]
  },
  {
   "cell_type": "code",
   "execution_count": null,
   "metadata": {},
   "outputs": [],
   "source": [
    "head(mdf)"
   ]
  },
  {
   "cell_type": "code",
   "execution_count": null,
   "metadata": {},
   "outputs": [],
   "source": [
    "dcast(mdf,id+name~subjects,value.var = \"marks\")"
   ]
  },
  {
   "cell_type": "code",
   "execution_count": 1,
   "metadata": {},
   "outputs": [
    {
     "name": "stderr",
     "output_type": "stream",
     "text": [
      "Warning message:\n",
      "\"package 'dplyr' was built under R version 3.6.1\"\n",
      "Attaching package: 'dplyr'\n",
      "\n",
      "The following objects are masked from 'package:stats':\n",
      "\n",
      "    filter, lag\n",
      "\n",
      "The following objects are masked from 'package:base':\n",
      "\n",
      "    intersect, setdiff, setequal, union\n",
      "\n"
     ]
    }
   ],
   "source": [
    "library(\"dplyr\")"
   ]
  },
  {
   "cell_type": "code",
   "execution_count": 2,
   "metadata": {},
   "outputs": [],
   "source": [
    "info = data.frame(\n",
    "            id = 1:10,\n",
    "#             sex = sample(c(\"male\",\"female\"),10,replace=T),\n",
    "            name = c(\"ram\",\"hari\",\"allah\",\"eid\",\"diwali\",\"ronak\",\"pooja\",\n",
    "                    \"ganesh\",\"akbar\",\"aladin\"),\n",
    "            chem = sample(40:100,10),\n",
    "            class = sample(c(\"a\",\"b\",\"c\"),10,replace = T)\n",
    "#             phy = sample(40:100,10),\n",
    "#             math = sample(40:100,10)\n",
    "    )"
   ]
  },
  {
   "cell_type": "code",
   "execution_count": 3,
   "metadata": {},
   "outputs": [],
   "source": [
    "game = data.frame(\n",
    "            id = 1:10,\n",
    "#             sex = sample(c(\"male\",\"female\"),10,replace=T),\n",
    "            score = sample(40:100,10),\n",
    "            game = sample(c(\"cricket\",\"football\",\"kabadi\"),10,replace = T)\n",
    "#             phy = sample(40:100,10),\n",
    "#             math = sample(40:100,10)\n",
    "    )"
   ]
  },
  {
   "cell_type": "code",
   "execution_count": 4,
   "metadata": {},
   "outputs": [
    {
     "data": {
      "text/html": [
       "<table>\n",
       "<thead><tr><th scope=col>id</th><th scope=col>name</th><th scope=col>chem</th><th scope=col>class</th></tr></thead>\n",
       "<tbody>\n",
       "\t<tr><td>1     </td><td>ram   </td><td>71    </td><td>a     </td></tr>\n",
       "\t<tr><td>2     </td><td>hari  </td><td>77    </td><td>b     </td></tr>\n",
       "\t<tr><td>3     </td><td>allah </td><td>44    </td><td>c     </td></tr>\n",
       "\t<tr><td>4     </td><td>eid   </td><td>49    </td><td>b     </td></tr>\n",
       "\t<tr><td>5     </td><td>diwali</td><td>55    </td><td>b     </td></tr>\n",
       "\t<tr><td>6     </td><td>ronak </td><td>94    </td><td>b     </td></tr>\n",
       "</tbody>\n",
       "</table>\n"
      ],
      "text/latex": [
       "\\begin{tabular}{r|llll}\n",
       " id & name & chem & class\\\\\n",
       "\\hline\n",
       "\t 1      & ram    & 71     & a     \\\\\n",
       "\t 2      & hari   & 77     & b     \\\\\n",
       "\t 3      & allah  & 44     & c     \\\\\n",
       "\t 4      & eid    & 49     & b     \\\\\n",
       "\t 5      & diwali & 55     & b     \\\\\n",
       "\t 6      & ronak  & 94     & b     \\\\\n",
       "\\end{tabular}\n"
      ],
      "text/markdown": [
       "\n",
       "| id | name | chem | class |\n",
       "|---|---|---|---|\n",
       "| 1      | ram    | 71     | a      |\n",
       "| 2      | hari   | 77     | b      |\n",
       "| 3      | allah  | 44     | c      |\n",
       "| 4      | eid    | 49     | b      |\n",
       "| 5      | diwali | 55     | b      |\n",
       "| 6      | ronak  | 94     | b      |\n",
       "\n"
      ],
      "text/plain": [
       "  id name   chem class\n",
       "1 1  ram    71   a    \n",
       "2 2  hari   77   b    \n",
       "3 3  allah  44   c    \n",
       "4 4  eid    49   b    \n",
       "5 5  diwali 55   b    \n",
       "6 6  ronak  94   b    "
      ]
     },
     "metadata": {},
     "output_type": "display_data"
    }
   ],
   "source": [
    "head(info)"
   ]
  },
  {
   "cell_type": "code",
   "execution_count": 5,
   "metadata": {},
   "outputs": [
    {
     "data": {
      "text/html": [
       "<table>\n",
       "<thead><tr><th scope=col>id</th><th scope=col>name</th><th scope=col>chem</th><th scope=col>class</th><th scope=col>score</th><th scope=col>game</th></tr></thead>\n",
       "<tbody>\n",
       "\t<tr><td> 1      </td><td>ram     </td><td>71      </td><td>a       </td><td>94      </td><td>football</td></tr>\n",
       "\t<tr><td> 2      </td><td>hari    </td><td>77      </td><td>b       </td><td>45      </td><td>cricket </td></tr>\n",
       "\t<tr><td> 3      </td><td>allah   </td><td>44      </td><td>c       </td><td>60      </td><td>kabadi  </td></tr>\n",
       "\t<tr><td> 4      </td><td>eid     </td><td>49      </td><td>b       </td><td>78      </td><td>cricket </td></tr>\n",
       "\t<tr><td> 5      </td><td>diwali  </td><td>55      </td><td>b       </td><td>68      </td><td>cricket </td></tr>\n",
       "\t<tr><td> 6      </td><td>ronak   </td><td>94      </td><td>b       </td><td>86      </td><td>cricket </td></tr>\n",
       "\t<tr><td> 7      </td><td>pooja   </td><td>72      </td><td>c       </td><td>76      </td><td>cricket </td></tr>\n",
       "\t<tr><td> 8      </td><td>ganesh  </td><td>89      </td><td>b       </td><td>66      </td><td>football</td></tr>\n",
       "\t<tr><td> 9      </td><td>akbar   </td><td>96      </td><td>a       </td><td>71      </td><td>cricket </td></tr>\n",
       "\t<tr><td>10      </td><td>aladin  </td><td>76      </td><td>b       </td><td>52      </td><td>football</td></tr>\n",
       "</tbody>\n",
       "</table>\n"
      ],
      "text/latex": [
       "\\begin{tabular}{r|llllll}\n",
       " id & name & chem & class & score & game\\\\\n",
       "\\hline\n",
       "\t  1       & ram      & 71       & a        & 94       & football\\\\\n",
       "\t  2       & hari     & 77       & b        & 45       & cricket \\\\\n",
       "\t  3       & allah    & 44       & c        & 60       & kabadi  \\\\\n",
       "\t  4       & eid      & 49       & b        & 78       & cricket \\\\\n",
       "\t  5       & diwali   & 55       & b        & 68       & cricket \\\\\n",
       "\t  6       & ronak    & 94       & b        & 86       & cricket \\\\\n",
       "\t  7       & pooja    & 72       & c        & 76       & cricket \\\\\n",
       "\t  8       & ganesh   & 89       & b        & 66       & football\\\\\n",
       "\t  9       & akbar    & 96       & a        & 71       & cricket \\\\\n",
       "\t 10       & aladin   & 76       & b        & 52       & football\\\\\n",
       "\\end{tabular}\n"
      ],
      "text/markdown": [
       "\n",
       "| id | name | chem | class | score | game |\n",
       "|---|---|---|---|---|---|\n",
       "|  1       | ram      | 71       | a        | 94       | football |\n",
       "|  2       | hari     | 77       | b        | 45       | cricket  |\n",
       "|  3       | allah    | 44       | c        | 60       | kabadi   |\n",
       "|  4       | eid      | 49       | b        | 78       | cricket  |\n",
       "|  5       | diwali   | 55       | b        | 68       | cricket  |\n",
       "|  6       | ronak    | 94       | b        | 86       | cricket  |\n",
       "|  7       | pooja    | 72       | c        | 76       | cricket  |\n",
       "|  8       | ganesh   | 89       | b        | 66       | football |\n",
       "|  9       | akbar    | 96       | a        | 71       | cricket  |\n",
       "| 10       | aladin   | 76       | b        | 52       | football |\n",
       "\n"
      ],
      "text/plain": [
       "   id name   chem class score game    \n",
       "1   1 ram    71   a     94    football\n",
       "2   2 hari   77   b     45    cricket \n",
       "3   3 allah  44   c     60    kabadi  \n",
       "4   4 eid    49   b     78    cricket \n",
       "5   5 diwali 55   b     68    cricket \n",
       "6   6 ronak  94   b     86    cricket \n",
       "7   7 pooja  72   c     76    cricket \n",
       "8   8 ganesh 89   b     66    football\n",
       "9   9 akbar  96   a     71    cricket \n",
       "10 10 aladin 76   b     52    football"
      ]
     },
     "metadata": {},
     "output_type": "display_data"
    }
   ],
   "source": [
    "ddf = merge(info,game,by='id')\n",
    "ddf"
   ]
  },
  {
   "cell_type": "code",
   "execution_count": 6,
   "metadata": {},
   "outputs": [
    {
     "data": {
      "text/html": [
       "<table>\n",
       "<thead><tr><th scope=col>name</th><th scope=col>score</th></tr></thead>\n",
       "<tbody>\n",
       "\t<tr><td>ram   </td><td>94    </td></tr>\n",
       "\t<tr><td>hari  </td><td>45    </td></tr>\n",
       "\t<tr><td>allah </td><td>60    </td></tr>\n",
       "\t<tr><td>eid   </td><td>78    </td></tr>\n",
       "\t<tr><td>diwali</td><td>68    </td></tr>\n",
       "\t<tr><td>ronak </td><td>86    </td></tr>\n",
       "\t<tr><td>pooja </td><td>76    </td></tr>\n",
       "\t<tr><td>ganesh</td><td>66    </td></tr>\n",
       "\t<tr><td>akbar </td><td>71    </td></tr>\n",
       "\t<tr><td>aladin</td><td>52    </td></tr>\n",
       "</tbody>\n",
       "</table>\n"
      ],
      "text/latex": [
       "\\begin{tabular}{r|ll}\n",
       " name & score\\\\\n",
       "\\hline\n",
       "\t ram    & 94    \\\\\n",
       "\t hari   & 45    \\\\\n",
       "\t allah  & 60    \\\\\n",
       "\t eid    & 78    \\\\\n",
       "\t diwali & 68    \\\\\n",
       "\t ronak  & 86    \\\\\n",
       "\t pooja  & 76    \\\\\n",
       "\t ganesh & 66    \\\\\n",
       "\t akbar  & 71    \\\\\n",
       "\t aladin & 52    \\\\\n",
       "\\end{tabular}\n"
      ],
      "text/markdown": [
       "\n",
       "| name | score |\n",
       "|---|---|\n",
       "| ram    | 94     |\n",
       "| hari   | 45     |\n",
       "| allah  | 60     |\n",
       "| eid    | 78     |\n",
       "| diwali | 68     |\n",
       "| ronak  | 86     |\n",
       "| pooja  | 76     |\n",
       "| ganesh | 66     |\n",
       "| akbar  | 71     |\n",
       "| aladin | 52     |\n",
       "\n"
      ],
      "text/plain": [
       "   name   score\n",
       "1  ram    94   \n",
       "2  hari   45   \n",
       "3  allah  60   \n",
       "4  eid    78   \n",
       "5  diwali 68   \n",
       "6  ronak  86   \n",
       "7  pooja  76   \n",
       "8  ganesh 66   \n",
       "9  akbar  71   \n",
       "10 aladin 52   "
      ]
     },
     "metadata": {},
     "output_type": "display_data"
    }
   ],
   "source": [
    "select(ddf,name,score)"
   ]
  },
  {
   "cell_type": "code",
   "execution_count": 7,
   "metadata": {},
   "outputs": [
    {
     "data": {
      "text/html": [
       "<table>\n",
       "<thead><tr><th scope=col>name</th><th scope=col>chem</th><th scope=col>score</th><th scope=col>game</th></tr></thead>\n",
       "<tbody>\n",
       "\t<tr><td>ram     </td><td>71      </td><td>94      </td><td>football</td></tr>\n",
       "\t<tr><td>hari    </td><td>77      </td><td>45      </td><td>cricket </td></tr>\n",
       "\t<tr><td>allah   </td><td>44      </td><td>60      </td><td>kabadi  </td></tr>\n",
       "\t<tr><td>eid     </td><td>49      </td><td>78      </td><td>cricket </td></tr>\n",
       "\t<tr><td>diwali  </td><td>55      </td><td>68      </td><td>cricket </td></tr>\n",
       "\t<tr><td>ronak   </td><td>94      </td><td>86      </td><td>cricket </td></tr>\n",
       "\t<tr><td>pooja   </td><td>72      </td><td>76      </td><td>cricket </td></tr>\n",
       "\t<tr><td>ganesh  </td><td>89      </td><td>66      </td><td>football</td></tr>\n",
       "\t<tr><td>akbar   </td><td>96      </td><td>71      </td><td>cricket </td></tr>\n",
       "\t<tr><td>aladin  </td><td>76      </td><td>52      </td><td>football</td></tr>\n",
       "</tbody>\n",
       "</table>\n"
      ],
      "text/latex": [
       "\\begin{tabular}{r|llll}\n",
       " name & chem & score & game\\\\\n",
       "\\hline\n",
       "\t ram      & 71       & 94       & football\\\\\n",
       "\t hari     & 77       & 45       & cricket \\\\\n",
       "\t allah    & 44       & 60       & kabadi  \\\\\n",
       "\t eid      & 49       & 78       & cricket \\\\\n",
       "\t diwali   & 55       & 68       & cricket \\\\\n",
       "\t ronak    & 94       & 86       & cricket \\\\\n",
       "\t pooja    & 72       & 76       & cricket \\\\\n",
       "\t ganesh   & 89       & 66       & football\\\\\n",
       "\t akbar    & 96       & 71       & cricket \\\\\n",
       "\t aladin   & 76       & 52       & football\\\\\n",
       "\\end{tabular}\n"
      ],
      "text/markdown": [
       "\n",
       "| name | chem | score | game |\n",
       "|---|---|---|---|\n",
       "| ram      | 71       | 94       | football |\n",
       "| hari     | 77       | 45       | cricket  |\n",
       "| allah    | 44       | 60       | kabadi   |\n",
       "| eid      | 49       | 78       | cricket  |\n",
       "| diwali   | 55       | 68       | cricket  |\n",
       "| ronak    | 94       | 86       | cricket  |\n",
       "| pooja    | 72       | 76       | cricket  |\n",
       "| ganesh   | 89       | 66       | football |\n",
       "| akbar    | 96       | 71       | cricket  |\n",
       "| aladin   | 76       | 52       | football |\n",
       "\n"
      ],
      "text/plain": [
       "   name   chem score game    \n",
       "1  ram    71   94    football\n",
       "2  hari   77   45    cricket \n",
       "3  allah  44   60    kabadi  \n",
       "4  eid    49   78    cricket \n",
       "5  diwali 55   68    cricket \n",
       "6  ronak  94   86    cricket \n",
       "7  pooja  72   76    cricket \n",
       "8  ganesh 89   66    football\n",
       "9  akbar  96   71    cricket \n",
       "10 aladin 76   52    football"
      ]
     },
     "metadata": {},
     "output_type": "display_data"
    }
   ],
   "source": [
    "select(ddf,-id,-class)"
   ]
  },
  {
   "cell_type": "code",
   "execution_count": 8,
   "metadata": {},
   "outputs": [],
   "source": [
    "library(ggplot2)"
   ]
  },
  {
   "cell_type": "code",
   "execution_count": 9,
   "metadata": {},
   "outputs": [
    {
     "data": {
      "text/html": [
       "<table>\n",
       "<thead><tr><th scope=col>manufacturer</th><th scope=col>model</th><th scope=col>displ</th><th scope=col>year</th><th scope=col>cyl</th><th scope=col>trans</th><th scope=col>drv</th><th scope=col>cty</th><th scope=col>hwy</th><th scope=col>fl</th><th scope=col>class</th></tr></thead>\n",
       "<tbody>\n",
       "\t<tr><td>audi      </td><td>a4        </td><td>1.8       </td><td>1999      </td><td>4         </td><td>auto(l5)  </td><td>f         </td><td>18        </td><td>29        </td><td>p         </td><td>compact   </td></tr>\n",
       "\t<tr><td>audi      </td><td>a4        </td><td>1.8       </td><td>1999      </td><td>4         </td><td>manual(m5)</td><td>f         </td><td>21        </td><td>29        </td><td>p         </td><td>compact   </td></tr>\n",
       "\t<tr><td>audi      </td><td>a4        </td><td>2.0       </td><td>2008      </td><td>4         </td><td>manual(m6)</td><td>f         </td><td>20        </td><td>31        </td><td>p         </td><td>compact   </td></tr>\n",
       "\t<tr><td>audi      </td><td>a4        </td><td>2.0       </td><td>2008      </td><td>4         </td><td>auto(av)  </td><td>f         </td><td>21        </td><td>30        </td><td>p         </td><td>compact   </td></tr>\n",
       "\t<tr><td>audi      </td><td>a4        </td><td>2.8       </td><td>1999      </td><td>6         </td><td>auto(l5)  </td><td>f         </td><td>16        </td><td>26        </td><td>p         </td><td>compact   </td></tr>\n",
       "\t<tr><td>audi      </td><td>a4        </td><td>2.8       </td><td>1999      </td><td>6         </td><td>manual(m5)</td><td>f         </td><td>18        </td><td>26        </td><td>p         </td><td>compact   </td></tr>\n",
       "</tbody>\n",
       "</table>\n"
      ],
      "text/latex": [
       "\\begin{tabular}{r|lllllllllll}\n",
       " manufacturer & model & displ & year & cyl & trans & drv & cty & hwy & fl & class\\\\\n",
       "\\hline\n",
       "\t audi       & a4         & 1.8        & 1999       & 4          & auto(l5)   & f          & 18         & 29         & p          & compact   \\\\\n",
       "\t audi       & a4         & 1.8        & 1999       & 4          & manual(m5) & f          & 21         & 29         & p          & compact   \\\\\n",
       "\t audi       & a4         & 2.0        & 2008       & 4          & manual(m6) & f          & 20         & 31         & p          & compact   \\\\\n",
       "\t audi       & a4         & 2.0        & 2008       & 4          & auto(av)   & f          & 21         & 30         & p          & compact   \\\\\n",
       "\t audi       & a4         & 2.8        & 1999       & 6          & auto(l5)   & f          & 16         & 26         & p          & compact   \\\\\n",
       "\t audi       & a4         & 2.8        & 1999       & 6          & manual(m5) & f          & 18         & 26         & p          & compact   \\\\\n",
       "\\end{tabular}\n"
      ],
      "text/markdown": [
       "\n",
       "| manufacturer | model | displ | year | cyl | trans | drv | cty | hwy | fl | class |\n",
       "|---|---|---|---|---|---|---|---|---|---|---|\n",
       "| audi       | a4         | 1.8        | 1999       | 4          | auto(l5)   | f          | 18         | 29         | p          | compact    |\n",
       "| audi       | a4         | 1.8        | 1999       | 4          | manual(m5) | f          | 21         | 29         | p          | compact    |\n",
       "| audi       | a4         | 2.0        | 2008       | 4          | manual(m6) | f          | 20         | 31         | p          | compact    |\n",
       "| audi       | a4         | 2.0        | 2008       | 4          | auto(av)   | f          | 21         | 30         | p          | compact    |\n",
       "| audi       | a4         | 2.8        | 1999       | 6          | auto(l5)   | f          | 16         | 26         | p          | compact    |\n",
       "| audi       | a4         | 2.8        | 1999       | 6          | manual(m5) | f          | 18         | 26         | p          | compact    |\n",
       "\n"
      ],
      "text/plain": [
       "  manufacturer model displ year cyl trans      drv cty hwy fl class  \n",
       "1 audi         a4    1.8   1999 4   auto(l5)   f   18  29  p  compact\n",
       "2 audi         a4    1.8   1999 4   manual(m5) f   21  29  p  compact\n",
       "3 audi         a4    2.0   2008 4   manual(m6) f   20  31  p  compact\n",
       "4 audi         a4    2.0   2008 4   auto(av)   f   21  30  p  compact\n",
       "5 audi         a4    2.8   1999 6   auto(l5)   f   16  26  p  compact\n",
       "6 audi         a4    2.8   1999 6   manual(m5) f   18  26  p  compact"
      ]
     },
     "metadata": {},
     "output_type": "display_data"
    }
   ],
   "source": [
    "head(mpg)"
   ]
  },
  {
   "cell_type": "code",
   "execution_count": 10,
   "metadata": {},
   "outputs": [
    {
     "data": {
      "text/html": [
       "<table>\n",
       "<thead><tr><th scope=col>cty</th><th scope=col>hwy</th><th scope=col>displ</th></tr></thead>\n",
       "<tbody>\n",
       "\t<tr><td>18 </td><td>29 </td><td>1.8</td></tr>\n",
       "\t<tr><td>21 </td><td>29 </td><td>1.8</td></tr>\n",
       "\t<tr><td>20 </td><td>31 </td><td>2.0</td></tr>\n",
       "\t<tr><td>21 </td><td>30 </td><td>2.0</td></tr>\n",
       "\t<tr><td>16 </td><td>26 </td><td>2.8</td></tr>\n",
       "\t<tr><td>18 </td><td>26 </td><td>2.8</td></tr>\n",
       "</tbody>\n",
       "</table>\n"
      ],
      "text/latex": [
       "\\begin{tabular}{r|lll}\n",
       " cty & hwy & displ\\\\\n",
       "\\hline\n",
       "\t 18  & 29  & 1.8\\\\\n",
       "\t 21  & 29  & 1.8\\\\\n",
       "\t 20  & 31  & 2.0\\\\\n",
       "\t 21  & 30  & 2.0\\\\\n",
       "\t 16  & 26  & 2.8\\\\\n",
       "\t 18  & 26  & 2.8\\\\\n",
       "\\end{tabular}\n"
      ],
      "text/markdown": [
       "\n",
       "| cty | hwy | displ |\n",
       "|---|---|---|\n",
       "| 18  | 29  | 1.8 |\n",
       "| 21  | 29  | 1.8 |\n",
       "| 20  | 31  | 2.0 |\n",
       "| 21  | 30  | 2.0 |\n",
       "| 16  | 26  | 2.8 |\n",
       "| 18  | 26  | 2.8 |\n",
       "\n"
      ],
      "text/plain": [
       "  cty hwy displ\n",
       "1 18  29  1.8  \n",
       "2 21  29  1.8  \n",
       "3 20  31  2.0  \n",
       "4 21  30  2.0  \n",
       "5 16  26  2.8  \n",
       "6 18  26  2.8  "
      ]
     },
     "metadata": {},
     "output_type": "display_data"
    }
   ],
   "source": [
    "head(select(mpg,cty,hwy,displ))"
   ]
  },
  {
   "cell_type": "code",
   "execution_count": 11,
   "metadata": {},
   "outputs": [
    {
     "data": {
      "text/html": [
       "<table>\n",
       "<thead><tr><th scope=col>id</th><th scope=col>name</th><th scope=col>chem</th><th scope=col>class</th></tr></thead>\n",
       "<tbody>\n",
       "\t<tr><td>1     </td><td>ram   </td><td>71    </td><td>a     </td></tr>\n",
       "\t<tr><td>2     </td><td>hari  </td><td>77    </td><td>b     </td></tr>\n",
       "\t<tr><td>3     </td><td>allah </td><td>44    </td><td>c     </td></tr>\n",
       "\t<tr><td>4     </td><td>eid   </td><td>49    </td><td>b     </td></tr>\n",
       "\t<tr><td>5     </td><td>diwali</td><td>55    </td><td>b     </td></tr>\n",
       "\t<tr><td>6     </td><td>ronak </td><td>94    </td><td>b     </td></tr>\n",
       "</tbody>\n",
       "</table>\n"
      ],
      "text/latex": [
       "\\begin{tabular}{r|llll}\n",
       " id & name & chem & class\\\\\n",
       "\\hline\n",
       "\t 1      & ram    & 71     & a     \\\\\n",
       "\t 2      & hari   & 77     & b     \\\\\n",
       "\t 3      & allah  & 44     & c     \\\\\n",
       "\t 4      & eid    & 49     & b     \\\\\n",
       "\t 5      & diwali & 55     & b     \\\\\n",
       "\t 6      & ronak  & 94     & b     \\\\\n",
       "\\end{tabular}\n"
      ],
      "text/markdown": [
       "\n",
       "| id | name | chem | class |\n",
       "|---|---|---|---|\n",
       "| 1      | ram    | 71     | a      |\n",
       "| 2      | hari   | 77     | b      |\n",
       "| 3      | allah  | 44     | c      |\n",
       "| 4      | eid    | 49     | b      |\n",
       "| 5      | diwali | 55     | b      |\n",
       "| 6      | ronak  | 94     | b      |\n",
       "\n"
      ],
      "text/plain": [
       "  id name   chem class\n",
       "1 1  ram    71   a    \n",
       "2 2  hari   77   b    \n",
       "3 3  allah  44   c    \n",
       "4 4  eid    49   b    \n",
       "5 5  diwali 55   b    \n",
       "6 6  ronak  94   b    "
      ]
     },
     "metadata": {},
     "output_type": "display_data"
    }
   ],
   "source": [
    "head(info)"
   ]
  },
  {
   "cell_type": "code",
   "execution_count": 12,
   "metadata": {},
   "outputs": [
    {
     "data": {
      "text/html": [
       "<table>\n",
       "<thead><tr><th scope=col>id</th><th scope=col>score</th><th scope=col>game</th></tr></thead>\n",
       "<tbody>\n",
       "\t<tr><td>1       </td><td>94      </td><td>football</td></tr>\n",
       "</tbody>\n",
       "</table>\n"
      ],
      "text/latex": [
       "\\begin{tabular}{r|lll}\n",
       " id & score & game\\\\\n",
       "\\hline\n",
       "\t 1        & 94       & football\\\\\n",
       "\\end{tabular}\n"
      ],
      "text/markdown": [
       "\n",
       "| id | score | game |\n",
       "|---|---|---|\n",
       "| 1        | 94       | football |\n",
       "\n"
      ],
      "text/plain": [
       "  id score game    \n",
       "1 1  94    football"
      ]
     },
     "metadata": {},
     "output_type": "display_data"
    }
   ],
   "source": [
    "filter(game,score>90)"
   ]
  },
  {
   "cell_type": "code",
   "execution_count": 13,
   "metadata": {},
   "outputs": [
    {
     "data": {
      "text/html": [
       "<table>\n",
       "<thead><tr><th scope=col>id</th><th scope=col>score</th><th scope=col>game</th></tr></thead>\n",
       "<tbody>\n",
       "\t<tr><td>2      </td><td>45     </td><td>cricket</td></tr>\n",
       "\t<tr><td>4      </td><td>78     </td><td>cricket</td></tr>\n",
       "\t<tr><td>5      </td><td>68     </td><td>cricket</td></tr>\n",
       "\t<tr><td>6      </td><td>86     </td><td>cricket</td></tr>\n",
       "\t<tr><td>7      </td><td>76     </td><td>cricket</td></tr>\n",
       "\t<tr><td>9      </td><td>71     </td><td>cricket</td></tr>\n",
       "</tbody>\n",
       "</table>\n"
      ],
      "text/latex": [
       "\\begin{tabular}{r|lll}\n",
       " id & score & game\\\\\n",
       "\\hline\n",
       "\t 2       & 45      & cricket\\\\\n",
       "\t 4       & 78      & cricket\\\\\n",
       "\t 5       & 68      & cricket\\\\\n",
       "\t 6       & 86      & cricket\\\\\n",
       "\t 7       & 76      & cricket\\\\\n",
       "\t 9       & 71      & cricket\\\\\n",
       "\\end{tabular}\n"
      ],
      "text/markdown": [
       "\n",
       "| id | score | game |\n",
       "|---|---|---|\n",
       "| 2       | 45      | cricket |\n",
       "| 4       | 78      | cricket |\n",
       "| 5       | 68      | cricket |\n",
       "| 6       | 86      | cricket |\n",
       "| 7       | 76      | cricket |\n",
       "| 9       | 71      | cricket |\n",
       "\n"
      ],
      "text/plain": [
       "  id score game   \n",
       "1 2  45    cricket\n",
       "2 4  78    cricket\n",
       "3 5  68    cricket\n",
       "4 6  86    cricket\n",
       "5 7  76    cricket\n",
       "6 9  71    cricket"
      ]
     },
     "metadata": {},
     "output_type": "display_data"
    }
   ],
   "source": [
    "filter(game,score>20,game=='cricket')"
   ]
  },
  {
   "cell_type": "code",
   "execution_count": 14,
   "metadata": {},
   "outputs": [
    {
     "data": {
      "text/html": [
       "<table>\n",
       "<thead><tr><th scope=col>manufacturer</th><th scope=col>model</th><th scope=col>displ</th><th scope=col>year</th><th scope=col>cyl</th><th scope=col>trans</th><th scope=col>drv</th><th scope=col>cty</th><th scope=col>hwy</th><th scope=col>fl</th><th scope=col>class</th></tr></thead>\n",
       "<tbody>\n",
       "\t<tr><td>audi      </td><td>a4        </td><td>1.8       </td><td>1999      </td><td>4         </td><td>auto(l5)  </td><td>f         </td><td>18        </td><td>29        </td><td>p         </td><td>compact   </td></tr>\n",
       "\t<tr><td>audi      </td><td>a4        </td><td>1.8       </td><td>1999      </td><td>4         </td><td>manual(m5)</td><td>f         </td><td>21        </td><td>29        </td><td>p         </td><td>compact   </td></tr>\n",
       "\t<tr><td>audi      </td><td>a4        </td><td>2.0       </td><td>2008      </td><td>4         </td><td>manual(m6)</td><td>f         </td><td>20        </td><td>31        </td><td>p         </td><td>compact   </td></tr>\n",
       "\t<tr><td>audi      </td><td>a4        </td><td>2.0       </td><td>2008      </td><td>4         </td><td>auto(av)  </td><td>f         </td><td>21        </td><td>30        </td><td>p         </td><td>compact   </td></tr>\n",
       "\t<tr><td>audi      </td><td>a4        </td><td>2.8       </td><td>1999      </td><td>6         </td><td>auto(l5)  </td><td>f         </td><td>16        </td><td>26        </td><td>p         </td><td>compact   </td></tr>\n",
       "\t<tr><td>audi      </td><td>a4        </td><td>2.8       </td><td>1999      </td><td>6         </td><td>manual(m5)</td><td>f         </td><td>18        </td><td>26        </td><td>p         </td><td>compact   </td></tr>\n",
       "</tbody>\n",
       "</table>\n"
      ],
      "text/latex": [
       "\\begin{tabular}{r|lllllllllll}\n",
       " manufacturer & model & displ & year & cyl & trans & drv & cty & hwy & fl & class\\\\\n",
       "\\hline\n",
       "\t audi       & a4         & 1.8        & 1999       & 4          & auto(l5)   & f          & 18         & 29         & p          & compact   \\\\\n",
       "\t audi       & a4         & 1.8        & 1999       & 4          & manual(m5) & f          & 21         & 29         & p          & compact   \\\\\n",
       "\t audi       & a4         & 2.0        & 2008       & 4          & manual(m6) & f          & 20         & 31         & p          & compact   \\\\\n",
       "\t audi       & a4         & 2.0        & 2008       & 4          & auto(av)   & f          & 21         & 30         & p          & compact   \\\\\n",
       "\t audi       & a4         & 2.8        & 1999       & 6          & auto(l5)   & f          & 16         & 26         & p          & compact   \\\\\n",
       "\t audi       & a4         & 2.8        & 1999       & 6          & manual(m5) & f          & 18         & 26         & p          & compact   \\\\\n",
       "\\end{tabular}\n"
      ],
      "text/markdown": [
       "\n",
       "| manufacturer | model | displ | year | cyl | trans | drv | cty | hwy | fl | class |\n",
       "|---|---|---|---|---|---|---|---|---|---|---|\n",
       "| audi       | a4         | 1.8        | 1999       | 4          | auto(l5)   | f          | 18         | 29         | p          | compact    |\n",
       "| audi       | a4         | 1.8        | 1999       | 4          | manual(m5) | f          | 21         | 29         | p          | compact    |\n",
       "| audi       | a4         | 2.0        | 2008       | 4          | manual(m6) | f          | 20         | 31         | p          | compact    |\n",
       "| audi       | a4         | 2.0        | 2008       | 4          | auto(av)   | f          | 21         | 30         | p          | compact    |\n",
       "| audi       | a4         | 2.8        | 1999       | 6          | auto(l5)   | f          | 16         | 26         | p          | compact    |\n",
       "| audi       | a4         | 2.8        | 1999       | 6          | manual(m5) | f          | 18         | 26         | p          | compact    |\n",
       "\n"
      ],
      "text/plain": [
       "  manufacturer model displ year cyl trans      drv cty hwy fl class  \n",
       "1 audi         a4    1.8   1999 4   auto(l5)   f   18  29  p  compact\n",
       "2 audi         a4    1.8   1999 4   manual(m5) f   21  29  p  compact\n",
       "3 audi         a4    2.0   2008 4   manual(m6) f   20  31  p  compact\n",
       "4 audi         a4    2.0   2008 4   auto(av)   f   21  30  p  compact\n",
       "5 audi         a4    2.8   1999 6   auto(l5)   f   16  26  p  compact\n",
       "6 audi         a4    2.8   1999 6   manual(m5) f   18  26  p  compact"
      ]
     },
     "metadata": {},
     "output_type": "display_data"
    }
   ],
   "source": [
    "head(mpg)"
   ]
  },
  {
   "cell_type": "code",
   "execution_count": 15,
   "metadata": {},
   "outputs": [],
   "source": [
    "c=select(mpg,manufacturer,displ,cty,hwy)"
   ]
  },
  {
   "cell_type": "code",
   "execution_count": 16,
   "metadata": {},
   "outputs": [
    {
     "data": {
      "text/html": [
       "<table>\n",
       "<thead><tr><th scope=col>manufacturer</th><th scope=col>displ</th><th scope=col>cty</th><th scope=col>hwy</th></tr></thead>\n",
       "<tbody>\n",
       "\t<tr><td>audi      </td><td>1.8       </td><td>21        </td><td>29        </td></tr>\n",
       "\t<tr><td>audi      </td><td>2.0       </td><td>21        </td><td>30        </td></tr>\n",
       "\t<tr><td>chevrolet </td><td>2.4       </td><td>22        </td><td>30        </td></tr>\n",
       "\t<tr><td>honda     </td><td>1.6       </td><td>28        </td><td>33        </td></tr>\n",
       "\t<tr><td>honda     </td><td>1.6       </td><td>24        </td><td>32        </td></tr>\n",
       "\t<tr><td>honda     </td><td>1.6       </td><td>25        </td><td>32        </td></tr>\n",
       "\t<tr><td>honda     </td><td>1.6       </td><td>23        </td><td>29        </td></tr>\n",
       "\t<tr><td>honda     </td><td>1.6       </td><td>24        </td><td>32        </td></tr>\n",
       "\t<tr><td>honda     </td><td>1.8       </td><td>26        </td><td>34        </td></tr>\n",
       "\t<tr><td>honda     </td><td>1.8       </td><td>25        </td><td>36        </td></tr>\n",
       "\t<tr><td>honda     </td><td>1.8       </td><td>24        </td><td>36        </td></tr>\n",
       "\t<tr><td>honda     </td><td>2.0       </td><td>21        </td><td>29        </td></tr>\n",
       "\t<tr><td>hyundai   </td><td>2.4       </td><td>21        </td><td>30        </td></tr>\n",
       "\t<tr><td>hyundai   </td><td>2.4       </td><td>21        </td><td>31        </td></tr>\n",
       "\t<tr><td>nissan    </td><td>2.4       </td><td>21        </td><td>29        </td></tr>\n",
       "\t<tr><td>nissan    </td><td>2.5       </td><td>23        </td><td>31        </td></tr>\n",
       "\t<tr><td>nissan    </td><td>2.5       </td><td>23        </td><td>32        </td></tr>\n",
       "\t<tr><td>subaru    </td><td>2.2       </td><td>21        </td><td>26        </td></tr>\n",
       "\t<tr><td>toyota    </td><td>2.2       </td><td>21        </td><td>29        </td></tr>\n",
       "\t<tr><td>toyota    </td><td>2.2       </td><td>21        </td><td>27        </td></tr>\n",
       "\t<tr><td>toyota    </td><td>2.4       </td><td>21        </td><td>31        </td></tr>\n",
       "\t<tr><td>toyota    </td><td>2.4       </td><td>21        </td><td>31        </td></tr>\n",
       "\t<tr><td>toyota    </td><td>2.2       </td><td>21        </td><td>27        </td></tr>\n",
       "\t<tr><td>toyota    </td><td>2.2       </td><td>21        </td><td>29        </td></tr>\n",
       "\t<tr><td>toyota    </td><td>2.4       </td><td>21        </td><td>31        </td></tr>\n",
       "\t<tr><td>toyota    </td><td>2.4       </td><td>22        </td><td>31        </td></tr>\n",
       "\t<tr><td>toyota    </td><td>1.8       </td><td>24        </td><td>30        </td></tr>\n",
       "\t<tr><td>toyota    </td><td>1.8       </td><td>24        </td><td>33        </td></tr>\n",
       "\t<tr><td>toyota    </td><td>1.8       </td><td>26        </td><td>35        </td></tr>\n",
       "\t<tr><td>toyota    </td><td>1.8       </td><td>28        </td><td>37        </td></tr>\n",
       "\t<tr><td>toyota    </td><td>1.8       </td><td>26        </td><td>35        </td></tr>\n",
       "\t<tr><td>volkswagen</td><td>2.0       </td><td>21        </td><td>29        </td></tr>\n",
       "\t<tr><td>volkswagen</td><td>2.0       </td><td>21        </td><td>29        </td></tr>\n",
       "\t<tr><td>volkswagen</td><td>2.0       </td><td>22        </td><td>29        </td></tr>\n",
       "\t<tr><td>volkswagen</td><td>1.9       </td><td>33        </td><td>44        </td></tr>\n",
       "\t<tr><td>volkswagen</td><td>2.0       </td><td>21        </td><td>29        </td></tr>\n",
       "\t<tr><td>volkswagen</td><td>2.0       </td><td>22        </td><td>29        </td></tr>\n",
       "\t<tr><td>volkswagen</td><td>2.0       </td><td>21        </td><td>29        </td></tr>\n",
       "\t<tr><td>volkswagen</td><td>2.5       </td><td>21        </td><td>29        </td></tr>\n",
       "\t<tr><td>volkswagen</td><td>2.5       </td><td>21        </td><td>29        </td></tr>\n",
       "\t<tr><td>volkswagen</td><td>1.9       </td><td>35        </td><td>44        </td></tr>\n",
       "\t<tr><td>volkswagen</td><td>1.9       </td><td>29        </td><td>41        </td></tr>\n",
       "\t<tr><td>volkswagen</td><td>2.0       </td><td>21        </td><td>29        </td></tr>\n",
       "\t<tr><td>volkswagen</td><td>1.8       </td><td>21        </td><td>29        </td></tr>\n",
       "\t<tr><td>volkswagen</td><td>2.0       </td><td>21        </td><td>29        </td></tr>\n",
       "</tbody>\n",
       "</table>\n"
      ],
      "text/latex": [
       "\\begin{tabular}{r|llll}\n",
       " manufacturer & displ & cty & hwy\\\\\n",
       "\\hline\n",
       "\t audi       & 1.8        & 21         & 29        \\\\\n",
       "\t audi       & 2.0        & 21         & 30        \\\\\n",
       "\t chevrolet  & 2.4        & 22         & 30        \\\\\n",
       "\t honda      & 1.6        & 28         & 33        \\\\\n",
       "\t honda      & 1.6        & 24         & 32        \\\\\n",
       "\t honda      & 1.6        & 25         & 32        \\\\\n",
       "\t honda      & 1.6        & 23         & 29        \\\\\n",
       "\t honda      & 1.6        & 24         & 32        \\\\\n",
       "\t honda      & 1.8        & 26         & 34        \\\\\n",
       "\t honda      & 1.8        & 25         & 36        \\\\\n",
       "\t honda      & 1.8        & 24         & 36        \\\\\n",
       "\t honda      & 2.0        & 21         & 29        \\\\\n",
       "\t hyundai    & 2.4        & 21         & 30        \\\\\n",
       "\t hyundai    & 2.4        & 21         & 31        \\\\\n",
       "\t nissan     & 2.4        & 21         & 29        \\\\\n",
       "\t nissan     & 2.5        & 23         & 31        \\\\\n",
       "\t nissan     & 2.5        & 23         & 32        \\\\\n",
       "\t subaru     & 2.2        & 21         & 26        \\\\\n",
       "\t toyota     & 2.2        & 21         & 29        \\\\\n",
       "\t toyota     & 2.2        & 21         & 27        \\\\\n",
       "\t toyota     & 2.4        & 21         & 31        \\\\\n",
       "\t toyota     & 2.4        & 21         & 31        \\\\\n",
       "\t toyota     & 2.2        & 21         & 27        \\\\\n",
       "\t toyota     & 2.2        & 21         & 29        \\\\\n",
       "\t toyota     & 2.4        & 21         & 31        \\\\\n",
       "\t toyota     & 2.4        & 22         & 31        \\\\\n",
       "\t toyota     & 1.8        & 24         & 30        \\\\\n",
       "\t toyota     & 1.8        & 24         & 33        \\\\\n",
       "\t toyota     & 1.8        & 26         & 35        \\\\\n",
       "\t toyota     & 1.8        & 28         & 37        \\\\\n",
       "\t toyota     & 1.8        & 26         & 35        \\\\\n",
       "\t volkswagen & 2.0        & 21         & 29        \\\\\n",
       "\t volkswagen & 2.0        & 21         & 29        \\\\\n",
       "\t volkswagen & 2.0        & 22         & 29        \\\\\n",
       "\t volkswagen & 1.9        & 33         & 44        \\\\\n",
       "\t volkswagen & 2.0        & 21         & 29        \\\\\n",
       "\t volkswagen & 2.0        & 22         & 29        \\\\\n",
       "\t volkswagen & 2.0        & 21         & 29        \\\\\n",
       "\t volkswagen & 2.5        & 21         & 29        \\\\\n",
       "\t volkswagen & 2.5        & 21         & 29        \\\\\n",
       "\t volkswagen & 1.9        & 35         & 44        \\\\\n",
       "\t volkswagen & 1.9        & 29         & 41        \\\\\n",
       "\t volkswagen & 2.0        & 21         & 29        \\\\\n",
       "\t volkswagen & 1.8        & 21         & 29        \\\\\n",
       "\t volkswagen & 2.0        & 21         & 29        \\\\\n",
       "\\end{tabular}\n"
      ],
      "text/markdown": [
       "\n",
       "| manufacturer | displ | cty | hwy |\n",
       "|---|---|---|---|\n",
       "| audi       | 1.8        | 21         | 29         |\n",
       "| audi       | 2.0        | 21         | 30         |\n",
       "| chevrolet  | 2.4        | 22         | 30         |\n",
       "| honda      | 1.6        | 28         | 33         |\n",
       "| honda      | 1.6        | 24         | 32         |\n",
       "| honda      | 1.6        | 25         | 32         |\n",
       "| honda      | 1.6        | 23         | 29         |\n",
       "| honda      | 1.6        | 24         | 32         |\n",
       "| honda      | 1.8        | 26         | 34         |\n",
       "| honda      | 1.8        | 25         | 36         |\n",
       "| honda      | 1.8        | 24         | 36         |\n",
       "| honda      | 2.0        | 21         | 29         |\n",
       "| hyundai    | 2.4        | 21         | 30         |\n",
       "| hyundai    | 2.4        | 21         | 31         |\n",
       "| nissan     | 2.4        | 21         | 29         |\n",
       "| nissan     | 2.5        | 23         | 31         |\n",
       "| nissan     | 2.5        | 23         | 32         |\n",
       "| subaru     | 2.2        | 21         | 26         |\n",
       "| toyota     | 2.2        | 21         | 29         |\n",
       "| toyota     | 2.2        | 21         | 27         |\n",
       "| toyota     | 2.4        | 21         | 31         |\n",
       "| toyota     | 2.4        | 21         | 31         |\n",
       "| toyota     | 2.2        | 21         | 27         |\n",
       "| toyota     | 2.2        | 21         | 29         |\n",
       "| toyota     | 2.4        | 21         | 31         |\n",
       "| toyota     | 2.4        | 22         | 31         |\n",
       "| toyota     | 1.8        | 24         | 30         |\n",
       "| toyota     | 1.8        | 24         | 33         |\n",
       "| toyota     | 1.8        | 26         | 35         |\n",
       "| toyota     | 1.8        | 28         | 37         |\n",
       "| toyota     | 1.8        | 26         | 35         |\n",
       "| volkswagen | 2.0        | 21         | 29         |\n",
       "| volkswagen | 2.0        | 21         | 29         |\n",
       "| volkswagen | 2.0        | 22         | 29         |\n",
       "| volkswagen | 1.9        | 33         | 44         |\n",
       "| volkswagen | 2.0        | 21         | 29         |\n",
       "| volkswagen | 2.0        | 22         | 29         |\n",
       "| volkswagen | 2.0        | 21         | 29         |\n",
       "| volkswagen | 2.5        | 21         | 29         |\n",
       "| volkswagen | 2.5        | 21         | 29         |\n",
       "| volkswagen | 1.9        | 35         | 44         |\n",
       "| volkswagen | 1.9        | 29         | 41         |\n",
       "| volkswagen | 2.0        | 21         | 29         |\n",
       "| volkswagen | 1.8        | 21         | 29         |\n",
       "| volkswagen | 2.0        | 21         | 29         |\n",
       "\n"
      ],
      "text/plain": [
       "   manufacturer displ cty hwy\n",
       "1  audi         1.8   21  29 \n",
       "2  audi         2.0   21  30 \n",
       "3  chevrolet    2.4   22  30 \n",
       "4  honda        1.6   28  33 \n",
       "5  honda        1.6   24  32 \n",
       "6  honda        1.6   25  32 \n",
       "7  honda        1.6   23  29 \n",
       "8  honda        1.6   24  32 \n",
       "9  honda        1.8   26  34 \n",
       "10 honda        1.8   25  36 \n",
       "11 honda        1.8   24  36 \n",
       "12 honda        2.0   21  29 \n",
       "13 hyundai      2.4   21  30 \n",
       "14 hyundai      2.4   21  31 \n",
       "15 nissan       2.4   21  29 \n",
       "16 nissan       2.5   23  31 \n",
       "17 nissan       2.5   23  32 \n",
       "18 subaru       2.2   21  26 \n",
       "19 toyota       2.2   21  29 \n",
       "20 toyota       2.2   21  27 \n",
       "21 toyota       2.4   21  31 \n",
       "22 toyota       2.4   21  31 \n",
       "23 toyota       2.2   21  27 \n",
       "24 toyota       2.2   21  29 \n",
       "25 toyota       2.4   21  31 \n",
       "26 toyota       2.4   22  31 \n",
       "27 toyota       1.8   24  30 \n",
       "28 toyota       1.8   24  33 \n",
       "29 toyota       1.8   26  35 \n",
       "30 toyota       1.8   28  37 \n",
       "31 toyota       1.8   26  35 \n",
       "32 volkswagen   2.0   21  29 \n",
       "33 volkswagen   2.0   21  29 \n",
       "34 volkswagen   2.0   22  29 \n",
       "35 volkswagen   1.9   33  44 \n",
       "36 volkswagen   2.0   21  29 \n",
       "37 volkswagen   2.0   22  29 \n",
       "38 volkswagen   2.0   21  29 \n",
       "39 volkswagen   2.5   21  29 \n",
       "40 volkswagen   2.5   21  29 \n",
       "41 volkswagen   1.9   35  44 \n",
       "42 volkswagen   1.9   29  41 \n",
       "43 volkswagen   2.0   21  29 \n",
       "44 volkswagen   1.8   21  29 \n",
       "45 volkswagen   2.0   21  29 "
      ]
     },
     "metadata": {},
     "output_type": "display_data"
    }
   ],
   "source": [
    "filter(c,cty>20,hwy>20)"
   ]
  },
  {
   "cell_type": "code",
   "execution_count": 17,
   "metadata": {},
   "outputs": [
    {
     "data": {
      "text/html": [
       "<table>\n",
       "<thead><tr><th scope=col>id</th><th scope=col>name</th><th scope=col>chem</th><th scope=col>class</th></tr></thead>\n",
       "<tbody>\n",
       "\t<tr><td>1     </td><td>ram   </td><td>71    </td><td>a     </td></tr>\n",
       "\t<tr><td>2     </td><td>hari  </td><td>77    </td><td>b     </td></tr>\n",
       "\t<tr><td>3     </td><td>allah </td><td>44    </td><td>c     </td></tr>\n",
       "\t<tr><td>4     </td><td>eid   </td><td>49    </td><td>b     </td></tr>\n",
       "\t<tr><td>5     </td><td>diwali</td><td>55    </td><td>b     </td></tr>\n",
       "\t<tr><td>6     </td><td>ronak </td><td>94    </td><td>b     </td></tr>\n",
       "</tbody>\n",
       "</table>\n"
      ],
      "text/latex": [
       "\\begin{tabular}{r|llll}\n",
       " id & name & chem & class\\\\\n",
       "\\hline\n",
       "\t 1      & ram    & 71     & a     \\\\\n",
       "\t 2      & hari   & 77     & b     \\\\\n",
       "\t 3      & allah  & 44     & c     \\\\\n",
       "\t 4      & eid    & 49     & b     \\\\\n",
       "\t 5      & diwali & 55     & b     \\\\\n",
       "\t 6      & ronak  & 94     & b     \\\\\n",
       "\\end{tabular}\n"
      ],
      "text/markdown": [
       "\n",
       "| id | name | chem | class |\n",
       "|---|---|---|---|\n",
       "| 1      | ram    | 71     | a      |\n",
       "| 2      | hari   | 77     | b      |\n",
       "| 3      | allah  | 44     | c      |\n",
       "| 4      | eid    | 49     | b      |\n",
       "| 5      | diwali | 55     | b      |\n",
       "| 6      | ronak  | 94     | b      |\n",
       "\n"
      ],
      "text/plain": [
       "  id name   chem class\n",
       "1 1  ram    71   a    \n",
       "2 2  hari   77   b    \n",
       "3 3  allah  44   c    \n",
       "4 4  eid    49   b    \n",
       "5 5  diwali 55   b    \n",
       "6 6  ronak  94   b    "
      ]
     },
     "metadata": {},
     "output_type": "display_data"
    }
   ],
   "source": [
    "head(info)"
   ]
  },
  {
   "cell_type": "code",
   "execution_count": 18,
   "metadata": {},
   "outputs": [],
   "source": [
    "info$maths = sample(40:100,10)\n",
    "info$sci = sample(40:100,10)\n",
    "info$other = sample(40:100,10)"
   ]
  },
  {
   "cell_type": "code",
   "execution_count": 19,
   "metadata": {},
   "outputs": [
    {
     "data": {
      "text/html": [
       "<table>\n",
       "<thead><tr><th scope=col>id</th><th scope=col>name</th><th scope=col>chem</th><th scope=col>class</th><th scope=col>maths</th><th scope=col>sci</th><th scope=col>other</th></tr></thead>\n",
       "<tbody>\n",
       "\t<tr><td>1     </td><td>ram   </td><td>71    </td><td>a     </td><td>40    </td><td>73    </td><td>87    </td></tr>\n",
       "\t<tr><td>2     </td><td>hari  </td><td>77    </td><td>b     </td><td>91    </td><td>74    </td><td>42    </td></tr>\n",
       "\t<tr><td>3     </td><td>allah </td><td>44    </td><td>c     </td><td>70    </td><td>85    </td><td>67    </td></tr>\n",
       "\t<tr><td>4     </td><td>eid   </td><td>49    </td><td>b     </td><td>76    </td><td>63    </td><td>66    </td></tr>\n",
       "\t<tr><td>5     </td><td>diwali</td><td>55    </td><td>b     </td><td>59    </td><td>77    </td><td>59    </td></tr>\n",
       "\t<tr><td>6     </td><td>ronak </td><td>94    </td><td>b     </td><td>44    </td><td>49    </td><td>48    </td></tr>\n",
       "</tbody>\n",
       "</table>\n"
      ],
      "text/latex": [
       "\\begin{tabular}{r|lllllll}\n",
       " id & name & chem & class & maths & sci & other\\\\\n",
       "\\hline\n",
       "\t 1      & ram    & 71     & a      & 40     & 73     & 87    \\\\\n",
       "\t 2      & hari   & 77     & b      & 91     & 74     & 42    \\\\\n",
       "\t 3      & allah  & 44     & c      & 70     & 85     & 67    \\\\\n",
       "\t 4      & eid    & 49     & b      & 76     & 63     & 66    \\\\\n",
       "\t 5      & diwali & 55     & b      & 59     & 77     & 59    \\\\\n",
       "\t 6      & ronak  & 94     & b      & 44     & 49     & 48    \\\\\n",
       "\\end{tabular}\n"
      ],
      "text/markdown": [
       "\n",
       "| id | name | chem | class | maths | sci | other |\n",
       "|---|---|---|---|---|---|---|\n",
       "| 1      | ram    | 71     | a      | 40     | 73     | 87     |\n",
       "| 2      | hari   | 77     | b      | 91     | 74     | 42     |\n",
       "| 3      | allah  | 44     | c      | 70     | 85     | 67     |\n",
       "| 4      | eid    | 49     | b      | 76     | 63     | 66     |\n",
       "| 5      | diwali | 55     | b      | 59     | 77     | 59     |\n",
       "| 6      | ronak  | 94     | b      | 44     | 49     | 48     |\n",
       "\n"
      ],
      "text/plain": [
       "  id name   chem class maths sci other\n",
       "1 1  ram    71   a     40    73  87   \n",
       "2 2  hari   77   b     91    74  42   \n",
       "3 3  allah  44   c     70    85  67   \n",
       "4 4  eid    49   b     76    63  66   \n",
       "5 5  diwali 55   b     59    77  59   \n",
       "6 6  ronak  94   b     44    49  48   "
      ]
     },
     "metadata": {},
     "output_type": "display_data"
    }
   ],
   "source": [
    "head(info)"
   ]
  },
  {
   "cell_type": "code",
   "execution_count": 20,
   "metadata": {},
   "outputs": [
    {
     "data": {
      "text/html": [
       "<table>\n",
       "<thead><tr><th scope=col>id</th><th scope=col>name</th><th scope=col>chem</th><th scope=col>class</th><th scope=col>maths</th><th scope=col>sci</th><th scope=col>other</th><th scope=col>percentage</th></tr></thead>\n",
       "<tbody>\n",
       "\t<tr><td>1       </td><td>ram     </td><td>71      </td><td>a       </td><td>40      </td><td>73      </td><td>87      </td><td>66.66667</td></tr>\n",
       "\t<tr><td>2       </td><td>hari    </td><td>77      </td><td>b       </td><td>91      </td><td>74      </td><td>42      </td><td>69.00000</td></tr>\n",
       "\t<tr><td>3       </td><td>allah   </td><td>44      </td><td>c       </td><td>70      </td><td>85      </td><td>67      </td><td>74.00000</td></tr>\n",
       "\t<tr><td>4       </td><td>eid     </td><td>49      </td><td>b       </td><td>76      </td><td>63      </td><td>66      </td><td>68.33333</td></tr>\n",
       "\t<tr><td>5       </td><td>diwali  </td><td>55      </td><td>b       </td><td>59      </td><td>77      </td><td>59      </td><td>65.00000</td></tr>\n",
       "\t<tr><td>6       </td><td>ronak   </td><td>94      </td><td>b       </td><td>44      </td><td>49      </td><td>48      </td><td>47.00000</td></tr>\n",
       "</tbody>\n",
       "</table>\n"
      ],
      "text/latex": [
       "\\begin{tabular}{r|llllllll}\n",
       " id & name & chem & class & maths & sci & other & percentage\\\\\n",
       "\\hline\n",
       "\t 1        & ram      & 71       & a        & 40       & 73       & 87       & 66.66667\\\\\n",
       "\t 2        & hari     & 77       & b        & 91       & 74       & 42       & 69.00000\\\\\n",
       "\t 3        & allah    & 44       & c        & 70       & 85       & 67       & 74.00000\\\\\n",
       "\t 4        & eid      & 49       & b        & 76       & 63       & 66       & 68.33333\\\\\n",
       "\t 5        & diwali   & 55       & b        & 59       & 77       & 59       & 65.00000\\\\\n",
       "\t 6        & ronak    & 94       & b        & 44       & 49       & 48       & 47.00000\\\\\n",
       "\\end{tabular}\n"
      ],
      "text/markdown": [
       "\n",
       "| id | name | chem | class | maths | sci | other | percentage |\n",
       "|---|---|---|---|---|---|---|---|\n",
       "| 1        | ram      | 71       | a        | 40       | 73       | 87       | 66.66667 |\n",
       "| 2        | hari     | 77       | b        | 91       | 74       | 42       | 69.00000 |\n",
       "| 3        | allah    | 44       | c        | 70       | 85       | 67       | 74.00000 |\n",
       "| 4        | eid      | 49       | b        | 76       | 63       | 66       | 68.33333 |\n",
       "| 5        | diwali   | 55       | b        | 59       | 77       | 59       | 65.00000 |\n",
       "| 6        | ronak    | 94       | b        | 44       | 49       | 48       | 47.00000 |\n",
       "\n"
      ],
      "text/plain": [
       "  id name   chem class maths sci other percentage\n",
       "1 1  ram    71   a     40    73  87    66.66667  \n",
       "2 2  hari   77   b     91    74  42    69.00000  \n",
       "3 3  allah  44   c     70    85  67    74.00000  \n",
       "4 4  eid    49   b     76    63  66    68.33333  \n",
       "5 5  diwali 55   b     59    77  59    65.00000  \n",
       "6 6  ronak  94   b     44    49  48    47.00000  "
      ]
     },
     "metadata": {},
     "output_type": "display_data"
    }
   ],
   "source": [
    "info = mutate(info,percentage=(maths+sci+other)/3)\n",
    "head(info)"
   ]
  },
  {
   "cell_type": "code",
   "execution_count": 21,
   "metadata": {},
   "outputs": [
    {
     "data": {
      "text/html": [
       "<table>\n",
       "<thead><tr><th scope=col>id</th><th scope=col>name</th><th scope=col>chem</th><th scope=col>class</th><th scope=col>maths</th><th scope=col>sci</th><th scope=col>other</th><th scope=col>percentage</th></tr></thead>\n",
       "<tbody>\n",
       "\t<tr><td> 1      </td><td>ram     </td><td>71      </td><td>a       </td><td>40      </td><td>73      </td><td>87      </td><td>66.66667</td></tr>\n",
       "\t<tr><td> 2      </td><td>hari    </td><td>77      </td><td>b       </td><td>91      </td><td>74      </td><td>42      </td><td>69.00000</td></tr>\n",
       "\t<tr><td> 3      </td><td>allah   </td><td>44      </td><td>c       </td><td>70      </td><td>85      </td><td>67      </td><td>74.00000</td></tr>\n",
       "\t<tr><td> 4      </td><td>eid     </td><td>49      </td><td>b       </td><td>76      </td><td>63      </td><td>66      </td><td>68.33333</td></tr>\n",
       "\t<tr><td> 5      </td><td>diwali  </td><td>55      </td><td>b       </td><td>59      </td><td>77      </td><td>59      </td><td>65.00000</td></tr>\n",
       "\t<tr><td> 6      </td><td>ronak   </td><td>94      </td><td>b       </td><td>44      </td><td>49      </td><td>48      </td><td>47.00000</td></tr>\n",
       "\t<tr><td> 7      </td><td>pooja   </td><td>72      </td><td>c       </td><td>57      </td><td>46      </td><td>63      </td><td>55.33333</td></tr>\n",
       "\t<tr><td> 8      </td><td>ganesh  </td><td>89      </td><td>b       </td><td>53      </td><td>67      </td><td>81      </td><td>67.00000</td></tr>\n",
       "\t<tr><td> 9      </td><td>akbar   </td><td>96      </td><td>a       </td><td>46      </td><td>82      </td><td>56      </td><td>61.33333</td></tr>\n",
       "\t<tr><td>10      </td><td>aladin  </td><td>76      </td><td>b       </td><td>47      </td><td>84      </td><td>79      </td><td>70.00000</td></tr>\n",
       "</tbody>\n",
       "</table>\n"
      ],
      "text/latex": [
       "\\begin{tabular}{r|llllllll}\n",
       " id & name & chem & class & maths & sci & other & percentage\\\\\n",
       "\\hline\n",
       "\t  1       & ram      & 71       & a        & 40       & 73       & 87       & 66.66667\\\\\n",
       "\t  2       & hari     & 77       & b        & 91       & 74       & 42       & 69.00000\\\\\n",
       "\t  3       & allah    & 44       & c        & 70       & 85       & 67       & 74.00000\\\\\n",
       "\t  4       & eid      & 49       & b        & 76       & 63       & 66       & 68.33333\\\\\n",
       "\t  5       & diwali   & 55       & b        & 59       & 77       & 59       & 65.00000\\\\\n",
       "\t  6       & ronak    & 94       & b        & 44       & 49       & 48       & 47.00000\\\\\n",
       "\t  7       & pooja    & 72       & c        & 57       & 46       & 63       & 55.33333\\\\\n",
       "\t  8       & ganesh   & 89       & b        & 53       & 67       & 81       & 67.00000\\\\\n",
       "\t  9       & akbar    & 96       & a        & 46       & 82       & 56       & 61.33333\\\\\n",
       "\t 10       & aladin   & 76       & b        & 47       & 84       & 79       & 70.00000\\\\\n",
       "\\end{tabular}\n"
      ],
      "text/markdown": [
       "\n",
       "| id | name | chem | class | maths | sci | other | percentage |\n",
       "|---|---|---|---|---|---|---|---|\n",
       "|  1       | ram      | 71       | a        | 40       | 73       | 87       | 66.66667 |\n",
       "|  2       | hari     | 77       | b        | 91       | 74       | 42       | 69.00000 |\n",
       "|  3       | allah    | 44       | c        | 70       | 85       | 67       | 74.00000 |\n",
       "|  4       | eid      | 49       | b        | 76       | 63       | 66       | 68.33333 |\n",
       "|  5       | diwali   | 55       | b        | 59       | 77       | 59       | 65.00000 |\n",
       "|  6       | ronak    | 94       | b        | 44       | 49       | 48       | 47.00000 |\n",
       "|  7       | pooja    | 72       | c        | 57       | 46       | 63       | 55.33333 |\n",
       "|  8       | ganesh   | 89       | b        | 53       | 67       | 81       | 67.00000 |\n",
       "|  9       | akbar    | 96       | a        | 46       | 82       | 56       | 61.33333 |\n",
       "| 10       | aladin   | 76       | b        | 47       | 84       | 79       | 70.00000 |\n",
       "\n"
      ],
      "text/plain": [
       "   id name   chem class maths sci other percentage\n",
       "1   1 ram    71   a     40    73  87    66.66667  \n",
       "2   2 hari   77   b     91    74  42    69.00000  \n",
       "3   3 allah  44   c     70    85  67    74.00000  \n",
       "4   4 eid    49   b     76    63  66    68.33333  \n",
       "5   5 diwali 55   b     59    77  59    65.00000  \n",
       "6   6 ronak  94   b     44    49  48    47.00000  \n",
       "7   7 pooja  72   c     57    46  63    55.33333  \n",
       "8   8 ganesh 89   b     53    67  81    67.00000  \n",
       "9   9 akbar  96   a     46    82  56    61.33333  \n",
       "10 10 aladin 76   b     47    84  79    70.00000  "
      ]
     },
     "metadata": {},
     "output_type": "display_data"
    }
   ],
   "source": [
    "info"
   ]
  },
  {
   "cell_type": "code",
   "execution_count": 22,
   "metadata": {},
   "outputs": [],
   "source": [
    "## sort\n",
    "x = sample(10:100,40)"
   ]
  },
  {
   "cell_type": "code",
   "execution_count": 23,
   "metadata": {},
   "outputs": [
    {
     "data": {
      "text/html": [
       "<ol class=list-inline>\n",
       "\t<li>81</li>\n",
       "\t<li>68</li>\n",
       "\t<li>10</li>\n",
       "\t<li>12</li>\n",
       "\t<li>21</li>\n",
       "\t<li>11</li>\n",
       "\t<li>18</li>\n",
       "\t<li>47</li>\n",
       "\t<li>60</li>\n",
       "\t<li>19</li>\n",
       "\t<li>96</li>\n",
       "\t<li>86</li>\n",
       "\t<li>46</li>\n",
       "\t<li>82</li>\n",
       "\t<li>57</li>\n",
       "\t<li>56</li>\n",
       "\t<li>41</li>\n",
       "\t<li>33</li>\n",
       "\t<li>90</li>\n",
       "\t<li>63</li>\n",
       "\t<li>62</li>\n",
       "\t<li>23</li>\n",
       "\t<li>69</li>\n",
       "\t<li>40</li>\n",
       "\t<li>20</li>\n",
       "\t<li>34</li>\n",
       "\t<li>51</li>\n",
       "\t<li>85</li>\n",
       "\t<li>65</li>\n",
       "\t<li>93</li>\n",
       "\t<li>54</li>\n",
       "\t<li>95</li>\n",
       "\t<li>66</li>\n",
       "\t<li>92</li>\n",
       "\t<li>24</li>\n",
       "\t<li>59</li>\n",
       "\t<li>76</li>\n",
       "\t<li>13</li>\n",
       "\t<li>71</li>\n",
       "\t<li>70</li>\n",
       "</ol>\n"
      ],
      "text/latex": [
       "\\begin{enumerate*}\n",
       "\\item 81\n",
       "\\item 68\n",
       "\\item 10\n",
       "\\item 12\n",
       "\\item 21\n",
       "\\item 11\n",
       "\\item 18\n",
       "\\item 47\n",
       "\\item 60\n",
       "\\item 19\n",
       "\\item 96\n",
       "\\item 86\n",
       "\\item 46\n",
       "\\item 82\n",
       "\\item 57\n",
       "\\item 56\n",
       "\\item 41\n",
       "\\item 33\n",
       "\\item 90\n",
       "\\item 63\n",
       "\\item 62\n",
       "\\item 23\n",
       "\\item 69\n",
       "\\item 40\n",
       "\\item 20\n",
       "\\item 34\n",
       "\\item 51\n",
       "\\item 85\n",
       "\\item 65\n",
       "\\item 93\n",
       "\\item 54\n",
       "\\item 95\n",
       "\\item 66\n",
       "\\item 92\n",
       "\\item 24\n",
       "\\item 59\n",
       "\\item 76\n",
       "\\item 13\n",
       "\\item 71\n",
       "\\item 70\n",
       "\\end{enumerate*}\n"
      ],
      "text/markdown": [
       "1. 81\n",
       "2. 68\n",
       "3. 10\n",
       "4. 12\n",
       "5. 21\n",
       "6. 11\n",
       "7. 18\n",
       "8. 47\n",
       "9. 60\n",
       "10. 19\n",
       "11. 96\n",
       "12. 86\n",
       "13. 46\n",
       "14. 82\n",
       "15. 57\n",
       "16. 56\n",
       "17. 41\n",
       "18. 33\n",
       "19. 90\n",
       "20. 63\n",
       "21. 62\n",
       "22. 23\n",
       "23. 69\n",
       "24. 40\n",
       "25. 20\n",
       "26. 34\n",
       "27. 51\n",
       "28. 85\n",
       "29. 65\n",
       "30. 93\n",
       "31. 54\n",
       "32. 95\n",
       "33. 66\n",
       "34. 92\n",
       "35. 24\n",
       "36. 59\n",
       "37. 76\n",
       "38. 13\n",
       "39. 71\n",
       "40. 70\n",
       "\n",
       "\n"
      ],
      "text/plain": [
       " [1] 81 68 10 12 21 11 18 47 60 19 96 86 46 82 57 56 41 33 90 63 62 23 69 40 20\n",
       "[26] 34 51 85 65 93 54 95 66 92 24 59 76 13 71 70"
      ]
     },
     "metadata": {},
     "output_type": "display_data"
    }
   ],
   "source": [
    "x"
   ]
  },
  {
   "cell_type": "code",
   "execution_count": 24,
   "metadata": {},
   "outputs": [
    {
     "data": {
      "text/html": [
       "<ol class=list-inline>\n",
       "\t<li>96</li>\n",
       "\t<li>95</li>\n",
       "\t<li>93</li>\n",
       "\t<li>92</li>\n",
       "\t<li>90</li>\n",
       "\t<li>86</li>\n",
       "\t<li>85</li>\n",
       "\t<li>82</li>\n",
       "\t<li>81</li>\n",
       "\t<li>76</li>\n",
       "\t<li>71</li>\n",
       "\t<li>70</li>\n",
       "\t<li>69</li>\n",
       "\t<li>68</li>\n",
       "\t<li>66</li>\n",
       "\t<li>65</li>\n",
       "\t<li>63</li>\n",
       "\t<li>62</li>\n",
       "\t<li>60</li>\n",
       "\t<li>59</li>\n",
       "\t<li>57</li>\n",
       "\t<li>56</li>\n",
       "\t<li>54</li>\n",
       "\t<li>51</li>\n",
       "\t<li>47</li>\n",
       "\t<li>46</li>\n",
       "\t<li>41</li>\n",
       "\t<li>40</li>\n",
       "\t<li>34</li>\n",
       "\t<li>33</li>\n",
       "\t<li>24</li>\n",
       "\t<li>23</li>\n",
       "\t<li>21</li>\n",
       "\t<li>20</li>\n",
       "\t<li>19</li>\n",
       "\t<li>18</li>\n",
       "\t<li>13</li>\n",
       "\t<li>12</li>\n",
       "\t<li>11</li>\n",
       "\t<li>10</li>\n",
       "</ol>\n"
      ],
      "text/latex": [
       "\\begin{enumerate*}\n",
       "\\item 96\n",
       "\\item 95\n",
       "\\item 93\n",
       "\\item 92\n",
       "\\item 90\n",
       "\\item 86\n",
       "\\item 85\n",
       "\\item 82\n",
       "\\item 81\n",
       "\\item 76\n",
       "\\item 71\n",
       "\\item 70\n",
       "\\item 69\n",
       "\\item 68\n",
       "\\item 66\n",
       "\\item 65\n",
       "\\item 63\n",
       "\\item 62\n",
       "\\item 60\n",
       "\\item 59\n",
       "\\item 57\n",
       "\\item 56\n",
       "\\item 54\n",
       "\\item 51\n",
       "\\item 47\n",
       "\\item 46\n",
       "\\item 41\n",
       "\\item 40\n",
       "\\item 34\n",
       "\\item 33\n",
       "\\item 24\n",
       "\\item 23\n",
       "\\item 21\n",
       "\\item 20\n",
       "\\item 19\n",
       "\\item 18\n",
       "\\item 13\n",
       "\\item 12\n",
       "\\item 11\n",
       "\\item 10\n",
       "\\end{enumerate*}\n"
      ],
      "text/markdown": [
       "1. 96\n",
       "2. 95\n",
       "3. 93\n",
       "4. 92\n",
       "5. 90\n",
       "6. 86\n",
       "7. 85\n",
       "8. 82\n",
       "9. 81\n",
       "10. 76\n",
       "11. 71\n",
       "12. 70\n",
       "13. 69\n",
       "14. 68\n",
       "15. 66\n",
       "16. 65\n",
       "17. 63\n",
       "18. 62\n",
       "19. 60\n",
       "20. 59\n",
       "21. 57\n",
       "22. 56\n",
       "23. 54\n",
       "24. 51\n",
       "25. 47\n",
       "26. 46\n",
       "27. 41\n",
       "28. 40\n",
       "29. 34\n",
       "30. 33\n",
       "31. 24\n",
       "32. 23\n",
       "33. 21\n",
       "34. 20\n",
       "35. 19\n",
       "36. 18\n",
       "37. 13\n",
       "38. 12\n",
       "39. 11\n",
       "40. 10\n",
       "\n",
       "\n"
      ],
      "text/plain": [
       " [1] 96 95 93 92 90 86 85 82 81 76 71 70 69 68 66 65 63 62 60 59 57 56 54 51 47\n",
       "[26] 46 41 40 34 33 24 23 21 20 19 18 13 12 11 10"
      ]
     },
     "metadata": {},
     "output_type": "display_data"
    }
   ],
   "source": [
    "sort(x,decreasing = T)"
   ]
  },
  {
   "cell_type": "code",
   "execution_count": 25,
   "metadata": {},
   "outputs": [
    {
     "data": {
      "text/html": [
       "<ol class=list-inline>\n",
       "\t<li>20</li>\n",
       "\t<li>25</li>\n",
       "\t<li>23</li>\n",
       "\t<li>29</li>\n",
       "\t<li>30</li>\n",
       "</ol>\n"
      ],
      "text/latex": [
       "\\begin{enumerate*}\n",
       "\\item 20\n",
       "\\item 25\n",
       "\\item 23\n",
       "\\item 29\n",
       "\\item 30\n",
       "\\end{enumerate*}\n"
      ],
      "text/markdown": [
       "1. 20\n",
       "2. 25\n",
       "3. 23\n",
       "4. 29\n",
       "5. 30\n",
       "\n",
       "\n"
      ],
      "text/plain": [
       "[1] 20 25 23 29 30"
      ]
     },
     "metadata": {},
     "output_type": "display_data"
    }
   ],
   "source": [
    "x = sample(20:30,5)\n",
    "x\n"
   ]
  },
  {
   "cell_type": "code",
   "execution_count": 26,
   "metadata": {},
   "outputs": [
    {
     "data": {
      "text/html": [
       "<ol class=list-inline>\n",
       "\t<li>1</li>\n",
       "\t<li>3</li>\n",
       "\t<li>2</li>\n",
       "\t<li>4</li>\n",
       "\t<li>5</li>\n",
       "</ol>\n"
      ],
      "text/latex": [
       "\\begin{enumerate*}\n",
       "\\item 1\n",
       "\\item 3\n",
       "\\item 2\n",
       "\\item 4\n",
       "\\item 5\n",
       "\\end{enumerate*}\n"
      ],
      "text/markdown": [
       "1. 1\n",
       "2. 3\n",
       "3. 2\n",
       "4. 4\n",
       "5. 5\n",
       "\n",
       "\n"
      ],
      "text/plain": [
       "[1] 1 3 2 4 5"
      ]
     },
     "metadata": {},
     "output_type": "display_data"
    }
   ],
   "source": [
    "order(x)"
   ]
  },
  {
   "cell_type": "code",
   "execution_count": 27,
   "metadata": {},
   "outputs": [
    {
     "data": {
      "text/html": [
       "<ol class=list-inline>\n",
       "\t<li>5</li>\n",
       "\t<li>4</li>\n",
       "\t<li>2</li>\n",
       "\t<li>3</li>\n",
       "\t<li>1</li>\n",
       "</ol>\n"
      ],
      "text/latex": [
       "\\begin{enumerate*}\n",
       "\\item 5\n",
       "\\item 4\n",
       "\\item 2\n",
       "\\item 3\n",
       "\\item 1\n",
       "\\end{enumerate*}\n"
      ],
      "text/markdown": [
       "1. 5\n",
       "2. 4\n",
       "3. 2\n",
       "4. 3\n",
       "5. 1\n",
       "\n",
       "\n"
      ],
      "text/plain": [
       "[1] 5 4 2 3 1"
      ]
     },
     "metadata": {},
     "output_type": "display_data"
    }
   ],
   "source": [
    "order(-x)"
   ]
  },
  {
   "cell_type": "code",
   "execution_count": 28,
   "metadata": {},
   "outputs": [
    {
     "data": {
      "text/html": [
       "<ol class=list-inline>\n",
       "\t<li>30</li>\n",
       "\t<li>29</li>\n",
       "\t<li>25</li>\n",
       "\t<li>23</li>\n",
       "\t<li>20</li>\n",
       "</ol>\n"
      ],
      "text/latex": [
       "\\begin{enumerate*}\n",
       "\\item 30\n",
       "\\item 29\n",
       "\\item 25\n",
       "\\item 23\n",
       "\\item 20\n",
       "\\end{enumerate*}\n"
      ],
      "text/markdown": [
       "1. 30\n",
       "2. 29\n",
       "3. 25\n",
       "4. 23\n",
       "5. 20\n",
       "\n",
       "\n"
      ],
      "text/plain": [
       "[1] 30 29 25 23 20"
      ]
     },
     "metadata": {},
     "output_type": "display_data"
    }
   ],
   "source": [
    "x[order(-x)]"
   ]
  },
  {
   "cell_type": "code",
   "execution_count": 29,
   "metadata": {},
   "outputs": [
    {
     "data": {
      "text/html": [
       "<table>\n",
       "<thead><tr><th scope=col>id</th><th scope=col>name</th><th scope=col>chem</th><th scope=col>class</th><th scope=col>maths</th><th scope=col>sci</th><th scope=col>other</th><th scope=col>percentage</th></tr></thead>\n",
       "<tbody>\n",
       "\t<tr><td> 1      </td><td>ram     </td><td>71      </td><td>a       </td><td>40      </td><td>73      </td><td>87      </td><td>66.66667</td></tr>\n",
       "\t<tr><td> 2      </td><td>hari    </td><td>77      </td><td>b       </td><td>91      </td><td>74      </td><td>42      </td><td>69.00000</td></tr>\n",
       "\t<tr><td> 3      </td><td>allah   </td><td>44      </td><td>c       </td><td>70      </td><td>85      </td><td>67      </td><td>74.00000</td></tr>\n",
       "\t<tr><td> 4      </td><td>eid     </td><td>49      </td><td>b       </td><td>76      </td><td>63      </td><td>66      </td><td>68.33333</td></tr>\n",
       "\t<tr><td> 5      </td><td>diwali  </td><td>55      </td><td>b       </td><td>59      </td><td>77      </td><td>59      </td><td>65.00000</td></tr>\n",
       "\t<tr><td> 6      </td><td>ronak   </td><td>94      </td><td>b       </td><td>44      </td><td>49      </td><td>48      </td><td>47.00000</td></tr>\n",
       "\t<tr><td> 7      </td><td>pooja   </td><td>72      </td><td>c       </td><td>57      </td><td>46      </td><td>63      </td><td>55.33333</td></tr>\n",
       "\t<tr><td> 8      </td><td>ganesh  </td><td>89      </td><td>b       </td><td>53      </td><td>67      </td><td>81      </td><td>67.00000</td></tr>\n",
       "\t<tr><td> 9      </td><td>akbar   </td><td>96      </td><td>a       </td><td>46      </td><td>82      </td><td>56      </td><td>61.33333</td></tr>\n",
       "\t<tr><td>10      </td><td>aladin  </td><td>76      </td><td>b       </td><td>47      </td><td>84      </td><td>79      </td><td>70.00000</td></tr>\n",
       "</tbody>\n",
       "</table>\n"
      ],
      "text/latex": [
       "\\begin{tabular}{r|llllllll}\n",
       " id & name & chem & class & maths & sci & other & percentage\\\\\n",
       "\\hline\n",
       "\t  1       & ram      & 71       & a        & 40       & 73       & 87       & 66.66667\\\\\n",
       "\t  2       & hari     & 77       & b        & 91       & 74       & 42       & 69.00000\\\\\n",
       "\t  3       & allah    & 44       & c        & 70       & 85       & 67       & 74.00000\\\\\n",
       "\t  4       & eid      & 49       & b        & 76       & 63       & 66       & 68.33333\\\\\n",
       "\t  5       & diwali   & 55       & b        & 59       & 77       & 59       & 65.00000\\\\\n",
       "\t  6       & ronak    & 94       & b        & 44       & 49       & 48       & 47.00000\\\\\n",
       "\t  7       & pooja    & 72       & c        & 57       & 46       & 63       & 55.33333\\\\\n",
       "\t  8       & ganesh   & 89       & b        & 53       & 67       & 81       & 67.00000\\\\\n",
       "\t  9       & akbar    & 96       & a        & 46       & 82       & 56       & 61.33333\\\\\n",
       "\t 10       & aladin   & 76       & b        & 47       & 84       & 79       & 70.00000\\\\\n",
       "\\end{tabular}\n"
      ],
      "text/markdown": [
       "\n",
       "| id | name | chem | class | maths | sci | other | percentage |\n",
       "|---|---|---|---|---|---|---|---|\n",
       "|  1       | ram      | 71       | a        | 40       | 73       | 87       | 66.66667 |\n",
       "|  2       | hari     | 77       | b        | 91       | 74       | 42       | 69.00000 |\n",
       "|  3       | allah    | 44       | c        | 70       | 85       | 67       | 74.00000 |\n",
       "|  4       | eid      | 49       | b        | 76       | 63       | 66       | 68.33333 |\n",
       "|  5       | diwali   | 55       | b        | 59       | 77       | 59       | 65.00000 |\n",
       "|  6       | ronak    | 94       | b        | 44       | 49       | 48       | 47.00000 |\n",
       "|  7       | pooja    | 72       | c        | 57       | 46       | 63       | 55.33333 |\n",
       "|  8       | ganesh   | 89       | b        | 53       | 67       | 81       | 67.00000 |\n",
       "|  9       | akbar    | 96       | a        | 46       | 82       | 56       | 61.33333 |\n",
       "| 10       | aladin   | 76       | b        | 47       | 84       | 79       | 70.00000 |\n",
       "\n"
      ],
      "text/plain": [
       "   id name   chem class maths sci other percentage\n",
       "1   1 ram    71   a     40    73  87    66.66667  \n",
       "2   2 hari   77   b     91    74  42    69.00000  \n",
       "3   3 allah  44   c     70    85  67    74.00000  \n",
       "4   4 eid    49   b     76    63  66    68.33333  \n",
       "5   5 diwali 55   b     59    77  59    65.00000  \n",
       "6   6 ronak  94   b     44    49  48    47.00000  \n",
       "7   7 pooja  72   c     57    46  63    55.33333  \n",
       "8   8 ganesh 89   b     53    67  81    67.00000  \n",
       "9   9 akbar  96   a     46    82  56    61.33333  \n",
       "10 10 aladin 76   b     47    84  79    70.00000  "
      ]
     },
     "metadata": {},
     "output_type": "display_data"
    }
   ],
   "source": [
    "info"
   ]
  },
  {
   "cell_type": "code",
   "execution_count": 30,
   "metadata": {},
   "outputs": [
    {
     "data": {
      "text/html": [
       "<table>\n",
       "<thead><tr><th scope=col>id</th><th scope=col>name</th><th scope=col>chem</th><th scope=col>class</th><th scope=col>maths</th><th scope=col>sci</th><th scope=col>other</th><th scope=col>percentage</th></tr></thead>\n",
       "<tbody>\n",
       "\t<tr><td>2       </td><td>hari    </td><td>77      </td><td>b       </td><td>91      </td><td>74      </td><td>42      </td><td>69.00000</td></tr>\n",
       "\t<tr><td>4       </td><td>eid     </td><td>49      </td><td>b       </td><td>76      </td><td>63      </td><td>66      </td><td>68.33333</td></tr>\n",
       "\t<tr><td>3       </td><td>allah   </td><td>44      </td><td>c       </td><td>70      </td><td>85      </td><td>67      </td><td>74.00000</td></tr>\n",
       "\t<tr><td>5       </td><td>diwali  </td><td>55      </td><td>b       </td><td>59      </td><td>77      </td><td>59      </td><td>65.00000</td></tr>\n",
       "\t<tr><td>7       </td><td>pooja   </td><td>72      </td><td>c       </td><td>57      </td><td>46      </td><td>63      </td><td>55.33333</td></tr>\n",
       "\t<tr><td>8       </td><td>ganesh  </td><td>89      </td><td>b       </td><td>53      </td><td>67      </td><td>81      </td><td>67.00000</td></tr>\n",
       "</tbody>\n",
       "</table>\n"
      ],
      "text/latex": [
       "\\begin{tabular}{r|llllllll}\n",
       " id & name & chem & class & maths & sci & other & percentage\\\\\n",
       "\\hline\n",
       "\t 2        & hari     & 77       & b        & 91       & 74       & 42       & 69.00000\\\\\n",
       "\t 4        & eid      & 49       & b        & 76       & 63       & 66       & 68.33333\\\\\n",
       "\t 3        & allah    & 44       & c        & 70       & 85       & 67       & 74.00000\\\\\n",
       "\t 5        & diwali   & 55       & b        & 59       & 77       & 59       & 65.00000\\\\\n",
       "\t 7        & pooja    & 72       & c        & 57       & 46       & 63       & 55.33333\\\\\n",
       "\t 8        & ganesh   & 89       & b        & 53       & 67       & 81       & 67.00000\\\\\n",
       "\\end{tabular}\n"
      ],
      "text/markdown": [
       "\n",
       "| id | name | chem | class | maths | sci | other | percentage |\n",
       "|---|---|---|---|---|---|---|---|\n",
       "| 2        | hari     | 77       | b        | 91       | 74       | 42       | 69.00000 |\n",
       "| 4        | eid      | 49       | b        | 76       | 63       | 66       | 68.33333 |\n",
       "| 3        | allah    | 44       | c        | 70       | 85       | 67       | 74.00000 |\n",
       "| 5        | diwali   | 55       | b        | 59       | 77       | 59       | 65.00000 |\n",
       "| 7        | pooja    | 72       | c        | 57       | 46       | 63       | 55.33333 |\n",
       "| 8        | ganesh   | 89       | b        | 53       | 67       | 81       | 67.00000 |\n",
       "\n"
      ],
      "text/plain": [
       "  id name   chem class maths sci other percentage\n",
       "1 2  hari   77   b     91    74  42    69.00000  \n",
       "2 4  eid    49   b     76    63  66    68.33333  \n",
       "3 3  allah  44   c     70    85  67    74.00000  \n",
       "4 5  diwali 55   b     59    77  59    65.00000  \n",
       "5 7  pooja  72   c     57    46  63    55.33333  \n",
       "6 8  ganesh 89   b     53    67  81    67.00000  "
      ]
     },
     "metadata": {},
     "output_type": "display_data"
    }
   ],
   "source": [
    "head(arrange(info,-maths,-sci))"
   ]
  },
  {
   "cell_type": "code",
   "execution_count": 31,
   "metadata": {},
   "outputs": [],
   "source": [
    "# info %>% select(name,maths,sci) %>% filter(maths)"
   ]
  },
  {
   "cell_type": "code",
   "execution_count": 32,
   "metadata": {},
   "outputs": [
    {
     "data": {
      "text/html": [
       "<table>\n",
       "<thead><tr><th scope=col>id</th><th scope=col>score</th><th scope=col>game</th></tr></thead>\n",
       "<tbody>\n",
       "\t<tr><td> 1      </td><td>94      </td><td>football</td></tr>\n",
       "\t<tr><td> 2      </td><td>45      </td><td>cricket </td></tr>\n",
       "\t<tr><td> 3      </td><td>60      </td><td>kabadi  </td></tr>\n",
       "\t<tr><td> 4      </td><td>78      </td><td>cricket </td></tr>\n",
       "\t<tr><td> 5      </td><td>68      </td><td>cricket </td></tr>\n",
       "\t<tr><td> 6      </td><td>86      </td><td>cricket </td></tr>\n",
       "\t<tr><td> 7      </td><td>76      </td><td>cricket </td></tr>\n",
       "\t<tr><td> 8      </td><td>66      </td><td>football</td></tr>\n",
       "\t<tr><td> 9      </td><td>71      </td><td>cricket </td></tr>\n",
       "\t<tr><td>10      </td><td>52      </td><td>football</td></tr>\n",
       "</tbody>\n",
       "</table>\n"
      ],
      "text/latex": [
       "\\begin{tabular}{r|lll}\n",
       " id & score & game\\\\\n",
       "\\hline\n",
       "\t  1       & 94       & football\\\\\n",
       "\t  2       & 45       & cricket \\\\\n",
       "\t  3       & 60       & kabadi  \\\\\n",
       "\t  4       & 78       & cricket \\\\\n",
       "\t  5       & 68       & cricket \\\\\n",
       "\t  6       & 86       & cricket \\\\\n",
       "\t  7       & 76       & cricket \\\\\n",
       "\t  8       & 66       & football\\\\\n",
       "\t  9       & 71       & cricket \\\\\n",
       "\t 10       & 52       & football\\\\\n",
       "\\end{tabular}\n"
      ],
      "text/markdown": [
       "\n",
       "| id | score | game |\n",
       "|---|---|---|\n",
       "|  1       | 94       | football |\n",
       "|  2       | 45       | cricket  |\n",
       "|  3       | 60       | kabadi   |\n",
       "|  4       | 78       | cricket  |\n",
       "|  5       | 68       | cricket  |\n",
       "|  6       | 86       | cricket  |\n",
       "|  7       | 76       | cricket  |\n",
       "|  8       | 66       | football |\n",
       "|  9       | 71       | cricket  |\n",
       "| 10       | 52       | football |\n",
       "\n"
      ],
      "text/plain": [
       "   id score game    \n",
       "1   1 94    football\n",
       "2   2 45    cricket \n",
       "3   3 60    kabadi  \n",
       "4   4 78    cricket \n",
       "5   5 68    cricket \n",
       "6   6 86    cricket \n",
       "7   7 76    cricket \n",
       "8   8 66    football\n",
       "9   9 71    cricket \n",
       "10 10 52    football"
      ]
     },
     "metadata": {},
     "output_type": "display_data"
    }
   ],
   "source": [
    "game"
   ]
  },
  {
   "cell_type": "code",
   "execution_count": 34,
   "metadata": {},
   "outputs": [
    {
     "data": {
      "text/html": [
       "<table>\n",
       "<thead><tr><th scope=col>manufacturer</th><th scope=col>model</th><th scope=col>displ</th><th scope=col>year</th><th scope=col>cyl</th><th scope=col>trans</th><th scope=col>drv</th><th scope=col>cty</th><th scope=col>hwy</th><th scope=col>fl</th><th scope=col>class</th></tr></thead>\n",
       "<tbody>\n",
       "\t<tr><td>audi      </td><td>a4        </td><td>1.8       </td><td>1999      </td><td>4         </td><td>auto(l5)  </td><td>f         </td><td>18        </td><td>29        </td><td>p         </td><td>compact   </td></tr>\n",
       "\t<tr><td>audi      </td><td>a4        </td><td>1.8       </td><td>1999      </td><td>4         </td><td>manual(m5)</td><td>f         </td><td>21        </td><td>29        </td><td>p         </td><td>compact   </td></tr>\n",
       "\t<tr><td>audi      </td><td>a4        </td><td>2.0       </td><td>2008      </td><td>4         </td><td>manual(m6)</td><td>f         </td><td>20        </td><td>31        </td><td>p         </td><td>compact   </td></tr>\n",
       "\t<tr><td>audi      </td><td>a4        </td><td>2.0       </td><td>2008      </td><td>4         </td><td>auto(av)  </td><td>f         </td><td>21        </td><td>30        </td><td>p         </td><td>compact   </td></tr>\n",
       "\t<tr><td>audi      </td><td>a4        </td><td>2.8       </td><td>1999      </td><td>6         </td><td>auto(l5)  </td><td>f         </td><td>16        </td><td>26        </td><td>p         </td><td>compact   </td></tr>\n",
       "\t<tr><td>audi      </td><td>a4        </td><td>2.8       </td><td>1999      </td><td>6         </td><td>manual(m5)</td><td>f         </td><td>18        </td><td>26        </td><td>p         </td><td>compact   </td></tr>\n",
       "</tbody>\n",
       "</table>\n"
      ],
      "text/latex": [
       "\\begin{tabular}{r|lllllllllll}\n",
       " manufacturer & model & displ & year & cyl & trans & drv & cty & hwy & fl & class\\\\\n",
       "\\hline\n",
       "\t audi       & a4         & 1.8        & 1999       & 4          & auto(l5)   & f          & 18         & 29         & p          & compact   \\\\\n",
       "\t audi       & a4         & 1.8        & 1999       & 4          & manual(m5) & f          & 21         & 29         & p          & compact   \\\\\n",
       "\t audi       & a4         & 2.0        & 2008       & 4          & manual(m6) & f          & 20         & 31         & p          & compact   \\\\\n",
       "\t audi       & a4         & 2.0        & 2008       & 4          & auto(av)   & f          & 21         & 30         & p          & compact   \\\\\n",
       "\t audi       & a4         & 2.8        & 1999       & 6          & auto(l5)   & f          & 16         & 26         & p          & compact   \\\\\n",
       "\t audi       & a4         & 2.8        & 1999       & 6          & manual(m5) & f          & 18         & 26         & p          & compact   \\\\\n",
       "\\end{tabular}\n"
      ],
      "text/markdown": [
       "\n",
       "| manufacturer | model | displ | year | cyl | trans | drv | cty | hwy | fl | class |\n",
       "|---|---|---|---|---|---|---|---|---|---|---|\n",
       "| audi       | a4         | 1.8        | 1999       | 4          | auto(l5)   | f          | 18         | 29         | p          | compact    |\n",
       "| audi       | a4         | 1.8        | 1999       | 4          | manual(m5) | f          | 21         | 29         | p          | compact    |\n",
       "| audi       | a4         | 2.0        | 2008       | 4          | manual(m6) | f          | 20         | 31         | p          | compact    |\n",
       "| audi       | a4         | 2.0        | 2008       | 4          | auto(av)   | f          | 21         | 30         | p          | compact    |\n",
       "| audi       | a4         | 2.8        | 1999       | 6          | auto(l5)   | f          | 16         | 26         | p          | compact    |\n",
       "| audi       | a4         | 2.8        | 1999       | 6          | manual(m5) | f          | 18         | 26         | p          | compact    |\n",
       "\n"
      ],
      "text/plain": [
       "  manufacturer model displ year cyl trans      drv cty hwy fl class  \n",
       "1 audi         a4    1.8   1999 4   auto(l5)   f   18  29  p  compact\n",
       "2 audi         a4    1.8   1999 4   manual(m5) f   21  29  p  compact\n",
       "3 audi         a4    2.0   2008 4   manual(m6) f   20  31  p  compact\n",
       "4 audi         a4    2.0   2008 4   auto(av)   f   21  30  p  compact\n",
       "5 audi         a4    2.8   1999 6   auto(l5)   f   16  26  p  compact\n",
       "6 audi         a4    2.8   1999 6   manual(m5) f   18  26  p  compact"
      ]
     },
     "metadata": {},
     "output_type": "display_data"
    }
   ],
   "source": [
    "head(mpg)"
   ]
  },
  {
   "cell_type": "code",
   "execution_count": 35,
   "metadata": {},
   "outputs": [],
   "source": [
    "df = mpg"
   ]
  },
  {
   "cell_type": "code",
   "execution_count": 36,
   "metadata": {},
   "outputs": [
    {
     "data": {
      "text/html": [
       "<table>\n",
       "<thead><tr><th scope=col>manufacturer</th><th scope=col>model</th><th scope=col>displ</th><th scope=col>year</th><th scope=col>cyl</th><th scope=col>trans</th><th scope=col>drv</th><th scope=col>cty</th><th scope=col>hwy</th><th scope=col>fl</th><th scope=col>class</th></tr></thead>\n",
       "<tbody>\n",
       "\t<tr><td>audi      </td><td>a4        </td><td>1.8       </td><td>1999      </td><td>4         </td><td>auto(l5)  </td><td>f         </td><td>18        </td><td>29        </td><td>p         </td><td>compact   </td></tr>\n",
       "\t<tr><td>audi      </td><td>a4        </td><td>1.8       </td><td>1999      </td><td>4         </td><td>manual(m5)</td><td>f         </td><td>21        </td><td>29        </td><td>p         </td><td>compact   </td></tr>\n",
       "\t<tr><td>audi      </td><td>a4        </td><td>2.0       </td><td>2008      </td><td>4         </td><td>manual(m6)</td><td>f         </td><td>20        </td><td>31        </td><td>p         </td><td>compact   </td></tr>\n",
       "\t<tr><td>audi      </td><td>a4        </td><td>2.0       </td><td>2008      </td><td>4         </td><td>auto(av)  </td><td>f         </td><td>21        </td><td>30        </td><td>p         </td><td>compact   </td></tr>\n",
       "\t<tr><td>audi      </td><td>a4        </td><td>2.8       </td><td>1999      </td><td>6         </td><td>auto(l5)  </td><td>f         </td><td>16        </td><td>26        </td><td>p         </td><td>compact   </td></tr>\n",
       "\t<tr><td>audi      </td><td>a4        </td><td>2.8       </td><td>1999      </td><td>6         </td><td>manual(m5)</td><td>f         </td><td>18        </td><td>26        </td><td>p         </td><td>compact   </td></tr>\n",
       "</tbody>\n",
       "</table>\n"
      ],
      "text/latex": [
       "\\begin{tabular}{r|lllllllllll}\n",
       " manufacturer & model & displ & year & cyl & trans & drv & cty & hwy & fl & class\\\\\n",
       "\\hline\n",
       "\t audi       & a4         & 1.8        & 1999       & 4          & auto(l5)   & f          & 18         & 29         & p          & compact   \\\\\n",
       "\t audi       & a4         & 1.8        & 1999       & 4          & manual(m5) & f          & 21         & 29         & p          & compact   \\\\\n",
       "\t audi       & a4         & 2.0        & 2008       & 4          & manual(m6) & f          & 20         & 31         & p          & compact   \\\\\n",
       "\t audi       & a4         & 2.0        & 2008       & 4          & auto(av)   & f          & 21         & 30         & p          & compact   \\\\\n",
       "\t audi       & a4         & 2.8        & 1999       & 6          & auto(l5)   & f          & 16         & 26         & p          & compact   \\\\\n",
       "\t audi       & a4         & 2.8        & 1999       & 6          & manual(m5) & f          & 18         & 26         & p          & compact   \\\\\n",
       "\\end{tabular}\n"
      ],
      "text/markdown": [
       "\n",
       "| manufacturer | model | displ | year | cyl | trans | drv | cty | hwy | fl | class |\n",
       "|---|---|---|---|---|---|---|---|---|---|---|\n",
       "| audi       | a4         | 1.8        | 1999       | 4          | auto(l5)   | f          | 18         | 29         | p          | compact    |\n",
       "| audi       | a4         | 1.8        | 1999       | 4          | manual(m5) | f          | 21         | 29         | p          | compact    |\n",
       "| audi       | a4         | 2.0        | 2008       | 4          | manual(m6) | f          | 20         | 31         | p          | compact    |\n",
       "| audi       | a4         | 2.0        | 2008       | 4          | auto(av)   | f          | 21         | 30         | p          | compact    |\n",
       "| audi       | a4         | 2.8        | 1999       | 6          | auto(l5)   | f          | 16         | 26         | p          | compact    |\n",
       "| audi       | a4         | 2.8        | 1999       | 6          | manual(m5) | f          | 18         | 26         | p          | compact    |\n",
       "\n"
      ],
      "text/plain": [
       "  manufacturer model displ year cyl trans      drv cty hwy fl class  \n",
       "1 audi         a4    1.8   1999 4   auto(l5)   f   18  29  p  compact\n",
       "2 audi         a4    1.8   1999 4   manual(m5) f   21  29  p  compact\n",
       "3 audi         a4    2.0   2008 4   manual(m6) f   20  31  p  compact\n",
       "4 audi         a4    2.0   2008 4   auto(av)   f   21  30  p  compact\n",
       "5 audi         a4    2.8   1999 6   auto(l5)   f   16  26  p  compact\n",
       "6 audi         a4    2.8   1999 6   manual(m5) f   18  26  p  compact"
      ]
     },
     "metadata": {},
     "output_type": "display_data"
    }
   ],
   "source": [
    "head(mpg)"
   ]
  },
  {
   "cell_type": "code",
   "execution_count": 37,
   "metadata": {},
   "outputs": [
    {
     "data": {
      "text/html": [
       "<table>\n",
       "<thead><tr><th scope=col>manufacturer</th><th scope=col>cty</th><th scope=col>hwy</th><th scope=col>n</th></tr></thead>\n",
       "<tbody>\n",
       "\t<tr><td>honda     </td><td>24.44444  </td><td>32.55556  </td><td> 9        </td></tr>\n",
       "\t<tr><td>volkswagen</td><td>20.92593  </td><td>29.22222  </td><td>27        </td></tr>\n",
       "\t<tr><td>subaru    </td><td>19.28571  </td><td>25.57143  </td><td>14        </td></tr>\n",
       "\t<tr><td>hyundai   </td><td>18.64286  </td><td>26.85714  </td><td>14        </td></tr>\n",
       "\t<tr><td>toyota    </td><td>18.52941  </td><td>24.91176  </td><td>34        </td></tr>\n",
       "\t<tr><td>nissan    </td><td>18.07692  </td><td>24.61538  </td><td>13        </td></tr>\n",
       "\t<tr><td>audi      </td><td>17.61111  </td><td>26.44444  </td><td>18        </td></tr>\n",
       "\t<tr><td>pontiac   </td><td>17.00000  </td><td>26.40000  </td><td> 5        </td></tr>\n",
       "\t<tr><td>chevrolet </td><td>15.00000  </td><td>21.89474  </td><td>19        </td></tr>\n",
       "\t<tr><td>ford      </td><td>14.00000  </td><td>19.36000  </td><td>25        </td></tr>\n",
       "\t<tr><td>jeep      </td><td>13.50000  </td><td>17.62500  </td><td> 8        </td></tr>\n",
       "\t<tr><td>mercury   </td><td>13.25000  </td><td>18.00000  </td><td> 4        </td></tr>\n",
       "\t<tr><td>dodge     </td><td>13.13514  </td><td>17.94595  </td><td>37        </td></tr>\n",
       "\t<tr><td>land rover</td><td>11.50000  </td><td>16.50000  </td><td> 4        </td></tr>\n",
       "\t<tr><td>lincoln   </td><td>11.33333  </td><td>17.00000  </td><td> 3        </td></tr>\n",
       "</tbody>\n",
       "</table>\n"
      ],
      "text/latex": [
       "\\begin{tabular}{r|llll}\n",
       " manufacturer & cty & hwy & n\\\\\n",
       "\\hline\n",
       "\t honda      & 24.44444   & 32.55556   &  9        \\\\\n",
       "\t volkswagen & 20.92593   & 29.22222   & 27        \\\\\n",
       "\t subaru     & 19.28571   & 25.57143   & 14        \\\\\n",
       "\t hyundai    & 18.64286   & 26.85714   & 14        \\\\\n",
       "\t toyota     & 18.52941   & 24.91176   & 34        \\\\\n",
       "\t nissan     & 18.07692   & 24.61538   & 13        \\\\\n",
       "\t audi       & 17.61111   & 26.44444   & 18        \\\\\n",
       "\t pontiac    & 17.00000   & 26.40000   &  5        \\\\\n",
       "\t chevrolet  & 15.00000   & 21.89474   & 19        \\\\\n",
       "\t ford       & 14.00000   & 19.36000   & 25        \\\\\n",
       "\t jeep       & 13.50000   & 17.62500   &  8        \\\\\n",
       "\t mercury    & 13.25000   & 18.00000   &  4        \\\\\n",
       "\t dodge      & 13.13514   & 17.94595   & 37        \\\\\n",
       "\t land rover & 11.50000   & 16.50000   &  4        \\\\\n",
       "\t lincoln    & 11.33333   & 17.00000   &  3        \\\\\n",
       "\\end{tabular}\n"
      ],
      "text/markdown": [
       "\n",
       "| manufacturer | cty | hwy | n |\n",
       "|---|---|---|---|\n",
       "| honda      | 24.44444   | 32.55556   |  9         |\n",
       "| volkswagen | 20.92593   | 29.22222   | 27         |\n",
       "| subaru     | 19.28571   | 25.57143   | 14         |\n",
       "| hyundai    | 18.64286   | 26.85714   | 14         |\n",
       "| toyota     | 18.52941   | 24.91176   | 34         |\n",
       "| nissan     | 18.07692   | 24.61538   | 13         |\n",
       "| audi       | 17.61111   | 26.44444   | 18         |\n",
       "| pontiac    | 17.00000   | 26.40000   |  5         |\n",
       "| chevrolet  | 15.00000   | 21.89474   | 19         |\n",
       "| ford       | 14.00000   | 19.36000   | 25         |\n",
       "| jeep       | 13.50000   | 17.62500   |  8         |\n",
       "| mercury    | 13.25000   | 18.00000   |  4         |\n",
       "| dodge      | 13.13514   | 17.94595   | 37         |\n",
       "| land rover | 11.50000   | 16.50000   |  4         |\n",
       "| lincoln    | 11.33333   | 17.00000   |  3         |\n",
       "\n"
      ],
      "text/plain": [
       "   manufacturer cty      hwy      n \n",
       "1  honda        24.44444 32.55556  9\n",
       "2  volkswagen   20.92593 29.22222 27\n",
       "3  subaru       19.28571 25.57143 14\n",
       "4  hyundai      18.64286 26.85714 14\n",
       "5  toyota       18.52941 24.91176 34\n",
       "6  nissan       18.07692 24.61538 13\n",
       "7  audi         17.61111 26.44444 18\n",
       "8  pontiac      17.00000 26.40000  5\n",
       "9  chevrolet    15.00000 21.89474 19\n",
       "10 ford         14.00000 19.36000 25\n",
       "11 jeep         13.50000 17.62500  8\n",
       "12 mercury      13.25000 18.00000  4\n",
       "13 dodge        13.13514 17.94595 37\n",
       "14 land rover   11.50000 16.50000  4\n",
       "15 lincoln      11.33333 17.00000  3"
      ]
     },
     "metadata": {},
     "output_type": "display_data"
    }
   ],
   "source": [
    "df %>% select(manufacturer,cty,hwy) %>% group_by(manufacturer) %>% summarise(cty=mean(cty),hwy=mean(hwy),\n",
    "                                                                            n=n()) %>% arrange(-cty,-hwy)"
   ]
  },
  {
   "cell_type": "code",
   "execution_count": 38,
   "metadata": {},
   "outputs": [
    {
     "data": {
      "text/html": [
       "<table>\n",
       "<thead><tr><th scope=col>id</th><th scope=col>score</th><th scope=col>game</th></tr></thead>\n",
       "<tbody>\n",
       "\t<tr><td>1       </td><td>94      </td><td>football</td></tr>\n",
       "\t<tr><td>2       </td><td>45      </td><td>cricket </td></tr>\n",
       "\t<tr><td>3       </td><td>60      </td><td>kabadi  </td></tr>\n",
       "</tbody>\n",
       "</table>\n"
      ],
      "text/latex": [
       "\\begin{tabular}{r|lll}\n",
       " id & score & game\\\\\n",
       "\\hline\n",
       "\t 1        & 94       & football\\\\\n",
       "\t 2        & 45       & cricket \\\\\n",
       "\t 3        & 60       & kabadi  \\\\\n",
       "\\end{tabular}\n"
      ],
      "text/markdown": [
       "\n",
       "| id | score | game |\n",
       "|---|---|---|\n",
       "| 1        | 94       | football |\n",
       "| 2        | 45       | cricket  |\n",
       "| 3        | 60       | kabadi   |\n",
       "\n"
      ],
      "text/plain": [
       "  id score game    \n",
       "1 1  94    football\n",
       "2 2  45    cricket \n",
       "3 3  60    kabadi  "
      ]
     },
     "metadata": {},
     "output_type": "display_data"
    }
   ],
   "source": [
    "head(game,3)"
   ]
  },
  {
   "cell_type": "code",
   "execution_count": 39,
   "metadata": {},
   "outputs": [
    {
     "data": {
      "text/html": [
       "<table>\n",
       "<thead><tr><th scope=col>id</th><th scope=col>name</th><th scope=col>chem</th><th scope=col>class</th><th scope=col>maths</th><th scope=col>sci</th><th scope=col>other</th><th scope=col>percentage</th><th scope=col>score</th><th scope=col>game</th></tr></thead>\n",
       "<tbody>\n",
       "\t<tr><td> 1      </td><td>ram     </td><td>71      </td><td>a       </td><td>40      </td><td>73      </td><td>87      </td><td>66.66667</td><td>94      </td><td>football</td></tr>\n",
       "\t<tr><td> 2      </td><td>hari    </td><td>77      </td><td>b       </td><td>91      </td><td>74      </td><td>42      </td><td>69.00000</td><td>45      </td><td>cricket </td></tr>\n",
       "\t<tr><td> 3      </td><td>allah   </td><td>44      </td><td>c       </td><td>70      </td><td>85      </td><td>67      </td><td>74.00000</td><td>60      </td><td>kabadi  </td></tr>\n",
       "\t<tr><td> 4      </td><td>eid     </td><td>49      </td><td>b       </td><td>76      </td><td>63      </td><td>66      </td><td>68.33333</td><td>78      </td><td>cricket </td></tr>\n",
       "\t<tr><td> 5      </td><td>diwali  </td><td>55      </td><td>b       </td><td>59      </td><td>77      </td><td>59      </td><td>65.00000</td><td>68      </td><td>cricket </td></tr>\n",
       "\t<tr><td> 6      </td><td>ronak   </td><td>94      </td><td>b       </td><td>44      </td><td>49      </td><td>48      </td><td>47.00000</td><td>86      </td><td>cricket </td></tr>\n",
       "\t<tr><td> 7      </td><td>pooja   </td><td>72      </td><td>c       </td><td>57      </td><td>46      </td><td>63      </td><td>55.33333</td><td>76      </td><td>cricket </td></tr>\n",
       "\t<tr><td> 8      </td><td>ganesh  </td><td>89      </td><td>b       </td><td>53      </td><td>67      </td><td>81      </td><td>67.00000</td><td>66      </td><td>football</td></tr>\n",
       "\t<tr><td> 9      </td><td>akbar   </td><td>96      </td><td>a       </td><td>46      </td><td>82      </td><td>56      </td><td>61.33333</td><td>71      </td><td>cricket </td></tr>\n",
       "\t<tr><td>10      </td><td>aladin  </td><td>76      </td><td>b       </td><td>47      </td><td>84      </td><td>79      </td><td>70.00000</td><td>52      </td><td>football</td></tr>\n",
       "</tbody>\n",
       "</table>\n"
      ],
      "text/latex": [
       "\\begin{tabular}{r|llllllllll}\n",
       " id & name & chem & class & maths & sci & other & percentage & score & game\\\\\n",
       "\\hline\n",
       "\t  1       & ram      & 71       & a        & 40       & 73       & 87       & 66.66667 & 94       & football\\\\\n",
       "\t  2       & hari     & 77       & b        & 91       & 74       & 42       & 69.00000 & 45       & cricket \\\\\n",
       "\t  3       & allah    & 44       & c        & 70       & 85       & 67       & 74.00000 & 60       & kabadi  \\\\\n",
       "\t  4       & eid      & 49       & b        & 76       & 63       & 66       & 68.33333 & 78       & cricket \\\\\n",
       "\t  5       & diwali   & 55       & b        & 59       & 77       & 59       & 65.00000 & 68       & cricket \\\\\n",
       "\t  6       & ronak    & 94       & b        & 44       & 49       & 48       & 47.00000 & 86       & cricket \\\\\n",
       "\t  7       & pooja    & 72       & c        & 57       & 46       & 63       & 55.33333 & 76       & cricket \\\\\n",
       "\t  8       & ganesh   & 89       & b        & 53       & 67       & 81       & 67.00000 & 66       & football\\\\\n",
       "\t  9       & akbar    & 96       & a        & 46       & 82       & 56       & 61.33333 & 71       & cricket \\\\\n",
       "\t 10       & aladin   & 76       & b        & 47       & 84       & 79       & 70.00000 & 52       & football\\\\\n",
       "\\end{tabular}\n"
      ],
      "text/markdown": [
       "\n",
       "| id | name | chem | class | maths | sci | other | percentage | score | game |\n",
       "|---|---|---|---|---|---|---|---|---|---|\n",
       "|  1       | ram      | 71       | a        | 40       | 73       | 87       | 66.66667 | 94       | football |\n",
       "|  2       | hari     | 77       | b        | 91       | 74       | 42       | 69.00000 | 45       | cricket  |\n",
       "|  3       | allah    | 44       | c        | 70       | 85       | 67       | 74.00000 | 60       | kabadi   |\n",
       "|  4       | eid      | 49       | b        | 76       | 63       | 66       | 68.33333 | 78       | cricket  |\n",
       "|  5       | diwali   | 55       | b        | 59       | 77       | 59       | 65.00000 | 68       | cricket  |\n",
       "|  6       | ronak    | 94       | b        | 44       | 49       | 48       | 47.00000 | 86       | cricket  |\n",
       "|  7       | pooja    | 72       | c        | 57       | 46       | 63       | 55.33333 | 76       | cricket  |\n",
       "|  8       | ganesh   | 89       | b        | 53       | 67       | 81       | 67.00000 | 66       | football |\n",
       "|  9       | akbar    | 96       | a        | 46       | 82       | 56       | 61.33333 | 71       | cricket  |\n",
       "| 10       | aladin   | 76       | b        | 47       | 84       | 79       | 70.00000 | 52       | football |\n",
       "\n"
      ],
      "text/plain": [
       "   id name   chem class maths sci other percentage score game    \n",
       "1   1 ram    71   a     40    73  87    66.66667   94    football\n",
       "2   2 hari   77   b     91    74  42    69.00000   45    cricket \n",
       "3   3 allah  44   c     70    85  67    74.00000   60    kabadi  \n",
       "4   4 eid    49   b     76    63  66    68.33333   78    cricket \n",
       "5   5 diwali 55   b     59    77  59    65.00000   68    cricket \n",
       "6   6 ronak  94   b     44    49  48    47.00000   86    cricket \n",
       "7   7 pooja  72   c     57    46  63    55.33333   76    cricket \n",
       "8   8 ganesh 89   b     53    67  81    67.00000   66    football\n",
       "9   9 akbar  96   a     46    82  56    61.33333   71    cricket \n",
       "10 10 aladin 76   b     47    84  79    70.00000   52    football"
      ]
     },
     "metadata": {},
     "output_type": "display_data"
    }
   ],
   "source": [
    "inner_join(info,game,by='id')"
   ]
  },
  {
   "cell_type": "code",
   "execution_count": 40,
   "metadata": {},
   "outputs": [
    {
     "data": {
      "text/html": [
       "<table>\n",
       "<thead><tr><th scope=col>id</th><th scope=col>name</th><th scope=col>chem</th><th scope=col>class</th><th scope=col>maths</th><th scope=col>sci</th><th scope=col>other</th><th scope=col>percentage</th><th scope=col>score</th><th scope=col>game</th></tr></thead>\n",
       "<tbody>\n",
       "\t<tr><td> 1      </td><td>ram     </td><td>71      </td><td>a       </td><td>40      </td><td>73      </td><td>87      </td><td>66.66667</td><td>94      </td><td>football</td></tr>\n",
       "\t<tr><td> 2      </td><td>hari    </td><td>77      </td><td>b       </td><td>91      </td><td>74      </td><td>42      </td><td>69.00000</td><td>45      </td><td>cricket </td></tr>\n",
       "\t<tr><td> 3      </td><td>allah   </td><td>44      </td><td>c       </td><td>70      </td><td>85      </td><td>67      </td><td>74.00000</td><td>60      </td><td>kabadi  </td></tr>\n",
       "\t<tr><td> 4      </td><td>eid     </td><td>49      </td><td>b       </td><td>76      </td><td>63      </td><td>66      </td><td>68.33333</td><td>78      </td><td>cricket </td></tr>\n",
       "\t<tr><td> 5      </td><td>diwali  </td><td>55      </td><td>b       </td><td>59      </td><td>77      </td><td>59      </td><td>65.00000</td><td>68      </td><td>cricket </td></tr>\n",
       "\t<tr><td> 6      </td><td>ronak   </td><td>94      </td><td>b       </td><td>44      </td><td>49      </td><td>48      </td><td>47.00000</td><td>86      </td><td>cricket </td></tr>\n",
       "\t<tr><td> 7      </td><td>pooja   </td><td>72      </td><td>c       </td><td>57      </td><td>46      </td><td>63      </td><td>55.33333</td><td>76      </td><td>cricket </td></tr>\n",
       "\t<tr><td> 8      </td><td>ganesh  </td><td>89      </td><td>b       </td><td>53      </td><td>67      </td><td>81      </td><td>67.00000</td><td>66      </td><td>football</td></tr>\n",
       "\t<tr><td> 9      </td><td>akbar   </td><td>96      </td><td>a       </td><td>46      </td><td>82      </td><td>56      </td><td>61.33333</td><td>71      </td><td>cricket </td></tr>\n",
       "\t<tr><td>10      </td><td>aladin  </td><td>76      </td><td>b       </td><td>47      </td><td>84      </td><td>79      </td><td>70.00000</td><td>52      </td><td>football</td></tr>\n",
       "</tbody>\n",
       "</table>\n"
      ],
      "text/latex": [
       "\\begin{tabular}{r|llllllllll}\n",
       " id & name & chem & class & maths & sci & other & percentage & score & game\\\\\n",
       "\\hline\n",
       "\t  1       & ram      & 71       & a        & 40       & 73       & 87       & 66.66667 & 94       & football\\\\\n",
       "\t  2       & hari     & 77       & b        & 91       & 74       & 42       & 69.00000 & 45       & cricket \\\\\n",
       "\t  3       & allah    & 44       & c        & 70       & 85       & 67       & 74.00000 & 60       & kabadi  \\\\\n",
       "\t  4       & eid      & 49       & b        & 76       & 63       & 66       & 68.33333 & 78       & cricket \\\\\n",
       "\t  5       & diwali   & 55       & b        & 59       & 77       & 59       & 65.00000 & 68       & cricket \\\\\n",
       "\t  6       & ronak    & 94       & b        & 44       & 49       & 48       & 47.00000 & 86       & cricket \\\\\n",
       "\t  7       & pooja    & 72       & c        & 57       & 46       & 63       & 55.33333 & 76       & cricket \\\\\n",
       "\t  8       & ganesh   & 89       & b        & 53       & 67       & 81       & 67.00000 & 66       & football\\\\\n",
       "\t  9       & akbar    & 96       & a        & 46       & 82       & 56       & 61.33333 & 71       & cricket \\\\\n",
       "\t 10       & aladin   & 76       & b        & 47       & 84       & 79       & 70.00000 & 52       & football\\\\\n",
       "\\end{tabular}\n"
      ],
      "text/markdown": [
       "\n",
       "| id | name | chem | class | maths | sci | other | percentage | score | game |\n",
       "|---|---|---|---|---|---|---|---|---|---|\n",
       "|  1       | ram      | 71       | a        | 40       | 73       | 87       | 66.66667 | 94       | football |\n",
       "|  2       | hari     | 77       | b        | 91       | 74       | 42       | 69.00000 | 45       | cricket  |\n",
       "|  3       | allah    | 44       | c        | 70       | 85       | 67       | 74.00000 | 60       | kabadi   |\n",
       "|  4       | eid      | 49       | b        | 76       | 63       | 66       | 68.33333 | 78       | cricket  |\n",
       "|  5       | diwali   | 55       | b        | 59       | 77       | 59       | 65.00000 | 68       | cricket  |\n",
       "|  6       | ronak    | 94       | b        | 44       | 49       | 48       | 47.00000 | 86       | cricket  |\n",
       "|  7       | pooja    | 72       | c        | 57       | 46       | 63       | 55.33333 | 76       | cricket  |\n",
       "|  8       | ganesh   | 89       | b        | 53       | 67       | 81       | 67.00000 | 66       | football |\n",
       "|  9       | akbar    | 96       | a        | 46       | 82       | 56       | 61.33333 | 71       | cricket  |\n",
       "| 10       | aladin   | 76       | b        | 47       | 84       | 79       | 70.00000 | 52       | football |\n",
       "\n"
      ],
      "text/plain": [
       "   id name   chem class maths sci other percentage score game    \n",
       "1   1 ram    71   a     40    73  87    66.66667   94    football\n",
       "2   2 hari   77   b     91    74  42    69.00000   45    cricket \n",
       "3   3 allah  44   c     70    85  67    74.00000   60    kabadi  \n",
       "4   4 eid    49   b     76    63  66    68.33333   78    cricket \n",
       "5   5 diwali 55   b     59    77  59    65.00000   68    cricket \n",
       "6   6 ronak  94   b     44    49  48    47.00000   86    cricket \n",
       "7   7 pooja  72   c     57    46  63    55.33333   76    cricket \n",
       "8   8 ganesh 89   b     53    67  81    67.00000   66    football\n",
       "9   9 akbar  96   a     46    82  56    61.33333   71    cricket \n",
       "10 10 aladin 76   b     47    84  79    70.00000   52    football"
      ]
     },
     "metadata": {},
     "output_type": "display_data"
    }
   ],
   "source": [
    "left_join(info,game,by='id')"
   ]
  },
  {
   "cell_type": "code",
   "execution_count": 41,
   "metadata": {},
   "outputs": [
    {
     "data": {
      "text/html": [
       "<table>\n",
       "<thead><tr><th scope=col>id</th><th scope=col>name</th><th scope=col>chem</th><th scope=col>class</th><th scope=col>maths</th><th scope=col>sci</th><th scope=col>other</th><th scope=col>percentage</th><th scope=col>score</th><th scope=col>game</th></tr></thead>\n",
       "<tbody>\n",
       "\t<tr><td> 1      </td><td>ram     </td><td>71      </td><td>a       </td><td>40      </td><td>73      </td><td>87      </td><td>66.66667</td><td>94      </td><td>football</td></tr>\n",
       "\t<tr><td> 2      </td><td>hari    </td><td>77      </td><td>b       </td><td>91      </td><td>74      </td><td>42      </td><td>69.00000</td><td>45      </td><td>cricket </td></tr>\n",
       "\t<tr><td> 3      </td><td>allah   </td><td>44      </td><td>c       </td><td>70      </td><td>85      </td><td>67      </td><td>74.00000</td><td>60      </td><td>kabadi  </td></tr>\n",
       "\t<tr><td> 4      </td><td>eid     </td><td>49      </td><td>b       </td><td>76      </td><td>63      </td><td>66      </td><td>68.33333</td><td>78      </td><td>cricket </td></tr>\n",
       "\t<tr><td> 5      </td><td>diwali  </td><td>55      </td><td>b       </td><td>59      </td><td>77      </td><td>59      </td><td>65.00000</td><td>68      </td><td>cricket </td></tr>\n",
       "\t<tr><td> 6      </td><td>ronak   </td><td>94      </td><td>b       </td><td>44      </td><td>49      </td><td>48      </td><td>47.00000</td><td>86      </td><td>cricket </td></tr>\n",
       "\t<tr><td> 7      </td><td>pooja   </td><td>72      </td><td>c       </td><td>57      </td><td>46      </td><td>63      </td><td>55.33333</td><td>76      </td><td>cricket </td></tr>\n",
       "\t<tr><td> 8      </td><td>ganesh  </td><td>89      </td><td>b       </td><td>53      </td><td>67      </td><td>81      </td><td>67.00000</td><td>66      </td><td>football</td></tr>\n",
       "\t<tr><td> 9      </td><td>akbar   </td><td>96      </td><td>a       </td><td>46      </td><td>82      </td><td>56      </td><td>61.33333</td><td>71      </td><td>cricket </td></tr>\n",
       "\t<tr><td>10      </td><td>aladin  </td><td>76      </td><td>b       </td><td>47      </td><td>84      </td><td>79      </td><td>70.00000</td><td>52      </td><td>football</td></tr>\n",
       "</tbody>\n",
       "</table>\n"
      ],
      "text/latex": [
       "\\begin{tabular}{r|llllllllll}\n",
       " id & name & chem & class & maths & sci & other & percentage & score & game\\\\\n",
       "\\hline\n",
       "\t  1       & ram      & 71       & a        & 40       & 73       & 87       & 66.66667 & 94       & football\\\\\n",
       "\t  2       & hari     & 77       & b        & 91       & 74       & 42       & 69.00000 & 45       & cricket \\\\\n",
       "\t  3       & allah    & 44       & c        & 70       & 85       & 67       & 74.00000 & 60       & kabadi  \\\\\n",
       "\t  4       & eid      & 49       & b        & 76       & 63       & 66       & 68.33333 & 78       & cricket \\\\\n",
       "\t  5       & diwali   & 55       & b        & 59       & 77       & 59       & 65.00000 & 68       & cricket \\\\\n",
       "\t  6       & ronak    & 94       & b        & 44       & 49       & 48       & 47.00000 & 86       & cricket \\\\\n",
       "\t  7       & pooja    & 72       & c        & 57       & 46       & 63       & 55.33333 & 76       & cricket \\\\\n",
       "\t  8       & ganesh   & 89       & b        & 53       & 67       & 81       & 67.00000 & 66       & football\\\\\n",
       "\t  9       & akbar    & 96       & a        & 46       & 82       & 56       & 61.33333 & 71       & cricket \\\\\n",
       "\t 10       & aladin   & 76       & b        & 47       & 84       & 79       & 70.00000 & 52       & football\\\\\n",
       "\\end{tabular}\n"
      ],
      "text/markdown": [
       "\n",
       "| id | name | chem | class | maths | sci | other | percentage | score | game |\n",
       "|---|---|---|---|---|---|---|---|---|---|\n",
       "|  1       | ram      | 71       | a        | 40       | 73       | 87       | 66.66667 | 94       | football |\n",
       "|  2       | hari     | 77       | b        | 91       | 74       | 42       | 69.00000 | 45       | cricket  |\n",
       "|  3       | allah    | 44       | c        | 70       | 85       | 67       | 74.00000 | 60       | kabadi   |\n",
       "|  4       | eid      | 49       | b        | 76       | 63       | 66       | 68.33333 | 78       | cricket  |\n",
       "|  5       | diwali   | 55       | b        | 59       | 77       | 59       | 65.00000 | 68       | cricket  |\n",
       "|  6       | ronak    | 94       | b        | 44       | 49       | 48       | 47.00000 | 86       | cricket  |\n",
       "|  7       | pooja    | 72       | c        | 57       | 46       | 63       | 55.33333 | 76       | cricket  |\n",
       "|  8       | ganesh   | 89       | b        | 53       | 67       | 81       | 67.00000 | 66       | football |\n",
       "|  9       | akbar    | 96       | a        | 46       | 82       | 56       | 61.33333 | 71       | cricket  |\n",
       "| 10       | aladin   | 76       | b        | 47       | 84       | 79       | 70.00000 | 52       | football |\n",
       "\n"
      ],
      "text/plain": [
       "   id name   chem class maths sci other percentage score game    \n",
       "1   1 ram    71   a     40    73  87    66.66667   94    football\n",
       "2   2 hari   77   b     91    74  42    69.00000   45    cricket \n",
       "3   3 allah  44   c     70    85  67    74.00000   60    kabadi  \n",
       "4   4 eid    49   b     76    63  66    68.33333   78    cricket \n",
       "5   5 diwali 55   b     59    77  59    65.00000   68    cricket \n",
       "6   6 ronak  94   b     44    49  48    47.00000   86    cricket \n",
       "7   7 pooja  72   c     57    46  63    55.33333   76    cricket \n",
       "8   8 ganesh 89   b     53    67  81    67.00000   66    football\n",
       "9   9 akbar  96   a     46    82  56    61.33333   71    cricket \n",
       "10 10 aladin 76   b     47    84  79    70.00000   52    football"
      ]
     },
     "metadata": {},
     "output_type": "display_data"
    }
   ],
   "source": [
    "right_join(info,game,by='id')"
   ]
  },
  {
   "cell_type": "code",
   "execution_count": 42,
   "metadata": {},
   "outputs": [
    {
     "data": {
      "text/html": [
       "<table>\n",
       "<thead><tr><th scope=col>id</th><th scope=col>name</th><th scope=col>chem</th><th scope=col>class</th><th scope=col>maths</th><th scope=col>sci</th><th scope=col>other</th><th scope=col>percentage</th><th scope=col>score</th><th scope=col>game</th></tr></thead>\n",
       "<tbody>\n",
       "\t<tr><td> 1      </td><td>ram     </td><td>71      </td><td>a       </td><td>40      </td><td>73      </td><td>87      </td><td>66.66667</td><td>94      </td><td>football</td></tr>\n",
       "\t<tr><td> 2      </td><td>hari    </td><td>77      </td><td>b       </td><td>91      </td><td>74      </td><td>42      </td><td>69.00000</td><td>45      </td><td>cricket </td></tr>\n",
       "\t<tr><td> 3      </td><td>allah   </td><td>44      </td><td>c       </td><td>70      </td><td>85      </td><td>67      </td><td>74.00000</td><td>60      </td><td>kabadi  </td></tr>\n",
       "\t<tr><td> 4      </td><td>eid     </td><td>49      </td><td>b       </td><td>76      </td><td>63      </td><td>66      </td><td>68.33333</td><td>78      </td><td>cricket </td></tr>\n",
       "\t<tr><td> 5      </td><td>diwali  </td><td>55      </td><td>b       </td><td>59      </td><td>77      </td><td>59      </td><td>65.00000</td><td>68      </td><td>cricket </td></tr>\n",
       "\t<tr><td> 6      </td><td>ronak   </td><td>94      </td><td>b       </td><td>44      </td><td>49      </td><td>48      </td><td>47.00000</td><td>86      </td><td>cricket </td></tr>\n",
       "\t<tr><td> 7      </td><td>pooja   </td><td>72      </td><td>c       </td><td>57      </td><td>46      </td><td>63      </td><td>55.33333</td><td>76      </td><td>cricket </td></tr>\n",
       "\t<tr><td> 8      </td><td>ganesh  </td><td>89      </td><td>b       </td><td>53      </td><td>67      </td><td>81      </td><td>67.00000</td><td>66      </td><td>football</td></tr>\n",
       "\t<tr><td> 9      </td><td>akbar   </td><td>96      </td><td>a       </td><td>46      </td><td>82      </td><td>56      </td><td>61.33333</td><td>71      </td><td>cricket </td></tr>\n",
       "\t<tr><td>10      </td><td>aladin  </td><td>76      </td><td>b       </td><td>47      </td><td>84      </td><td>79      </td><td>70.00000</td><td>52      </td><td>football</td></tr>\n",
       "</tbody>\n",
       "</table>\n"
      ],
      "text/latex": [
       "\\begin{tabular}{r|llllllllll}\n",
       " id & name & chem & class & maths & sci & other & percentage & score & game\\\\\n",
       "\\hline\n",
       "\t  1       & ram      & 71       & a        & 40       & 73       & 87       & 66.66667 & 94       & football\\\\\n",
       "\t  2       & hari     & 77       & b        & 91       & 74       & 42       & 69.00000 & 45       & cricket \\\\\n",
       "\t  3       & allah    & 44       & c        & 70       & 85       & 67       & 74.00000 & 60       & kabadi  \\\\\n",
       "\t  4       & eid      & 49       & b        & 76       & 63       & 66       & 68.33333 & 78       & cricket \\\\\n",
       "\t  5       & diwali   & 55       & b        & 59       & 77       & 59       & 65.00000 & 68       & cricket \\\\\n",
       "\t  6       & ronak    & 94       & b        & 44       & 49       & 48       & 47.00000 & 86       & cricket \\\\\n",
       "\t  7       & pooja    & 72       & c        & 57       & 46       & 63       & 55.33333 & 76       & cricket \\\\\n",
       "\t  8       & ganesh   & 89       & b        & 53       & 67       & 81       & 67.00000 & 66       & football\\\\\n",
       "\t  9       & akbar    & 96       & a        & 46       & 82       & 56       & 61.33333 & 71       & cricket \\\\\n",
       "\t 10       & aladin   & 76       & b        & 47       & 84       & 79       & 70.00000 & 52       & football\\\\\n",
       "\\end{tabular}\n"
      ],
      "text/markdown": [
       "\n",
       "| id | name | chem | class | maths | sci | other | percentage | score | game |\n",
       "|---|---|---|---|---|---|---|---|---|---|\n",
       "|  1       | ram      | 71       | a        | 40       | 73       | 87       | 66.66667 | 94       | football |\n",
       "|  2       | hari     | 77       | b        | 91       | 74       | 42       | 69.00000 | 45       | cricket  |\n",
       "|  3       | allah    | 44       | c        | 70       | 85       | 67       | 74.00000 | 60       | kabadi   |\n",
       "|  4       | eid      | 49       | b        | 76       | 63       | 66       | 68.33333 | 78       | cricket  |\n",
       "|  5       | diwali   | 55       | b        | 59       | 77       | 59       | 65.00000 | 68       | cricket  |\n",
       "|  6       | ronak    | 94       | b        | 44       | 49       | 48       | 47.00000 | 86       | cricket  |\n",
       "|  7       | pooja    | 72       | c        | 57       | 46       | 63       | 55.33333 | 76       | cricket  |\n",
       "|  8       | ganesh   | 89       | b        | 53       | 67       | 81       | 67.00000 | 66       | football |\n",
       "|  9       | akbar    | 96       | a        | 46       | 82       | 56       | 61.33333 | 71       | cricket  |\n",
       "| 10       | aladin   | 76       | b        | 47       | 84       | 79       | 70.00000 | 52       | football |\n",
       "\n"
      ],
      "text/plain": [
       "   id name   chem class maths sci other percentage score game    \n",
       "1   1 ram    71   a     40    73  87    66.66667   94    football\n",
       "2   2 hari   77   b     91    74  42    69.00000   45    cricket \n",
       "3   3 allah  44   c     70    85  67    74.00000   60    kabadi  \n",
       "4   4 eid    49   b     76    63  66    68.33333   78    cricket \n",
       "5   5 diwali 55   b     59    77  59    65.00000   68    cricket \n",
       "6   6 ronak  94   b     44    49  48    47.00000   86    cricket \n",
       "7   7 pooja  72   c     57    46  63    55.33333   76    cricket \n",
       "8   8 ganesh 89   b     53    67  81    67.00000   66    football\n",
       "9   9 akbar  96   a     46    82  56    61.33333   71    cricket \n",
       "10 10 aladin 76   b     47    84  79    70.00000   52    football"
      ]
     },
     "metadata": {},
     "output_type": "display_data"
    }
   ],
   "source": [
    "full_join(info,game,by=\"id\")"
   ]
  },
  {
   "cell_type": "code",
   "execution_count": 55,
   "metadata": {},
   "outputs": [],
   "source": [
    "test1 = data.frame(\n",
    "    name = c(\"ram\",\"hari\",\"allah\",\"eid\"),\n",
    "    chem = sample(40:100,4),\n",
    "    sci = sample(40:100,4)\n",
    ")\n",
    "test2 = data.frame(\n",
    "    name = c(\"ram\",\"hari\",\"allah\",\"eid\"),\n",
    "    chem = sample(40:100,4),\n",
    "    sci = sample(40:100,4)\n",
    ")"
   ]
  },
  {
   "cell_type": "code",
   "execution_count": 56,
   "metadata": {},
   "outputs": [
    {
     "data": {
      "text/html": [
       "<table>\n",
       "<thead><tr><th scope=col>name</th><th scope=col>chem</th><th scope=col>sci</th></tr></thead>\n",
       "<tbody>\n",
       "\t<tr><td>ram  </td><td>95   </td><td>71   </td></tr>\n",
       "\t<tr><td>hari </td><td>66   </td><td>69   </td></tr>\n",
       "\t<tr><td>allah</td><td>51   </td><td>58   </td></tr>\n",
       "\t<tr><td>eid  </td><td>63   </td><td>94   </td></tr>\n",
       "</tbody>\n",
       "</table>\n"
      ],
      "text/latex": [
       "\\begin{tabular}{r|lll}\n",
       " name & chem & sci\\\\\n",
       "\\hline\n",
       "\t ram   & 95    & 71   \\\\\n",
       "\t hari  & 66    & 69   \\\\\n",
       "\t allah & 51    & 58   \\\\\n",
       "\t eid   & 63    & 94   \\\\\n",
       "\\end{tabular}\n"
      ],
      "text/markdown": [
       "\n",
       "| name | chem | sci |\n",
       "|---|---|---|\n",
       "| ram   | 95    | 71    |\n",
       "| hari  | 66    | 69    |\n",
       "| allah | 51    | 58    |\n",
       "| eid   | 63    | 94    |\n",
       "\n"
      ],
      "text/plain": [
       "  name  chem sci\n",
       "1 ram   95   71 \n",
       "2 hari  66   69 \n",
       "3 allah 51   58 \n",
       "4 eid   63   94 "
      ]
     },
     "metadata": {},
     "output_type": "display_data"
    }
   ],
   "source": [
    "test1"
   ]
  },
  {
   "cell_type": "code",
   "execution_count": 57,
   "metadata": {},
   "outputs": [
    {
     "data": {
      "text/html": [
       "<table>\n",
       "<thead><tr><th scope=col>name</th><th scope=col>chem</th><th scope=col>sci</th></tr></thead>\n",
       "<tbody>\n",
       "\t<tr><td>ram  </td><td>67   </td><td>52   </td></tr>\n",
       "\t<tr><td>hari </td><td>42   </td><td>97   </td></tr>\n",
       "\t<tr><td>allah</td><td>85   </td><td>86   </td></tr>\n",
       "\t<tr><td>eid  </td><td>50   </td><td>62   </td></tr>\n",
       "</tbody>\n",
       "</table>\n"
      ],
      "text/latex": [
       "\\begin{tabular}{r|lll}\n",
       " name & chem & sci\\\\\n",
       "\\hline\n",
       "\t ram   & 67    & 52   \\\\\n",
       "\t hari  & 42    & 97   \\\\\n",
       "\t allah & 85    & 86   \\\\\n",
       "\t eid   & 50    & 62   \\\\\n",
       "\\end{tabular}\n"
      ],
      "text/markdown": [
       "\n",
       "| name | chem | sci |\n",
       "|---|---|---|\n",
       "| ram   | 67    | 52    |\n",
       "| hari  | 42    | 97    |\n",
       "| allah | 85    | 86    |\n",
       "| eid   | 50    | 62    |\n",
       "\n"
      ],
      "text/plain": [
       "  name  chem sci\n",
       "1 ram   67   52 \n",
       "2 hari  42   97 \n",
       "3 allah 85   86 \n",
       "4 eid   50   62 "
      ]
     },
     "metadata": {},
     "output_type": "display_data"
    }
   ],
   "source": [
    "test2"
   ]
  },
  {
   "cell_type": "code",
   "execution_count": 58,
   "metadata": {},
   "outputs": [
    {
     "data": {
      "text/html": [
       "<table>\n",
       "<thead><tr><th scope=col>name</th><th scope=col>chem</th><th scope=col>sci</th></tr></thead>\n",
       "<tbody>\n",
       "</tbody>\n",
       "</table>\n"
      ],
      "text/latex": [
       "\\begin{tabular}{r|lll}\n",
       " name & chem & sci\\\\\n",
       "\\hline\n",
       "\\end{tabular}\n"
      ],
      "text/markdown": [
       "\n",
       "| name | chem | sci |\n",
       "|---|---|---|\n",
       "\n"
      ],
      "text/plain": [
       "     name chem sci"
      ]
     },
     "metadata": {},
     "output_type": "display_data"
    }
   ],
   "source": [
    "intersect(test1,test2)"
   ]
  },
  {
   "cell_type": "code",
   "execution_count": 50,
   "metadata": {},
   "outputs": [],
   "source": [
    "test2[2,2] =92\n",
    "test2[2,3] =73\n",
    "test2[4,3] =80\n",
    "test"
   ]
  },
  {
   "cell_type": "code",
   "execution_count": 59,
   "metadata": {},
   "outputs": [
    {
     "name": "stderr",
     "output_type": "stream",
     "text": [
      "Installing package into 'C:/Users/91911/Documents/R/win-library/3.6'\n",
      "(as 'lib' is unspecified)\n"
     ]
    },
    {
     "name": "stdout",
     "output_type": "stream",
     "text": [
      "package 'RMySQL' successfully unpacked and MD5 sums checked\n",
      "\n",
      "The downloaded binary packages are in\n",
      "\tC:\\Users\\91911\\AppData\\Local\\Temp\\RtmpuyAkMT\\downloaded_packages\n"
     ]
    }
   ],
   "source": [
    "install.packages(\"RMySQL\")"
   ]
  },
  {
   "cell_type": "code",
   "execution_count": 66,
   "metadata": {},
   "outputs": [
    {
     "name": "stderr",
     "output_type": "stream",
     "text": [
      "Warning message:\n",
      "\"package 'RMySQL' was built under R version 3.6.1\"Loading required package: DBI\n"
     ]
    }
   ],
   "source": [
    "library(\"RMySQL\")"
   ]
  },
  {
   "cell_type": "code",
   "execution_count": 67,
   "metadata": {},
   "outputs": [],
   "source": [
    "con = dbConnect(MySQL(),host='localhost',user='root',password='123',dbname='student')"
   ]
  },
  {
   "cell_type": "code",
   "execution_count": 68,
   "metadata": {},
   "outputs": [
    {
     "data": {
      "text/html": [
       "<table>\n",
       "<thead><tr><th scope=col>sid</th><th scope=col>name</th><th scope=col>ph_no</th><th scope=col>email</th></tr></thead>\n",
       "<tbody>\n",
       "\t<tr><td>1001                   </td><td>sachin                 </td><td>9782131159             </td><td>sachin@grras.com       </td></tr>\n",
       "\t<tr><td>1002                   </td><td>kushal                 </td><td>1234323456             </td><td>kushal.samota@grras.com</td></tr>\n",
       "\t<tr><td>1003                   </td><td>rajat                  </td><td>8923342334             </td><td>rajat.goyal@gmail.com  </td></tr>\n",
       "\t<tr><td>1004                   </td><td>ravi                   </td><td>9782123432             </td><td>ravi.sarswat@gmail.com </td></tr>\n",
       "\t<tr><td>1005                   </td><td>gaurav                 </td><td>992334561              </td><td>gaurav.saluja@gmai.com </td></tr>\n",
       "\t<tr><td>1006                   </td><td>nidhi                  </td><td>9912345678             </td><td>nidhi.sharma@yahoo.com </td></tr>\n",
       "\t<tr><td>1007                   </td><td>aman                   </td><td>9748654899             </td><td>aman@grras.com         </td></tr>\n",
       "</tbody>\n",
       "</table>\n"
      ],
      "text/latex": [
       "\\begin{tabular}{r|llll}\n",
       " sid & name & ph\\_no & email\\\\\n",
       "\\hline\n",
       "\t 1001                    & sachin                  & 9782131159              & sachin@grras.com       \\\\\n",
       "\t 1002                    & kushal                  & 1234323456              & kushal.samota@grras.com\\\\\n",
       "\t 1003                    & rajat                   & 8923342334              & rajat.goyal@gmail.com  \\\\\n",
       "\t 1004                    & ravi                    & 9782123432              & ravi.sarswat@gmail.com \\\\\n",
       "\t 1005                    & gaurav                  & 992334561               & gaurav.saluja@gmai.com \\\\\n",
       "\t 1006                    & nidhi                   & 9912345678              & nidhi.sharma@yahoo.com \\\\\n",
       "\t 1007                    & aman                    & 9748654899              & aman@grras.com         \\\\\n",
       "\\end{tabular}\n"
      ],
      "text/markdown": [
       "\n",
       "| sid | name | ph_no | email |\n",
       "|---|---|---|---|\n",
       "| 1001                    | sachin                  | 9782131159              | sachin@grras.com        |\n",
       "| 1002                    | kushal                  | 1234323456              | kushal.samota@grras.com |\n",
       "| 1003                    | rajat                   | 8923342334              | rajat.goyal@gmail.com   |\n",
       "| 1004                    | ravi                    | 9782123432              | ravi.sarswat@gmail.com  |\n",
       "| 1005                    | gaurav                  | 992334561               | gaurav.saluja@gmai.com  |\n",
       "| 1006                    | nidhi                   | 9912345678              | nidhi.sharma@yahoo.com  |\n",
       "| 1007                    | aman                    | 9748654899              | aman@grras.com          |\n",
       "\n"
      ],
      "text/plain": [
       "  sid  name   ph_no      email                  \n",
       "1 1001 sachin 9782131159 sachin@grras.com       \n",
       "2 1002 kushal 1234323456 kushal.samota@grras.com\n",
       "3 1003 rajat  8923342334 rajat.goyal@gmail.com  \n",
       "4 1004 ravi   9782123432 ravi.sarswat@gmail.com \n",
       "5 1005 gaurav 992334561  gaurav.saluja@gmai.com \n",
       "6 1006 nidhi  9912345678 nidhi.sharma@yahoo.com \n",
       "7 1007 aman   9748654899 aman@grras.com         "
      ]
     },
     "metadata": {},
     "output_type": "display_data"
    }
   ],
   "source": [
    "dbGetQuery(con,'select * from student')"
   ]
  },
  {
   "cell_type": "code",
   "execution_count": 69,
   "metadata": {},
   "outputs": [
    {
     "data": {
      "text/html": [
       "TRUE"
      ],
      "text/latex": [
       "TRUE"
      ],
      "text/markdown": [
       "TRUE"
      ],
      "text/plain": [
       "[1] TRUE"
      ]
     },
     "metadata": {},
     "output_type": "display_data"
    }
   ],
   "source": [
    "dbWriteTable(con,\"info\",info)"
   ]
  },
  {
   "cell_type": "code",
   "execution_count": 70,
   "metadata": {},
   "outputs": [
    {
     "data": {
      "text/html": [
       "TRUE"
      ],
      "text/latex": [
       "TRUE"
      ],
      "text/markdown": [
       "TRUE"
      ],
      "text/plain": [
       "[1] TRUE"
      ]
     },
     "metadata": {},
     "output_type": "display_data"
    }
   ],
   "source": [
    "dbWriteTable(con,\"iris\",iris)"
   ]
  },
  {
   "cell_type": "code",
   "execution_count": 71,
   "metadata": {},
   "outputs": [
    {
     "data": {
      "text/html": [
       "TRUE"
      ],
      "text/latex": [
       "TRUE"
      ],
      "text/markdown": [
       "TRUE"
      ],
      "text/plain": [
       "[1] TRUE"
      ]
     },
     "metadata": {},
     "output_type": "display_data"
    }
   ],
   "source": [
    "dbCommit(con)"
   ]
  },
  {
   "cell_type": "code",
   "execution_count": 72,
   "metadata": {},
   "outputs": [
    {
     "data": {
      "text/html": [
       "TRUE"
      ],
      "text/latex": [
       "TRUE"
      ],
      "text/markdown": [
       "TRUE"
      ],
      "text/plain": [
       "[1] TRUE"
      ]
     },
     "metadata": {},
     "output_type": "display_data"
    }
   ],
   "source": [
    "dbDisconnect(con)"
   ]
  },
  {
   "cell_type": "code",
   "execution_count": null,
   "metadata": {},
   "outputs": [],
   "source": []
  }
 ],
 "metadata": {
  "kernelspec": {
   "display_name": "R",
   "language": "R",
   "name": "ir"
  },
  "language_info": {
   "codemirror_mode": "r",
   "file_extension": ".r",
   "mimetype": "text/x-r-source",
   "name": "R",
   "pygments_lexer": "r",
   "version": "3.6.0"
  }
 },
 "nbformat": 4,
 "nbformat_minor": 2
}
