{
 "cells": [
  {
   "cell_type": "markdown",
   "metadata": {},
   "source": [
    "### R is a very funny Language"
   ]
  },
  {
   "cell_type": "code",
   "execution_count": 1,
   "metadata": {},
   "outputs": [
    {
     "name": "stdout",
     "output_type": "stream",
     "text": [
      "[1] \"hello world\"\n"
     ]
    }
   ],
   "source": [
    "print(\"hello world\")"
   ]
  },
  {
   "cell_type": "code",
   "execution_count": 3,
   "metadata": {},
   "outputs": [
    {
     "name": "stdout",
     "output_type": "stream",
     "text": [
      "Enter your name : amit\n",
      "Hello World Welcome to R, welcome mr.  amit \n"
     ]
    }
   ],
   "source": [
    "name = readline(\"Enter your name : \")\n",
    "\n",
    "cat(\"Hello World Welcome to R, welcome mr. \",name,\"\\n\")"
   ]
  },
  {
   "cell_type": "markdown",
   "metadata": {},
   "source": [
    "* scalers = integer,double,complex,string\n",
    "* vector = homogeous collection of data"
   ]
  },
  {
   "cell_type": "code",
   "execution_count": 4,
   "metadata": {},
   "outputs": [],
   "source": [
    "# scalar \n",
    "x = 5\n",
    "y <- 4+5i\n",
    "\"hello\" -> z \n",
    "# vectors \n",
    "assign(\"names\",c(\"ram\",\"amit\",\"modi\"))\n"
   ]
  },
  {
   "cell_type": "code",
   "execution_count": 6,
   "metadata": {},
   "outputs": [
    {
     "data": {
      "text/html": [
       "<ol class=list-inline>\n",
       "\t<li>'name'</li>\n",
       "\t<li>'names'</li>\n",
       "\t<li>'x'</li>\n",
       "\t<li>'y'</li>\n",
       "\t<li>'z'</li>\n",
       "</ol>\n"
      ],
      "text/latex": [
       "\\begin{enumerate*}\n",
       "\\item 'name'\n",
       "\\item 'names'\n",
       "\\item 'x'\n",
       "\\item 'y'\n",
       "\\item 'z'\n",
       "\\end{enumerate*}\n"
      ],
      "text/markdown": [
       "1. 'name'\n",
       "2. 'names'\n",
       "3. 'x'\n",
       "4. 'y'\n",
       "5. 'z'\n",
       "\n",
       "\n"
      ],
      "text/plain": [
       "[1] \"name\"  \"names\" \"x\"     \"y\"     \"z\"    "
      ]
     },
     "metadata": {},
     "output_type": "display_data"
    }
   ],
   "source": [
    "ls()"
   ]
  },
  {
   "cell_type": "code",
   "execution_count": 5,
   "metadata": {},
   "outputs": [
    {
     "data": {
      "text/html": [
       "<ol class=list-inline>\n",
       "\t<li>'a'</li>\n",
       "\t<li>'b'</li>\n",
       "\t<li>'c'</li>\n",
       "\t<li>'d'</li>\n",
       "\t<li>'name'</li>\n",
       "\t<li>'names'</li>\n",
       "\t<li>'num'</li>\n",
       "\t<li>'x'</li>\n",
       "\t<li>'y'</li>\n",
       "\t<li>'z'</li>\n",
       "</ol>\n"
      ],
      "text/latex": [
       "\\begin{enumerate*}\n",
       "\\item 'a'\n",
       "\\item 'b'\n",
       "\\item 'c'\n",
       "\\item 'd'\n",
       "\\item 'name'\n",
       "\\item 'names'\n",
       "\\item 'num'\n",
       "\\item 'x'\n",
       "\\item 'y'\n",
       "\\item 'z'\n",
       "\\end{enumerate*}\n"
      ],
      "text/markdown": [
       "1. 'a'\n",
       "2. 'b'\n",
       "3. 'c'\n",
       "4. 'd'\n",
       "5. 'name'\n",
       "6. 'names'\n",
       "7. 'num'\n",
       "8. 'x'\n",
       "9. 'y'\n",
       "10. 'z'\n",
       "\n",
       "\n"
      ],
      "text/plain": [
       " [1] \"a\"     \"b\"     \"c\"     \"d\"     \"name\"  \"names\" \"num\"   \"x\"     \"y\"    \n",
       "[10] \"z\"    "
      ]
     },
     "metadata": {},
     "output_type": "display_data"
    }
   ],
   "source": [
    "objects()"
   ]
  },
  {
   "cell_type": "code",
   "execution_count": 6,
   "metadata": {},
   "outputs": [
    {
     "data": {
      "text/html": [
       "5"
      ],
      "text/latex": [
       "5"
      ],
      "text/markdown": [
       "5"
      ],
      "text/plain": [
       "[1] 5"
      ]
     },
     "metadata": {},
     "output_type": "display_data"
    }
   ],
   "source": [
    "x"
   ]
  },
  {
   "cell_type": "code",
   "execution_count": 7,
   "metadata": {},
   "outputs": [
    {
     "data": {
      "text/html": [
       "4+5i"
      ],
      "text/latex": [
       "4+5i"
      ],
      "text/markdown": [
       "4+5i"
      ],
      "text/plain": [
       "[1] 4+5i"
      ]
     },
     "metadata": {},
     "output_type": "display_data"
    }
   ],
   "source": [
    "y"
   ]
  },
  {
   "cell_type": "code",
   "execution_count": 8,
   "metadata": {},
   "outputs": [
    {
     "data": {
      "text/html": [
       "<ol class=list-inline>\n",
       "\t<li>'ram'</li>\n",
       "\t<li>'amit'</li>\n",
       "\t<li>'modi'</li>\n",
       "</ol>\n"
      ],
      "text/latex": [
       "\\begin{enumerate*}\n",
       "\\item 'ram'\n",
       "\\item 'amit'\n",
       "\\item 'modi'\n",
       "\\end{enumerate*}\n"
      ],
      "text/markdown": [
       "1. 'ram'\n",
       "2. 'amit'\n",
       "3. 'modi'\n",
       "\n",
       "\n"
      ],
      "text/plain": [
       "[1] \"ram\"  \"amit\" \"modi\""
      ]
     },
     "metadata": {},
     "output_type": "display_data"
    }
   ],
   "source": [
    "names"
   ]
  },
  {
   "cell_type": "code",
   "execution_count": 9,
   "metadata": {},
   "outputs": [
    {
     "data": {
      "text/html": [
       "'ram'"
      ],
      "text/latex": [
       "'ram'"
      ],
      "text/markdown": [
       "'ram'"
      ],
      "text/plain": [
       "[1] \"ram\""
      ]
     },
     "metadata": {},
     "output_type": "display_data"
    }
   ],
   "source": [
    "names[1]"
   ]
  },
  {
   "cell_type": "code",
   "execution_count": 10,
   "metadata": {},
   "outputs": [
    {
     "data": {
      "text/html": [
       "'modi'"
      ],
      "text/latex": [
       "'modi'"
      ],
      "text/markdown": [
       "'modi'"
      ],
      "text/plain": [
       "[1] \"modi\""
      ]
     },
     "metadata": {},
     "output_type": "display_data"
    }
   ],
   "source": [
    "names[3]"
   ]
  },
  {
   "cell_type": "code",
   "execution_count": 11,
   "metadata": {},
   "outputs": [
    {
     "data": {
      "text/html": [
       "<ol class=list-inline>\n",
       "\t<li>'amit'</li>\n",
       "\t<li>'modi'</li>\n",
       "</ol>\n"
      ],
      "text/latex": [
       "\\begin{enumerate*}\n",
       "\\item 'amit'\n",
       "\\item 'modi'\n",
       "\\end{enumerate*}\n"
      ],
      "text/markdown": [
       "1. 'amit'\n",
       "2. 'modi'\n",
       "\n",
       "\n"
      ],
      "text/plain": [
       "[1] \"amit\" \"modi\""
      ]
     },
     "metadata": {},
     "output_type": "display_data"
    }
   ],
   "source": [
    "names[-1]"
   ]
  },
  {
   "cell_type": "code",
   "execution_count": 12,
   "metadata": {},
   "outputs": [
    {
     "data": {
      "text/html": [
       "<ol class=list-inline>\n",
       "\t<li>'ram'</li>\n",
       "\t<li>'amit'</li>\n",
       "\t<li>'modi'</li>\n",
       "</ol>\n"
      ],
      "text/latex": [
       "\\begin{enumerate*}\n",
       "\\item 'ram'\n",
       "\\item 'amit'\n",
       "\\item 'modi'\n",
       "\\end{enumerate*}\n"
      ],
      "text/markdown": [
       "1. 'ram'\n",
       "2. 'amit'\n",
       "3. 'modi'\n",
       "\n",
       "\n"
      ],
      "text/plain": [
       "[1] \"ram\"  \"amit\" \"modi\""
      ]
     },
     "metadata": {},
     "output_type": "display_data"
    }
   ],
   "source": [
    "names[1:3]"
   ]
  },
  {
   "cell_type": "code",
   "execution_count": 13,
   "metadata": {},
   "outputs": [],
   "source": [
    "rm(a,b,c)"
   ]
  },
  {
   "cell_type": "code",
   "execution_count": 14,
   "metadata": {},
   "outputs": [
    {
     "data": {
      "text/html": [
       "<ol class=list-inline>\n",
       "\t<li>'d'</li>\n",
       "\t<li>'name'</li>\n",
       "\t<li>'names'</li>\n",
       "\t<li>'num'</li>\n",
       "\t<li>'x'</li>\n",
       "\t<li>'y'</li>\n",
       "\t<li>'z'</li>\n",
       "</ol>\n"
      ],
      "text/latex": [
       "\\begin{enumerate*}\n",
       "\\item 'd'\n",
       "\\item 'name'\n",
       "\\item 'names'\n",
       "\\item 'num'\n",
       "\\item 'x'\n",
       "\\item 'y'\n",
       "\\item 'z'\n",
       "\\end{enumerate*}\n"
      ],
      "text/markdown": [
       "1. 'd'\n",
       "2. 'name'\n",
       "3. 'names'\n",
       "4. 'num'\n",
       "5. 'x'\n",
       "6. 'y'\n",
       "7. 'z'\n",
       "\n",
       "\n"
      ],
      "text/plain": [
       "[1] \"d\"     \"name\"  \"names\" \"num\"   \"x\"     \"y\"     \"z\"    "
      ]
     },
     "metadata": {},
     "output_type": "display_data"
    }
   ],
   "source": [
    "ls()"
   ]
  },
  {
   "cell_type": "code",
   "execution_count": 15,
   "metadata": {},
   "outputs": [],
   "source": [
    "rm(d)"
   ]
  },
  {
   "cell_type": "code",
   "execution_count": 7,
   "metadata": {},
   "outputs": [
    {
     "data": {
      "text/html": [
       "'E:/Batch1pm/R language'"
      ],
      "text/latex": [
       "'E:/Batch1pm/R language'"
      ],
      "text/markdown": [
       "'E:/Batch1pm/R language'"
      ],
      "text/plain": [
       "[1] \"E:/Batch1pm/R language\""
      ]
     },
     "metadata": {},
     "output_type": "display_data"
    }
   ],
   "source": [
    "getwd()"
   ]
  },
  {
   "cell_type": "code",
   "execution_count": 9,
   "metadata": {},
   "outputs": [
    {
     "ename": "ERROR",
     "evalue": "Error in setwd(\"C:\\\\users\\\\hp\\\\Desktop\"): cannot change working directory\n",
     "output_type": "error",
     "traceback": [
      "Error in setwd(\"C:\\\\users\\\\hp\\\\Desktop\"): cannot change working directory\nTraceback:\n",
      "1. setwd(\"C:\\\\users\\\\hp\\\\Desktop\")"
     ]
    }
   ],
   "source": [
    "setwd(\"C:\\\\users\\\\hp\\\\Desktop\")"
   ]
  },
  {
   "cell_type": "code",
   "execution_count": 8,
   "metadata": {},
   "outputs": [
    {
     "data": {
      "text/html": [
       "'E:/Batch1pm/R language'"
      ],
      "text/latex": [
       "'E:/Batch1pm/R language'"
      ],
      "text/markdown": [
       "'E:/Batch1pm/R language'"
      ],
      "text/plain": [
       "[1] \"E:/Batch1pm/R language\""
      ]
     },
     "metadata": {},
     "output_type": "display_data"
    }
   ],
   "source": [
    "getwd()"
   ]
  },
  {
   "cell_type": "code",
   "execution_count": 10,
   "metadata": {},
   "outputs": [],
   "source": [
    "#list.dirs()"
   ]
  },
  {
   "cell_type": "code",
   "execution_count": 21,
   "metadata": {},
   "outputs": [
    {
     "data": {
      "text/html": [
       "<ol class=list-inline>\n",
       "\t<li>'2019'</li>\n",
       "\t<li>'basics.txt'</li>\n",
       "\t<li>'batch_2pm'</li>\n",
       "\t<li>'batch_5pm'</li>\n",
       "\t<li>'batch8am'</li>\n",
       "\t<li>'Central Tendency.pptx'</li>\n",
       "\t<li>'ch10'</li>\n",
       "\t<li>'cli-files-0.0'</li>\n",
       "\t<li>'data'</li>\n",
       "\t<li>'Data_Distribution.docx'</li>\n",
       "\t<li>'DataScienceSlides.pdf'</li>\n",
       "\t<li>'desktop.ini'</li>\n",
       "\t<li>'Distributions1.pdf'</li>\n",
       "\t<li>'ds'</li>\n",
       "\t<li>'eb13ddc9-4b03-45bb-8c15-c8b18dc96a3a.jfif'</li>\n",
       "\t<li>'Fedora 11 and Red Hat Enterprise Linux Bible.pdf'</li>\n",
       "\t<li>'H1B_VISA_Documentation'</li>\n",
       "\t<li>'hello.py'</li>\n",
       "\t<li>'invoicepdf.pdf'</li>\n",
       "\t<li>'ISLR.pdf'</li>\n",
       "\t<li>'ISLR_DATASET'</li>\n",
       "\t<li>'Linux'</li>\n",
       "\t<li>'machine_learning'</li>\n",
       "\t<li>'MachineLearning'</li>\n",
       "\t<li>'ml'</li>\n",
       "\t<li>'ml_excercise'</li>\n",
       "\t<li>'numerical_python'</li>\n",
       "\t<li>'NumPy'</li>\n",
       "\t<li>'NumPyBook.pdf'</li>\n",
       "\t<li>'online_ml_class'</li>\n",
       "\t<li>'Pro Python System Administration - Sileika - Apress.pdf'</li>\n",
       "\t<li>'pyspark'</li>\n",
       "\t<li>'Pyspark-Streaming'</li>\n",
       "\t<li>'python_interview_questions.txt'</li>\n",
       "\t<li>'PythonInternBatch2018'</li>\n",
       "\t<li>'R'</li>\n",
       "\t<li>'r_lang'</li>\n",
       "\t<li>'Sachin Yadav Profile.docx'</li>\n",
       "\t<li>'ScipyLectures-simple.pdf'</li>\n",
       "\t<li>'seg_pred.zip'</li>\n",
       "\t<li>'seg_test.zip'</li>\n",
       "\t<li>'seg_train.zip'</li>\n",
       "\t<li>'StudentsPerformance.csv'</li>\n",
       "\t<li>'subham_cv17.docx'</li>\n",
       "\t<li>'sunday_ml'</li>\n",
       "\t<li>'weather.zip'</li>\n",
       "\t<li>'Zoom.lnk'</li>\n",
       "</ol>\n"
      ],
      "text/latex": [
       "\\begin{enumerate*}\n",
       "\\item '2019'\n",
       "\\item 'basics.txt'\n",
       "\\item 'batch\\_2pm'\n",
       "\\item 'batch\\_5pm'\n",
       "\\item 'batch8am'\n",
       "\\item 'Central Tendency.pptx'\n",
       "\\item 'ch10'\n",
       "\\item 'cli-files-0.0'\n",
       "\\item 'data'\n",
       "\\item 'Data\\_Distribution.docx'\n",
       "\\item 'DataScienceSlides.pdf'\n",
       "\\item 'desktop.ini'\n",
       "\\item 'Distributions1.pdf'\n",
       "\\item 'ds'\n",
       "\\item 'eb13ddc9-4b03-45bb-8c15-c8b18dc96a3a.jfif'\n",
       "\\item 'Fedora 11 and Red Hat Enterprise Linux Bible.pdf'\n",
       "\\item 'H1B\\_VISA\\_Documentation'\n",
       "\\item 'hello.py'\n",
       "\\item 'invoicepdf.pdf'\n",
       "\\item 'ISLR.pdf'\n",
       "\\item 'ISLR\\_DATASET'\n",
       "\\item 'Linux'\n",
       "\\item 'machine\\_learning'\n",
       "\\item 'MachineLearning'\n",
       "\\item 'ml'\n",
       "\\item 'ml\\_excercise'\n",
       "\\item 'numerical\\_python'\n",
       "\\item 'NumPy'\n",
       "\\item 'NumPyBook.pdf'\n",
       "\\item 'online\\_ml\\_class'\n",
       "\\item 'Pro Python System Administration - Sileika - Apress.pdf'\n",
       "\\item 'pyspark'\n",
       "\\item 'Pyspark-Streaming'\n",
       "\\item 'python\\_interview\\_questions.txt'\n",
       "\\item 'PythonInternBatch2018'\n",
       "\\item 'R'\n",
       "\\item 'r\\_lang'\n",
       "\\item 'Sachin Yadav Profile.docx'\n",
       "\\item 'ScipyLectures-simple.pdf'\n",
       "\\item 'seg\\_pred.zip'\n",
       "\\item 'seg\\_test.zip'\n",
       "\\item 'seg\\_train.zip'\n",
       "\\item 'StudentsPerformance.csv'\n",
       "\\item 'subham\\_cv17.docx'\n",
       "\\item 'sunday\\_ml'\n",
       "\\item 'weather.zip'\n",
       "\\item 'Zoom.lnk'\n",
       "\\end{enumerate*}\n"
      ],
      "text/markdown": [
       "1. '2019'\n",
       "2. 'basics.txt'\n",
       "3. 'batch_2pm'\n",
       "4. 'batch_5pm'\n",
       "5. 'batch8am'\n",
       "6. 'Central Tendency.pptx'\n",
       "7. 'ch10'\n",
       "8. 'cli-files-0.0'\n",
       "9. 'data'\n",
       "10. 'Data_Distribution.docx'\n",
       "11. 'DataScienceSlides.pdf'\n",
       "12. 'desktop.ini'\n",
       "13. 'Distributions1.pdf'\n",
       "14. 'ds'\n",
       "15. 'eb13ddc9-4b03-45bb-8c15-c8b18dc96a3a.jfif'\n",
       "16. 'Fedora 11 and Red Hat Enterprise Linux Bible.pdf'\n",
       "17. 'H1B_VISA_Documentation'\n",
       "18. 'hello.py'\n",
       "19. 'invoicepdf.pdf'\n",
       "20. 'ISLR.pdf'\n",
       "21. 'ISLR_DATASET'\n",
       "22. 'Linux'\n",
       "23. 'machine_learning'\n",
       "24. 'MachineLearning'\n",
       "25. 'ml'\n",
       "26. 'ml_excercise'\n",
       "27. 'numerical_python'\n",
       "28. 'NumPy'\n",
       "29. 'NumPyBook.pdf'\n",
       "30. 'online_ml_class'\n",
       "31. 'Pro Python System Administration - Sileika - Apress.pdf'\n",
       "32. 'pyspark'\n",
       "33. 'Pyspark-Streaming'\n",
       "34. 'python_interview_questions.txt'\n",
       "35. 'PythonInternBatch2018'\n",
       "36. 'R'\n",
       "37. 'r_lang'\n",
       "38. 'Sachin Yadav Profile.docx'\n",
       "39. 'ScipyLectures-simple.pdf'\n",
       "40. 'seg_pred.zip'\n",
       "41. 'seg_test.zip'\n",
       "42. 'seg_train.zip'\n",
       "43. 'StudentsPerformance.csv'\n",
       "44. 'subham_cv17.docx'\n",
       "45. 'sunday_ml'\n",
       "46. 'weather.zip'\n",
       "47. 'Zoom.lnk'\n",
       "\n",
       "\n"
      ],
      "text/plain": [
       " [1] \"2019\"                                                   \n",
       " [2] \"basics.txt\"                                             \n",
       " [3] \"batch_2pm\"                                              \n",
       " [4] \"batch_5pm\"                                              \n",
       " [5] \"batch8am\"                                               \n",
       " [6] \"Central Tendency.pptx\"                                  \n",
       " [7] \"ch10\"                                                   \n",
       " [8] \"cli-files-0.0\"                                          \n",
       " [9] \"data\"                                                   \n",
       "[10] \"Data_Distribution.docx\"                                 \n",
       "[11] \"DataScienceSlides.pdf\"                                  \n",
       "[12] \"desktop.ini\"                                            \n",
       "[13] \"Distributions1.pdf\"                                     \n",
       "[14] \"ds\"                                                     \n",
       "[15] \"eb13ddc9-4b03-45bb-8c15-c8b18dc96a3a.jfif\"              \n",
       "[16] \"Fedora 11 and Red Hat Enterprise Linux Bible.pdf\"       \n",
       "[17] \"H1B_VISA_Documentation\"                                 \n",
       "[18] \"hello.py\"                                               \n",
       "[19] \"invoicepdf.pdf\"                                         \n",
       "[20] \"ISLR.pdf\"                                               \n",
       "[21] \"ISLR_DATASET\"                                           \n",
       "[22] \"Linux\"                                                  \n",
       "[23] \"machine_learning\"                                       \n",
       "[24] \"MachineLearning\"                                        \n",
       "[25] \"ml\"                                                     \n",
       "[26] \"ml_excercise\"                                           \n",
       "[27] \"numerical_python\"                                       \n",
       "[28] \"NumPy\"                                                  \n",
       "[29] \"NumPyBook.pdf\"                                          \n",
       "[30] \"online_ml_class\"                                        \n",
       "[31] \"Pro Python System Administration - Sileika - Apress.pdf\"\n",
       "[32] \"pyspark\"                                                \n",
       "[33] \"Pyspark-Streaming\"                                      \n",
       "[34] \"python_interview_questions.txt\"                         \n",
       "[35] \"PythonInternBatch2018\"                                  \n",
       "[36] \"R\"                                                      \n",
       "[37] \"r_lang\"                                                 \n",
       "[38] \"Sachin Yadav Profile.docx\"                              \n",
       "[39] \"ScipyLectures-simple.pdf\"                               \n",
       "[40] \"seg_pred.zip\"                                           \n",
       "[41] \"seg_test.zip\"                                           \n",
       "[42] \"seg_train.zip\"                                          \n",
       "[43] \"StudentsPerformance.csv\"                                \n",
       "[44] \"subham_cv17.docx\"                                       \n",
       "[45] \"sunday_ml\"                                              \n",
       "[46] \"weather.zip\"                                            \n",
       "[47] \"Zoom.lnk\"                                               "
      ]
     },
     "metadata": {},
     "output_type": "display_data"
    }
   ],
   "source": [
    "list.files()"
   ]
  },
  {
   "cell_type": "code",
   "execution_count": 22,
   "metadata": {},
   "outputs": [],
   "source": [
    "setwd('G:/Sachin/Batch1pm/Advance_Python/R')"
   ]
  },
  {
   "cell_type": "code",
   "execution_count": 23,
   "metadata": {},
   "outputs": [
    {
     "data": {
      "text/html": [
       "'G:/Sachin/Batch1pm/Advance_Python/R'"
      ],
      "text/latex": [
       "'G:/Sachin/Batch1pm/Advance\\_Python/R'"
      ],
      "text/markdown": [
       "'G:/Sachin/Batch1pm/Advance_Python/R'"
      ],
      "text/plain": [
       "[1] \"G:/Sachin/Batch1pm/Advance_Python/R\""
      ]
     },
     "metadata": {},
     "output_type": "display_data"
    }
   ],
   "source": [
    "getwd()"
   ]
  },
  {
   "cell_type": "code",
   "execution_count": 25,
   "metadata": {},
   "outputs": [
    {
     "data": {
      "text/html": [
       "<ol class=list-inline>\n",
       "\t<li>'ram'</li>\n",
       "\t<li>'amit'</li>\n",
       "\t<li>'modi'</li>\n",
       "</ol>\n"
      ],
      "text/latex": [
       "\\begin{enumerate*}\n",
       "\\item 'ram'\n",
       "\\item 'amit'\n",
       "\\item 'modi'\n",
       "\\end{enumerate*}\n"
      ],
      "text/markdown": [
       "1. 'ram'\n",
       "2. 'amit'\n",
       "3. 'modi'\n",
       "\n",
       "\n"
      ],
      "text/plain": [
       "[1] \"ram\"  \"amit\" \"modi\""
      ]
     },
     "metadata": {},
     "output_type": "display_data"
    }
   ],
   "source": [
    "names"
   ]
  },
  {
   "cell_type": "code",
   "execution_count": 26,
   "metadata": {},
   "outputs": [],
   "source": [
    "save(names,file=\"names.rda\")"
   ]
  },
  {
   "cell_type": "code",
   "execution_count": 27,
   "metadata": {},
   "outputs": [],
   "source": [
    "rm(names)"
   ]
  },
  {
   "cell_type": "code",
   "execution_count": 28,
   "metadata": {},
   "outputs": [
    {
     "data": {
      "text/html": [
       "<pre class=language-r><code>.Primitive(\"names\")</code></pre>"
      ],
      "text/latex": [
       "\\begin{minted}{r}\n",
       ".Primitive(\"names\")\n",
       "\\end{minted}"
      ],
      "text/markdown": [
       "```r\n",
       ".Primitive(\"names\")\n",
       "```"
      ],
      "text/plain": [
       "function (x)  .Primitive(\"names\")"
      ]
     },
     "metadata": {},
     "output_type": "display_data"
    }
   ],
   "source": [
    "names"
   ]
  },
  {
   "cell_type": "code",
   "execution_count": 29,
   "metadata": {},
   "outputs": [],
   "source": [
    "load(\"names.rda\")"
   ]
  },
  {
   "cell_type": "code",
   "execution_count": 30,
   "metadata": {},
   "outputs": [
    {
     "data": {
      "text/html": [
       "<ol class=list-inline>\n",
       "\t<li>'ram'</li>\n",
       "\t<li>'amit'</li>\n",
       "\t<li>'modi'</li>\n",
       "</ol>\n"
      ],
      "text/latex": [
       "\\begin{enumerate*}\n",
       "\\item 'ram'\n",
       "\\item 'amit'\n",
       "\\item 'modi'\n",
       "\\end{enumerate*}\n"
      ],
      "text/markdown": [
       "1. 'ram'\n",
       "2. 'amit'\n",
       "3. 'modi'\n",
       "\n",
       "\n"
      ],
      "text/plain": [
       "[1] \"ram\"  \"amit\" \"modi\""
      ]
     },
     "metadata": {},
     "output_type": "display_data"
    }
   ],
   "source": [
    "names"
   ]
  },
  {
   "cell_type": "markdown",
   "metadata": {},
   "source": [
    "### Vectors Creation"
   ]
  },
  {
   "cell_type": "code",
   "execution_count": 32,
   "metadata": {},
   "outputs": [],
   "source": [
    "v1 = c(5,4,3,2,5,6)"
   ]
  },
  {
   "cell_type": "code",
   "execution_count": 33,
   "metadata": {},
   "outputs": [
    {
     "name": "stdout",
     "output_type": "stream",
     "text": [
      " num [1:6] 5 4 3 2 5 6\n"
     ]
    }
   ],
   "source": [
    "str(v1)"
   ]
  },
  {
   "cell_type": "code",
   "execution_count": 34,
   "metadata": {},
   "outputs": [
    {
     "data": {
      "text/html": [
       "'numeric'"
      ],
      "text/latex": [
       "'numeric'"
      ],
      "text/markdown": [
       "'numeric'"
      ],
      "text/plain": [
       "[1] \"numeric\""
      ]
     },
     "metadata": {},
     "output_type": "display_data"
    }
   ],
   "source": [
    "class(v1)"
   ]
  },
  {
   "cell_type": "code",
   "execution_count": 35,
   "metadata": {},
   "outputs": [],
   "source": [
    "x = 1:10"
   ]
  },
  {
   "cell_type": "code",
   "execution_count": 36,
   "metadata": {},
   "outputs": [
    {
     "data": {
      "text/html": [
       "<ol class=list-inline>\n",
       "\t<li>1</li>\n",
       "\t<li>2</li>\n",
       "\t<li>3</li>\n",
       "\t<li>4</li>\n",
       "\t<li>5</li>\n",
       "\t<li>6</li>\n",
       "\t<li>7</li>\n",
       "\t<li>8</li>\n",
       "\t<li>9</li>\n",
       "\t<li>10</li>\n",
       "</ol>\n"
      ],
      "text/latex": [
       "\\begin{enumerate*}\n",
       "\\item 1\n",
       "\\item 2\n",
       "\\item 3\n",
       "\\item 4\n",
       "\\item 5\n",
       "\\item 6\n",
       "\\item 7\n",
       "\\item 8\n",
       "\\item 9\n",
       "\\item 10\n",
       "\\end{enumerate*}\n"
      ],
      "text/markdown": [
       "1. 1\n",
       "2. 2\n",
       "3. 3\n",
       "4. 4\n",
       "5. 5\n",
       "6. 6\n",
       "7. 7\n",
       "8. 8\n",
       "9. 9\n",
       "10. 10\n",
       "\n",
       "\n"
      ],
      "text/plain": [
       " [1]  1  2  3  4  5  6  7  8  9 10"
      ]
     },
     "metadata": {},
     "output_type": "display_data"
    }
   ],
   "source": [
    "x"
   ]
  },
  {
   "cell_type": "markdown",
   "metadata": {},
   "source": [
    "### how use range in R \n",
    "\n",
    "#### range == seq "
   ]
  },
  {
   "cell_type": "code",
   "execution_count": 11,
   "metadata": {},
   "outputs": [
    {
     "name": "stdout",
     "output_type": "stream",
     "text": [
      " [1]  13  26  39  52  65  78  91 104 117 130\n"
     ]
    }
   ],
   "source": [
    "y = seq(13,131,13)\n",
    "print(y)"
   ]
  },
  {
   "cell_type": "markdown",
   "metadata": {},
   "source": [
    "##### linspace == seq(from,to,length.out)"
   ]
  },
  {
   "cell_type": "code",
   "execution_count": 12,
   "metadata": {},
   "outputs": [
    {
     "data": {
      "text/html": [
       "3.14159265358979"
      ],
      "text/latex": [
       "3.14159265358979"
      ],
      "text/markdown": [
       "3.14159265358979"
      ],
      "text/plain": [
       "[1] 3.141593"
      ]
     },
     "metadata": {},
     "output_type": "display_data"
    }
   ],
   "source": [
    "pi"
   ]
  },
  {
   "cell_type": "code",
   "execution_count": 13,
   "metadata": {},
   "outputs": [
    {
     "data": {
      "text/html": [
       "6.70820393249937"
      ],
      "text/latex": [
       "6.70820393249937"
      ],
      "text/markdown": [
       "6.70820393249937"
      ],
      "text/plain": [
       "[1] 6.708204"
      ]
     },
     "metadata": {},
     "output_type": "display_data"
    }
   ],
   "source": [
    "sqrt(45)"
   ]
  },
  {
   "cell_type": "code",
   "execution_count": 14,
   "metadata": {},
   "outputs": [
    {
     "data": {
      "text/html": [
       "120"
      ],
      "text/latex": [
       "120"
      ],
      "text/markdown": [
       "120"
      ],
      "text/plain": [
       "[1] 120"
      ]
     },
     "metadata": {},
     "output_type": "display_data"
    }
   ],
   "source": [
    "factorial(5)"
   ]
  },
  {
   "cell_type": "code",
   "execution_count": 38,
   "metadata": {},
   "outputs": [
    {
     "data": {
      "text/html": [
       "4.60517018598809"
      ],
      "text/latex": [
       "4.60517018598809"
      ],
      "text/markdown": [
       "4.60517018598809"
      ],
      "text/plain": [
       "[1] 4.60517"
      ]
     },
     "metadata": {},
     "output_type": "display_data"
    }
   ],
   "source": [
    "log()"
   ]
  },
  {
   "cell_type": "code",
   "execution_count": 26,
   "metadata": {},
   "outputs": [
    {
     "data": {
      "text/html": [
       "2.30258509299405"
      ],
      "text/latex": [
       "2.30258509299405"
      ],
      "text/markdown": [
       "2.30258509299405"
      ],
      "text/plain": [
       "[1] 2.302585"
      ]
     },
     "metadata": {},
     "output_type": "display_data"
    }
   ],
   "source": [
    "log(10)"
   ]
  },
  {
   "cell_type": "code",
   "execution_count": 16,
   "metadata": {},
   "outputs": [
    {
     "data": {
      "text/html": [
       "0.529082686120024"
      ],
      "text/latex": [
       "0.529082686120024"
      ],
      "text/markdown": [
       "0.529082686120024"
      ],
      "text/plain": [
       "[1] 0.5290827"
      ]
     },
     "metadata": {},
     "output_type": "display_data"
    }
   ],
   "source": [
    "sin(34)"
   ]
  },
  {
   "cell_type": "code",
   "execution_count": 17,
   "metadata": {},
   "outputs": [
    {
     "data": {
      "text/html": [
       "-0.653643620863612"
      ],
      "text/latex": [
       "-0.653643620863612"
      ],
      "text/markdown": [
       "-0.653643620863612"
      ],
      "text/plain": [
       "[1] -0.6536436"
      ]
     },
     "metadata": {},
     "output_type": "display_data"
    }
   ],
   "source": [
    "cos(4)"
   ]
  },
  {
   "cell_type": "code",
   "execution_count": 18,
   "metadata": {},
   "outputs": [],
   "source": [
    "rad = seq(0,2*pi,length.out=60)"
   ]
  },
  {
   "cell_type": "code",
   "execution_count": 19,
   "metadata": {},
   "outputs": [],
   "source": [
    "sin = sin(rad)"
   ]
  },
  {
   "cell_type": "code",
   "execution_count": 24,
   "metadata": {},
   "outputs": [
    {
     "data": {
      "image/png": "[encoded data removed]",
      "text/plain": [
       "plot without title"
      ]
     },
     "metadata": {},
     "output_type": "display_data"
    }
   ],
   "source": [
    "plot(rad,sin)"
   ]
  },
  {
   "cell_type": "code",
   "execution_count": 48,
   "metadata": {},
   "outputs": [
    {
     "data": {
      "text/html": [
       "<ol class=list-inline>\n",
       "\t<li>3</li>\n",
       "\t<li>7</li>\n",
       "\t<li>5</li>\n",
       "\t<li>1</li>\n",
       "\t<li>10</li>\n",
       "\t<li>8</li>\n",
       "\t<li>4</li>\n",
       "\t<li>6</li>\n",
       "\t<li>9</li>\n",
       "\t<li>2</li>\n",
       "</ol>\n"
      ],
      "text/latex": [
       "\\begin{enumerate*}\n",
       "\\item 3\n",
       "\\item 7\n",
       "\\item 5\n",
       "\\item 1\n",
       "\\item 10\n",
       "\\item 8\n",
       "\\item 4\n",
       "\\item 6\n",
       "\\item 9\n",
       "\\item 2\n",
       "\\end{enumerate*}\n"
      ],
      "text/markdown": [
       "1. 3\n",
       "2. 7\n",
       "3. 5\n",
       "4. 1\n",
       "5. 10\n",
       "6. 8\n",
       "7. 4\n",
       "8. 6\n",
       "9. 9\n",
       "10. 2\n",
       "\n",
       "\n"
      ],
      "text/plain": [
       " [1]  3  7  5  1 10  8  4  6  9  2"
      ]
     },
     "metadata": {},
     "output_type": "display_data"
    }
   ],
   "source": [
    "sample(10)"
   ]
  },
  {
   "cell_type": "code",
   "execution_count": 49,
   "metadata": {},
   "outputs": [
    {
     "data": {
      "text/html": [
       "<ol class=list-inline>\n",
       "\t<li>21</li>\n",
       "\t<li>29</li>\n",
       "\t<li>22</li>\n",
       "\t<li>27</li>\n",
       "\t<li>20</li>\n",
       "</ol>\n"
      ],
      "text/latex": [
       "\\begin{enumerate*}\n",
       "\\item 21\n",
       "\\item 29\n",
       "\\item 22\n",
       "\\item 27\n",
       "\\item 20\n",
       "\\end{enumerate*}\n"
      ],
      "text/markdown": [
       "1. 21\n",
       "2. 29\n",
       "3. 22\n",
       "4. 27\n",
       "5. 20\n",
       "\n",
       "\n"
      ],
      "text/plain": [
       "[1] 21 29 22 27 20"
      ]
     },
     "metadata": {},
     "output_type": "display_data"
    }
   ],
   "source": [
    "sample(20:30,5)"
   ]
  },
  {
   "cell_type": "code",
   "execution_count": 51,
   "metadata": {},
   "outputs": [
    {
     "data": {
      "text/html": [
       "<ol class=list-inline>\n",
       "\t<li>15</li>\n",
       "\t<li>20</li>\n",
       "\t<li>15</li>\n",
       "\t<li>19</li>\n",
       "\t<li>11</li>\n",
       "\t<li>10</li>\n",
       "\t<li>10</li>\n",
       "\t<li>18</li>\n",
       "\t<li>15</li>\n",
       "\t<li>10</li>\n",
       "\t<li>11</li>\n",
       "\t<li>18</li>\n",
       "\t<li>11</li>\n",
       "\t<li>12</li>\n",
       "\t<li>13</li>\n",
       "\t<li>15</li>\n",
       "\t<li>15</li>\n",
       "\t<li>20</li>\n",
       "\t<li>11</li>\n",
       "\t<li>12</li>\n",
       "\t<li>16</li>\n",
       "\t<li>19</li>\n",
       "\t<li>13</li>\n",
       "\t<li>18</li>\n",
       "\t<li>10</li>\n",
       "\t<li>19</li>\n",
       "\t<li>18</li>\n",
       "\t<li>17</li>\n",
       "\t<li>13</li>\n",
       "\t<li>17</li>\n",
       "\t<li>13</li>\n",
       "\t<li>14</li>\n",
       "\t<li>18</li>\n",
       "\t<li>13</li>\n",
       "\t<li>12</li>\n",
       "\t<li>19</li>\n",
       "\t<li>14</li>\n",
       "\t<li>17</li>\n",
       "\t<li>11</li>\n",
       "\t<li>14</li>\n",
       "\t<li>17</li>\n",
       "\t<li>12</li>\n",
       "\t<li>13</li>\n",
       "\t<li>14</li>\n",
       "\t<li>17</li>\n",
       "\t<li>18</li>\n",
       "\t<li>18</li>\n",
       "\t<li>20</li>\n",
       "\t<li>15</li>\n",
       "\t<li>18</li>\n",
       "</ol>\n"
      ],
      "text/latex": [
       "\\begin{enumerate*}\n",
       "\\item 15\n",
       "\\item 20\n",
       "\\item 15\n",
       "\\item 19\n",
       "\\item 11\n",
       "\\item 10\n",
       "\\item 10\n",
       "\\item 18\n",
       "\\item 15\n",
       "\\item 10\n",
       "\\item 11\n",
       "\\item 18\n",
       "\\item 11\n",
       "\\item 12\n",
       "\\item 13\n",
       "\\item 15\n",
       "\\item 15\n",
       "\\item 20\n",
       "\\item 11\n",
       "\\item 12\n",
       "\\item 16\n",
       "\\item 19\n",
       "\\item 13\n",
       "\\item 18\n",
       "\\item 10\n",
       "\\item 19\n",
       "\\item 18\n",
       "\\item 17\n",
       "\\item 13\n",
       "\\item 17\n",
       "\\item 13\n",
       "\\item 14\n",
       "\\item 18\n",
       "\\item 13\n",
       "\\item 12\n",
       "\\item 19\n",
       "\\item 14\n",
       "\\item 17\n",
       "\\item 11\n",
       "\\item 14\n",
       "\\item 17\n",
       "\\item 12\n",
       "\\item 13\n",
       "\\item 14\n",
       "\\item 17\n",
       "\\item 18\n",
       "\\item 18\n",
       "\\item 20\n",
       "\\item 15\n",
       "\\item 18\n",
       "\\end{enumerate*}\n"
      ],
      "text/markdown": [
       "1. 15\n",
       "2. 20\n",
       "3. 15\n",
       "4. 19\n",
       "5. 11\n",
       "6. 10\n",
       "7. 10\n",
       "8. 18\n",
       "9. 15\n",
       "10. 10\n",
       "11. 11\n",
       "12. 18\n",
       "13. 11\n",
       "14. 12\n",
       "15. 13\n",
       "16. 15\n",
       "17. 15\n",
       "18. 20\n",
       "19. 11\n",
       "20. 12\n",
       "21. 16\n",
       "22. 19\n",
       "23. 13\n",
       "24. 18\n",
       "25. 10\n",
       "26. 19\n",
       "27. 18\n",
       "28. 17\n",
       "29. 13\n",
       "30. 17\n",
       "31. 13\n",
       "32. 14\n",
       "33. 18\n",
       "34. 13\n",
       "35. 12\n",
       "36. 19\n",
       "37. 14\n",
       "38. 17\n",
       "39. 11\n",
       "40. 14\n",
       "41. 17\n",
       "42. 12\n",
       "43. 13\n",
       "44. 14\n",
       "45. 17\n",
       "46. 18\n",
       "47. 18\n",
       "48. 20\n",
       "49. 15\n",
       "50. 18\n",
       "\n",
       "\n"
      ],
      "text/plain": [
       " [1] 15 20 15 19 11 10 10 18 15 10 11 18 11 12 13 15 15 20 11 12 16 19 13 18 10\n",
       "[26] 19 18 17 13 17 13 14 18 13 12 19 14 17 11 14 17 12 13 14 17 18 18 20 15 18"
      ]
     },
     "metadata": {},
     "output_type": "display_data"
    }
   ],
   "source": [
    "sample(10:20,50,replace=T)"
   ]
  },
  {
   "cell_type": "code",
   "execution_count": 53,
   "metadata": {},
   "outputs": [],
   "source": [
    "x = sample(20:50,1000,replace = T)"
   ]
  },
  {
   "cell_type": "code",
   "execution_count": 54,
   "metadata": {},
   "outputs": [
    {
     "data": {
      "image/png": "[encoded data removed]",
      "text/plain": [
       "Plot with title \"Histogram of x\""
      ]
     },
     "metadata": {},
     "output_type": "display_data"
    }
   ],
   "source": [
    "hist(x)"
   ]
  },
  {
   "cell_type": "code",
   "execution_count": 45,
   "metadata": {},
   "outputs": [],
   "source": [
    "y = rnorm(n=1000,mean=55.5,sd=10.5)"
   ]
  },
  {
   "cell_type": "code",
   "execution_count": 47,
   "metadata": {},
   "outputs": [
    {
     "data": {
      "image/png": "[encoded data removed]",
      "text/plain": [
       "Plot with title \"Histogram of y\""
      ]
     },
     "metadata": {},
     "output_type": "display_data"
    }
   ],
   "source": [
    "hist(y,30)"
   ]
  },
  {
   "cell_type": "code",
   "execution_count": 58,
   "metadata": {},
   "outputs": [],
   "source": [
    "### seq last tareeka"
   ]
  },
  {
   "cell_type": "code",
   "execution_count": 43,
   "metadata": {},
   "outputs": [],
   "source": [
    "x = seq(from=2,by=2,length=50)"
   ]
  },
  {
   "cell_type": "code",
   "execution_count": 44,
   "metadata": {},
   "outputs": [
    {
     "data": {
      "text/html": [
       "<ol class=list-inline>\n",
       "\t<li>2</li>\n",
       "\t<li>4</li>\n",
       "\t<li>6</li>\n",
       "\t<li>8</li>\n",
       "\t<li>10</li>\n",
       "\t<li>12</li>\n",
       "\t<li>14</li>\n",
       "\t<li>16</li>\n",
       "\t<li>18</li>\n",
       "\t<li>20</li>\n",
       "\t<li>22</li>\n",
       "\t<li>24</li>\n",
       "\t<li>26</li>\n",
       "\t<li>28</li>\n",
       "\t<li>30</li>\n",
       "\t<li>32</li>\n",
       "\t<li>34</li>\n",
       "\t<li>36</li>\n",
       "\t<li>38</li>\n",
       "\t<li>40</li>\n",
       "\t<li>42</li>\n",
       "\t<li>44</li>\n",
       "\t<li>46</li>\n",
       "\t<li>48</li>\n",
       "\t<li>50</li>\n",
       "\t<li>52</li>\n",
       "\t<li>54</li>\n",
       "\t<li>56</li>\n",
       "\t<li>58</li>\n",
       "\t<li>60</li>\n",
       "\t<li>62</li>\n",
       "\t<li>64</li>\n",
       "\t<li>66</li>\n",
       "\t<li>68</li>\n",
       "\t<li>70</li>\n",
       "\t<li>72</li>\n",
       "\t<li>74</li>\n",
       "\t<li>76</li>\n",
       "\t<li>78</li>\n",
       "\t<li>80</li>\n",
       "\t<li>82</li>\n",
       "\t<li>84</li>\n",
       "\t<li>86</li>\n",
       "\t<li>88</li>\n",
       "\t<li>90</li>\n",
       "\t<li>92</li>\n",
       "\t<li>94</li>\n",
       "\t<li>96</li>\n",
       "\t<li>98</li>\n",
       "\t<li>100</li>\n",
       "</ol>\n"
      ],
      "text/latex": [
       "\\begin{enumerate*}\n",
       "\\item 2\n",
       "\\item 4\n",
       "\\item 6\n",
       "\\item 8\n",
       "\\item 10\n",
       "\\item 12\n",
       "\\item 14\n",
       "\\item 16\n",
       "\\item 18\n",
       "\\item 20\n",
       "\\item 22\n",
       "\\item 24\n",
       "\\item 26\n",
       "\\item 28\n",
       "\\item 30\n",
       "\\item 32\n",
       "\\item 34\n",
       "\\item 36\n",
       "\\item 38\n",
       "\\item 40\n",
       "\\item 42\n",
       "\\item 44\n",
       "\\item 46\n",
       "\\item 48\n",
       "\\item 50\n",
       "\\item 52\n",
       "\\item 54\n",
       "\\item 56\n",
       "\\item 58\n",
       "\\item 60\n",
       "\\item 62\n",
       "\\item 64\n",
       "\\item 66\n",
       "\\item 68\n",
       "\\item 70\n",
       "\\item 72\n",
       "\\item 74\n",
       "\\item 76\n",
       "\\item 78\n",
       "\\item 80\n",
       "\\item 82\n",
       "\\item 84\n",
       "\\item 86\n",
       "\\item 88\n",
       "\\item 90\n",
       "\\item 92\n",
       "\\item 94\n",
       "\\item 96\n",
       "\\item 98\n",
       "\\item 100\n",
       "\\end{enumerate*}\n"
      ],
      "text/markdown": [
       "1. 2\n",
       "2. 4\n",
       "3. 6\n",
       "4. 8\n",
       "5. 10\n",
       "6. 12\n",
       "7. 14\n",
       "8. 16\n",
       "9. 18\n",
       "10. 20\n",
       "11. 22\n",
       "12. 24\n",
       "13. 26\n",
       "14. 28\n",
       "15. 30\n",
       "16. 32\n",
       "17. 34\n",
       "18. 36\n",
       "19. 38\n",
       "20. 40\n",
       "21. 42\n",
       "22. 44\n",
       "23. 46\n",
       "24. 48\n",
       "25. 50\n",
       "26. 52\n",
       "27. 54\n",
       "28. 56\n",
       "29. 58\n",
       "30. 60\n",
       "31. 62\n",
       "32. 64\n",
       "33. 66\n",
       "34. 68\n",
       "35. 70\n",
       "36. 72\n",
       "37. 74\n",
       "38. 76\n",
       "39. 78\n",
       "40. 80\n",
       "41. 82\n",
       "42. 84\n",
       "43. 86\n",
       "44. 88\n",
       "45. 90\n",
       "46. 92\n",
       "47. 94\n",
       "48. 96\n",
       "49. 98\n",
       "50. 100\n",
       "\n",
       "\n"
      ],
      "text/plain": [
       " [1]   2   4   6   8  10  12  14  16  18  20  22  24  26  28  30  32  34  36  38\n",
       "[20]  40  42  44  46  48  50  52  54  56  58  60  62  64  66  68  70  72  74  76\n",
       "[39]  78  80  82  84  86  88  90  92  94  96  98 100"
      ]
     },
     "metadata": {},
     "output_type": "display_data"
    }
   ],
   "source": [
    "x"
   ]
  },
  {
   "cell_type": "code",
   "execution_count": 61,
   "metadata": {},
   "outputs": [],
   "source": [
    "d <- c(\"a\",\"b\",\"c\",\"d\")"
   ]
  },
  {
   "cell_type": "code",
   "execution_count": 62,
   "metadata": {},
   "outputs": [
    {
     "data": {
      "text/html": [
       "<ol class=list-inline>\n",
       "\t<li>'a'</li>\n",
       "\t<li>'b'</li>\n",
       "\t<li>'c'</li>\n",
       "\t<li>'d'</li>\n",
       "</ol>\n"
      ],
      "text/latex": [
       "\\begin{enumerate*}\n",
       "\\item 'a'\n",
       "\\item 'b'\n",
       "\\item 'c'\n",
       "\\item 'd'\n",
       "\\end{enumerate*}\n"
      ],
      "text/markdown": [
       "1. 'a'\n",
       "2. 'b'\n",
       "3. 'c'\n",
       "4. 'd'\n",
       "\n",
       "\n"
      ],
      "text/plain": [
       "[1] \"a\" \"b\" \"c\" \"d\""
      ]
     },
     "metadata": {},
     "output_type": "display_data"
    }
   ],
   "source": [
    "d"
   ]
  },
  {
   "cell_type": "code",
   "execution_count": 63,
   "metadata": {},
   "outputs": [
    {
     "data": {
      "text/html": [
       "<ol class=list-inline>\n",
       "\t<li>'a'</li>\n",
       "\t<li>'b'</li>\n",
       "\t<li>'c'</li>\n",
       "\t<li>'d'</li>\n",
       "\t<li>'a'</li>\n",
       "\t<li>'b'</li>\n",
       "\t<li>'c'</li>\n",
       "\t<li>'d'</li>\n",
       "\t<li>'a'</li>\n",
       "\t<li>'b'</li>\n",
       "\t<li>'c'</li>\n",
       "\t<li>'d'</li>\n",
       "</ol>\n"
      ],
      "text/latex": [
       "\\begin{enumerate*}\n",
       "\\item 'a'\n",
       "\\item 'b'\n",
       "\\item 'c'\n",
       "\\item 'd'\n",
       "\\item 'a'\n",
       "\\item 'b'\n",
       "\\item 'c'\n",
       "\\item 'd'\n",
       "\\item 'a'\n",
       "\\item 'b'\n",
       "\\item 'c'\n",
       "\\item 'd'\n",
       "\\end{enumerate*}\n"
      ],
      "text/markdown": [
       "1. 'a'\n",
       "2. 'b'\n",
       "3. 'c'\n",
       "4. 'd'\n",
       "5. 'a'\n",
       "6. 'b'\n",
       "7. 'c'\n",
       "8. 'd'\n",
       "9. 'a'\n",
       "10. 'b'\n",
       "11. 'c'\n",
       "12. 'd'\n",
       "\n",
       "\n"
      ],
      "text/plain": [
       " [1] \"a\" \"b\" \"c\" \"d\" \"a\" \"b\" \"c\" \"d\" \"a\" \"b\" \"c\" \"d\""
      ]
     },
     "metadata": {},
     "output_type": "display_data"
    }
   ],
   "source": [
    "rep(d,times=3)"
   ]
  },
  {
   "cell_type": "code",
   "execution_count": 64,
   "metadata": {},
   "outputs": [
    {
     "data": {
      "text/html": [
       "<ol class=list-inline>\n",
       "\t<li>'a'</li>\n",
       "\t<li>'a'</li>\n",
       "\t<li>'a'</li>\n",
       "\t<li>'b'</li>\n",
       "\t<li>'b'</li>\n",
       "\t<li>'b'</li>\n",
       "\t<li>'c'</li>\n",
       "\t<li>'c'</li>\n",
       "\t<li>'c'</li>\n",
       "\t<li>'d'</li>\n",
       "\t<li>'d'</li>\n",
       "\t<li>'d'</li>\n",
       "</ol>\n"
      ],
      "text/latex": [
       "\\begin{enumerate*}\n",
       "\\item 'a'\n",
       "\\item 'a'\n",
       "\\item 'a'\n",
       "\\item 'b'\n",
       "\\item 'b'\n",
       "\\item 'b'\n",
       "\\item 'c'\n",
       "\\item 'c'\n",
       "\\item 'c'\n",
       "\\item 'd'\n",
       "\\item 'd'\n",
       "\\item 'd'\n",
       "\\end{enumerate*}\n"
      ],
      "text/markdown": [
       "1. 'a'\n",
       "2. 'a'\n",
       "3. 'a'\n",
       "4. 'b'\n",
       "5. 'b'\n",
       "6. 'b'\n",
       "7. 'c'\n",
       "8. 'c'\n",
       "9. 'c'\n",
       "10. 'd'\n",
       "11. 'd'\n",
       "12. 'd'\n",
       "\n",
       "\n"
      ],
      "text/plain": [
       " [1] \"a\" \"a\" \"a\" \"b\" \"b\" \"b\" \"c\" \"c\" \"c\" \"d\" \"d\" \"d\""
      ]
     },
     "metadata": {},
     "output_type": "display_data"
    }
   ],
   "source": [
    "rep(d,each=3)"
   ]
  },
  {
   "cell_type": "code",
   "execution_count": 65,
   "metadata": {},
   "outputs": [
    {
     "data": {
      "text/html": [
       "<ol class=list-inline>\n",
       "\t<li>'a'</li>\n",
       "\t<li>'a'</li>\n",
       "\t<li>'a'</li>\n",
       "\t<li>'b'</li>\n",
       "\t<li>'b'</li>\n",
       "\t<li>'c'</li>\n",
       "\t<li>'c'</li>\n",
       "\t<li>'c'</li>\n",
       "\t<li>'c'</li>\n",
       "\t<li>'c'</li>\n",
       "\t<li>'d'</li>\n",
       "</ol>\n"
      ],
      "text/latex": [
       "\\begin{enumerate*}\n",
       "\\item 'a'\n",
       "\\item 'a'\n",
       "\\item 'a'\n",
       "\\item 'b'\n",
       "\\item 'b'\n",
       "\\item 'c'\n",
       "\\item 'c'\n",
       "\\item 'c'\n",
       "\\item 'c'\n",
       "\\item 'c'\n",
       "\\item 'd'\n",
       "\\end{enumerate*}\n"
      ],
      "text/markdown": [
       "1. 'a'\n",
       "2. 'a'\n",
       "3. 'a'\n",
       "4. 'b'\n",
       "5. 'b'\n",
       "6. 'c'\n",
       "7. 'c'\n",
       "8. 'c'\n",
       "9. 'c'\n",
       "10. 'c'\n",
       "11. 'd'\n",
       "\n",
       "\n"
      ],
      "text/plain": [
       " [1] \"a\" \"a\" \"a\" \"b\" \"b\" \"c\" \"c\" \"c\" \"c\" \"c\" \"d\""
      ]
     },
     "metadata": {},
     "output_type": "display_data"
    }
   ],
   "source": [
    "rep(d,c(3,2,5,1))"
   ]
  },
  {
   "cell_type": "code",
   "execution_count": 66,
   "metadata": {},
   "outputs": [],
   "source": [
    "x = sample(20:50,10)"
   ]
  },
  {
   "cell_type": "code",
   "execution_count": 67,
   "metadata": {},
   "outputs": [
    {
     "data": {
      "text/html": [
       "<ol class=list-inline>\n",
       "\t<li>49</li>\n",
       "\t<li>38</li>\n",
       "\t<li>35</li>\n",
       "\t<li>31</li>\n",
       "\t<li>32</li>\n",
       "\t<li>50</li>\n",
       "\t<li>27</li>\n",
       "\t<li>47</li>\n",
       "\t<li>21</li>\n",
       "\t<li>37</li>\n",
       "</ol>\n"
      ],
      "text/latex": [
       "\\begin{enumerate*}\n",
       "\\item 49\n",
       "\\item 38\n",
       "\\item 35\n",
       "\\item 31\n",
       "\\item 32\n",
       "\\item 50\n",
       "\\item 27\n",
       "\\item 47\n",
       "\\item 21\n",
       "\\item 37\n",
       "\\end{enumerate*}\n"
      ],
      "text/markdown": [
       "1. 49\n",
       "2. 38\n",
       "3. 35\n",
       "4. 31\n",
       "5. 32\n",
       "6. 50\n",
       "7. 27\n",
       "8. 47\n",
       "9. 21\n",
       "10. 37\n",
       "\n",
       "\n"
      ],
      "text/plain": [
       " [1] 49 38 35 31 32 50 27 47 21 37"
      ]
     },
     "metadata": {},
     "output_type": "display_data"
    }
   ],
   "source": [
    "x"
   ]
  },
  {
   "cell_type": "code",
   "execution_count": 68,
   "metadata": {},
   "outputs": [
    {
     "data": {
      "text/html": [
       "50"
      ],
      "text/latex": [
       "50"
      ],
      "text/markdown": [
       "50"
      ],
      "text/plain": [
       "[1] 50"
      ]
     },
     "metadata": {},
     "output_type": "display_data"
    }
   ],
   "source": [
    "x[6]"
   ]
  },
  {
   "cell_type": "code",
   "execution_count": 71,
   "metadata": {},
   "outputs": [
    {
     "data": {
      "text/html": [
       "<ol class=list-inline>\n",
       "\t<li>49</li>\n",
       "\t<li>38</li>\n",
       "\t<li>35</li>\n",
       "\t<li>31</li>\n",
       "\t<li>32</li>\n",
       "\t<li>27</li>\n",
       "\t<li>47</li>\n",
       "\t<li>21</li>\n",
       "\t<li>37</li>\n",
       "</ol>\n"
      ],
      "text/latex": [
       "\\begin{enumerate*}\n",
       "\\item 49\n",
       "\\item 38\n",
       "\\item 35\n",
       "\\item 31\n",
       "\\item 32\n",
       "\\item 27\n",
       "\\item 47\n",
       "\\item 21\n",
       "\\item 37\n",
       "\\end{enumerate*}\n"
      ],
      "text/markdown": [
       "1. 49\n",
       "2. 38\n",
       "3. 35\n",
       "4. 31\n",
       "5. 32\n",
       "6. 27\n",
       "7. 47\n",
       "8. 21\n",
       "9. 37\n",
       "\n",
       "\n"
      ],
      "text/plain": [
       "[1] 49 38 35 31 32 27 47 21 37"
      ]
     },
     "metadata": {},
     "output_type": "display_data"
    }
   ],
   "source": [
    "x[-6]"
   ]
  },
  {
   "cell_type": "code",
   "execution_count": 72,
   "metadata": {},
   "outputs": [
    {
     "data": {
      "text/html": [
       "<ol class=list-inline>\n",
       "\t<li>49</li>\n",
       "\t<li>38</li>\n",
       "\t<li>35</li>\n",
       "\t<li>31</li>\n",
       "\t<li>32</li>\n",
       "</ol>\n"
      ],
      "text/latex": [
       "\\begin{enumerate*}\n",
       "\\item 49\n",
       "\\item 38\n",
       "\\item 35\n",
       "\\item 31\n",
       "\\item 32\n",
       "\\end{enumerate*}\n"
      ],
      "text/markdown": [
       "1. 49\n",
       "2. 38\n",
       "3. 35\n",
       "4. 31\n",
       "5. 32\n",
       "\n",
       "\n"
      ],
      "text/plain": [
       "[1] 49 38 35 31 32"
      ]
     },
     "metadata": {},
     "output_type": "display_data"
    }
   ],
   "source": [
    "x[1:5]"
   ]
  },
  {
   "cell_type": "code",
   "execution_count": 73,
   "metadata": {},
   "outputs": [
    {
     "data": {
      "text/html": [
       "<ol class=list-inline>\n",
       "\t<li>49</li>\n",
       "\t<li>35</li>\n",
       "\t<li>32</li>\n",
       "\t<li>50</li>\n",
       "\t<li>27</li>\n",
       "</ol>\n"
      ],
      "text/latex": [
       "\\begin{enumerate*}\n",
       "\\item 49\n",
       "\\item 35\n",
       "\\item 32\n",
       "\\item 50\n",
       "\\item 27\n",
       "\\end{enumerate*}\n"
      ],
      "text/markdown": [
       "1. 49\n",
       "2. 35\n",
       "3. 32\n",
       "4. 50\n",
       "5. 27\n",
       "\n",
       "\n"
      ],
      "text/plain": [
       "[1] 49 35 32 50 27"
      ]
     },
     "metadata": {},
     "output_type": "display_data"
    }
   ],
   "source": [
    "x[c(1,3,5,6,7)]"
   ]
  },
  {
   "cell_type": "code",
   "execution_count": 75,
   "metadata": {},
   "outputs": [],
   "source": [
    "x = sample(10:20,100,replace=TRUE)"
   ]
  },
  {
   "cell_type": "code",
   "execution_count": 76,
   "metadata": {},
   "outputs": [
    {
     "data": {
      "text/html": [
       "<ol class=list-inline>\n",
       "\t<li>11</li>\n",
       "\t<li>13</li>\n",
       "\t<li>10</li>\n",
       "\t<li>19</li>\n",
       "\t<li>19</li>\n",
       "\t<li>14</li>\n",
       "\t<li>15</li>\n",
       "\t<li>13</li>\n",
       "\t<li>19</li>\n",
       "\t<li>12</li>\n",
       "\t<li>20</li>\n",
       "\t<li>10</li>\n",
       "\t<li>20</li>\n",
       "\t<li>15</li>\n",
       "\t<li>18</li>\n",
       "\t<li>12</li>\n",
       "\t<li>20</li>\n",
       "\t<li>12</li>\n",
       "\t<li>18</li>\n",
       "\t<li>20</li>\n",
       "\t<li>20</li>\n",
       "\t<li>10</li>\n",
       "\t<li>13</li>\n",
       "\t<li>19</li>\n",
       "\t<li>17</li>\n",
       "\t<li>14</li>\n",
       "\t<li>16</li>\n",
       "\t<li>16</li>\n",
       "\t<li>17</li>\n",
       "\t<li>15</li>\n",
       "\t<li>15</li>\n",
       "\t<li>19</li>\n",
       "\t<li>18</li>\n",
       "\t<li>13</li>\n",
       "\t<li>17</li>\n",
       "\t<li>19</li>\n",
       "\t<li>13</li>\n",
       "\t<li>10</li>\n",
       "\t<li>13</li>\n",
       "\t<li>11</li>\n",
       "\t<li>15</li>\n",
       "\t<li>10</li>\n",
       "\t<li>13</li>\n",
       "\t<li>14</li>\n",
       "\t<li>20</li>\n",
       "\t<li>18</li>\n",
       "\t<li>19</li>\n",
       "\t<li>13</li>\n",
       "\t<li>16</li>\n",
       "\t<li>10</li>\n",
       "\t<li>17</li>\n",
       "\t<li>15</li>\n",
       "\t<li>13</li>\n",
       "\t<li>19</li>\n",
       "\t<li>14</li>\n",
       "\t<li>11</li>\n",
       "\t<li>14</li>\n",
       "\t<li>11</li>\n",
       "\t<li>20</li>\n",
       "\t<li>11</li>\n",
       "\t<li>14</li>\n",
       "\t<li>18</li>\n",
       "\t<li>14</li>\n",
       "\t<li>11</li>\n",
       "\t<li>12</li>\n",
       "\t<li>11</li>\n",
       "\t<li>11</li>\n",
       "\t<li>15</li>\n",
       "\t<li>20</li>\n",
       "\t<li>10</li>\n",
       "\t<li>10</li>\n",
       "\t<li>19</li>\n",
       "\t<li>10</li>\n",
       "\t<li>19</li>\n",
       "\t<li>20</li>\n",
       "\t<li>20</li>\n",
       "\t<li>10</li>\n",
       "\t<li>18</li>\n",
       "\t<li>13</li>\n",
       "\t<li>13</li>\n",
       "\t<li>14</li>\n",
       "\t<li>10</li>\n",
       "\t<li>19</li>\n",
       "\t<li>12</li>\n",
       "\t<li>17</li>\n",
       "\t<li>20</li>\n",
       "\t<li>17</li>\n",
       "\t<li>20</li>\n",
       "\t<li>10</li>\n",
       "\t<li>15</li>\n",
       "\t<li>16</li>\n",
       "\t<li>18</li>\n",
       "\t<li>17</li>\n",
       "\t<li>12</li>\n",
       "\t<li>19</li>\n",
       "\t<li>18</li>\n",
       "\t<li>14</li>\n",
       "\t<li>19</li>\n",
       "\t<li>15</li>\n",
       "\t<li>17</li>\n",
       "</ol>\n"
      ],
      "text/latex": [
       "\\begin{enumerate*}\n",
       "\\item 11\n",
       "\\item 13\n",
       "\\item 10\n",
       "\\item 19\n",
       "\\item 19\n",
       "\\item 14\n",
       "\\item 15\n",
       "\\item 13\n",
       "\\item 19\n",
       "\\item 12\n",
       "\\item 20\n",
       "\\item 10\n",
       "\\item 20\n",
       "\\item 15\n",
       "\\item 18\n",
       "\\item 12\n",
       "\\item 20\n",
       "\\item 12\n",
       "\\item 18\n",
       "\\item 20\n",
       "\\item 20\n",
       "\\item 10\n",
       "\\item 13\n",
       "\\item 19\n",
       "\\item 17\n",
       "\\item 14\n",
       "\\item 16\n",
       "\\item 16\n",
       "\\item 17\n",
       "\\item 15\n",
       "\\item 15\n",
       "\\item 19\n",
       "\\item 18\n",
       "\\item 13\n",
       "\\item 17\n",
       "\\item 19\n",
       "\\item 13\n",
       "\\item 10\n",
       "\\item 13\n",
       "\\item 11\n",
       "\\item 15\n",
       "\\item 10\n",
       "\\item 13\n",
       "\\item 14\n",
       "\\item 20\n",
       "\\item 18\n",
       "\\item 19\n",
       "\\item 13\n",
       "\\item 16\n",
       "\\item 10\n",
       "\\item 17\n",
       "\\item 15\n",
       "\\item 13\n",
       "\\item 19\n",
       "\\item 14\n",
       "\\item 11\n",
       "\\item 14\n",
       "\\item 11\n",
       "\\item 20\n",
       "\\item 11\n",
       "\\item 14\n",
       "\\item 18\n",
       "\\item 14\n",
       "\\item 11\n",
       "\\item 12\n",
       "\\item 11\n",
       "\\item 11\n",
       "\\item 15\n",
       "\\item 20\n",
       "\\item 10\n",
       "\\item 10\n",
       "\\item 19\n",
       "\\item 10\n",
       "\\item 19\n",
       "\\item 20\n",
       "\\item 20\n",
       "\\item 10\n",
       "\\item 18\n",
       "\\item 13\n",
       "\\item 13\n",
       "\\item 14\n",
       "\\item 10\n",
       "\\item 19\n",
       "\\item 12\n",
       "\\item 17\n",
       "\\item 20\n",
       "\\item 17\n",
       "\\item 20\n",
       "\\item 10\n",
       "\\item 15\n",
       "\\item 16\n",
       "\\item 18\n",
       "\\item 17\n",
       "\\item 12\n",
       "\\item 19\n",
       "\\item 18\n",
       "\\item 14\n",
       "\\item 19\n",
       "\\item 15\n",
       "\\item 17\n",
       "\\end{enumerate*}\n"
      ],
      "text/markdown": [
       "1. 11\n",
       "2. 13\n",
       "3. 10\n",
       "4. 19\n",
       "5. 19\n",
       "6. 14\n",
       "7. 15\n",
       "8. 13\n",
       "9. 19\n",
       "10. 12\n",
       "11. 20\n",
       "12. 10\n",
       "13. 20\n",
       "14. 15\n",
       "15. 18\n",
       "16. 12\n",
       "17. 20\n",
       "18. 12\n",
       "19. 18\n",
       "20. 20\n",
       "21. 20\n",
       "22. 10\n",
       "23. 13\n",
       "24. 19\n",
       "25. 17\n",
       "26. 14\n",
       "27. 16\n",
       "28. 16\n",
       "29. 17\n",
       "30. 15\n",
       "31. 15\n",
       "32. 19\n",
       "33. 18\n",
       "34. 13\n",
       "35. 17\n",
       "36. 19\n",
       "37. 13\n",
       "38. 10\n",
       "39. 13\n",
       "40. 11\n",
       "41. 15\n",
       "42. 10\n",
       "43. 13\n",
       "44. 14\n",
       "45. 20\n",
       "46. 18\n",
       "47. 19\n",
       "48. 13\n",
       "49. 16\n",
       "50. 10\n",
       "51. 17\n",
       "52. 15\n",
       "53. 13\n",
       "54. 19\n",
       "55. 14\n",
       "56. 11\n",
       "57. 14\n",
       "58. 11\n",
       "59. 20\n",
       "60. 11\n",
       "61. 14\n",
       "62. 18\n",
       "63. 14\n",
       "64. 11\n",
       "65. 12\n",
       "66. 11\n",
       "67. 11\n",
       "68. 15\n",
       "69. 20\n",
       "70. 10\n",
       "71. 10\n",
       "72. 19\n",
       "73. 10\n",
       "74. 19\n",
       "75. 20\n",
       "76. 20\n",
       "77. 10\n",
       "78. 18\n",
       "79. 13\n",
       "80. 13\n",
       "81. 14\n",
       "82. 10\n",
       "83. 19\n",
       "84. 12\n",
       "85. 17\n",
       "86. 20\n",
       "87. 17\n",
       "88. 20\n",
       "89. 10\n",
       "90. 15\n",
       "91. 16\n",
       "92. 18\n",
       "93. 17\n",
       "94. 12\n",
       "95. 19\n",
       "96. 18\n",
       "97. 14\n",
       "98. 19\n",
       "99. 15\n",
       "100. 17\n",
       "\n",
       "\n"
      ],
      "text/plain": [
       "  [1] 11 13 10 19 19 14 15 13 19 12 20 10 20 15 18 12 20 12 18 20 20 10 13 19 17\n",
       " [26] 14 16 16 17 15 15 19 18 13 17 19 13 10 13 11 15 10 13 14 20 18 19 13 16 10\n",
       " [51] 17 15 13 19 14 11 14 11 20 11 14 18 14 11 12 11 11 15 20 10 10 19 10 19 20\n",
       " [76] 20 10 18 13 13 14 10 19 12 17 20 17 20 10 15 16 18 17 12 19 18 14 19 15 17"
      ]
     },
     "metadata": {},
     "output_type": "display_data"
    }
   ],
   "source": [
    "x"
   ]
  },
  {
   "cell_type": "code",
   "execution_count": 78,
   "metadata": {},
   "outputs": [],
   "source": [
    "dim(x) <- c(20,5)"
   ]
  },
  {
   "cell_type": "code",
   "execution_count": 79,
   "metadata": {},
   "outputs": [
    {
     "data": {
      "text/html": [
       "<table>\n",
       "<tbody>\n",
       "\t<tr><td>11</td><td>20</td><td>15</td><td>14</td><td>14</td></tr>\n",
       "\t<tr><td>13</td><td>10</td><td>10</td><td>18</td><td>10</td></tr>\n",
       "\t<tr><td>10</td><td>13</td><td>13</td><td>14</td><td>19</td></tr>\n",
       "\t<tr><td>19</td><td>19</td><td>14</td><td>11</td><td>12</td></tr>\n",
       "\t<tr><td>19</td><td>17</td><td>20</td><td>12</td><td>17</td></tr>\n",
       "\t<tr><td>14</td><td>14</td><td>18</td><td>11</td><td>20</td></tr>\n",
       "\t<tr><td>15</td><td>16</td><td>19</td><td>11</td><td>17</td></tr>\n",
       "\t<tr><td>13</td><td>16</td><td>13</td><td>15</td><td>20</td></tr>\n",
       "\t<tr><td>19</td><td>17</td><td>16</td><td>20</td><td>10</td></tr>\n",
       "\t<tr><td>12</td><td>15</td><td>10</td><td>10</td><td>15</td></tr>\n",
       "\t<tr><td>20</td><td>15</td><td>17</td><td>10</td><td>16</td></tr>\n",
       "\t<tr><td>10</td><td>19</td><td>15</td><td>19</td><td>18</td></tr>\n",
       "\t<tr><td>20</td><td>18</td><td>13</td><td>10</td><td>17</td></tr>\n",
       "\t<tr><td>15</td><td>13</td><td>19</td><td>19</td><td>12</td></tr>\n",
       "\t<tr><td>18</td><td>17</td><td>14</td><td>20</td><td>19</td></tr>\n",
       "\t<tr><td>12</td><td>19</td><td>11</td><td>20</td><td>18</td></tr>\n",
       "\t<tr><td>20</td><td>13</td><td>14</td><td>10</td><td>14</td></tr>\n",
       "\t<tr><td>12</td><td>10</td><td>11</td><td>18</td><td>19</td></tr>\n",
       "\t<tr><td>18</td><td>13</td><td>20</td><td>13</td><td>15</td></tr>\n",
       "\t<tr><td>20</td><td>11</td><td>11</td><td>13</td><td>17</td></tr>\n",
       "</tbody>\n",
       "</table>\n"
      ],
      "text/latex": [
       "\\begin{tabular}{lllll}\n",
       "\t 11 & 20 & 15 & 14 & 14\\\\\n",
       "\t 13 & 10 & 10 & 18 & 10\\\\\n",
       "\t 10 & 13 & 13 & 14 & 19\\\\\n",
       "\t 19 & 19 & 14 & 11 & 12\\\\\n",
       "\t 19 & 17 & 20 & 12 & 17\\\\\n",
       "\t 14 & 14 & 18 & 11 & 20\\\\\n",
       "\t 15 & 16 & 19 & 11 & 17\\\\\n",
       "\t 13 & 16 & 13 & 15 & 20\\\\\n",
       "\t 19 & 17 & 16 & 20 & 10\\\\\n",
       "\t 12 & 15 & 10 & 10 & 15\\\\\n",
       "\t 20 & 15 & 17 & 10 & 16\\\\\n",
       "\t 10 & 19 & 15 & 19 & 18\\\\\n",
       "\t 20 & 18 & 13 & 10 & 17\\\\\n",
       "\t 15 & 13 & 19 & 19 & 12\\\\\n",
       "\t 18 & 17 & 14 & 20 & 19\\\\\n",
       "\t 12 & 19 & 11 & 20 & 18\\\\\n",
       "\t 20 & 13 & 14 & 10 & 14\\\\\n",
       "\t 12 & 10 & 11 & 18 & 19\\\\\n",
       "\t 18 & 13 & 20 & 13 & 15\\\\\n",
       "\t 20 & 11 & 11 & 13 & 17\\\\\n",
       "\\end{tabular}\n"
      ],
      "text/markdown": [
       "\n",
       "| 11 | 20 | 15 | 14 | 14 |\n",
       "| 13 | 10 | 10 | 18 | 10 |\n",
       "| 10 | 13 | 13 | 14 | 19 |\n",
       "| 19 | 19 | 14 | 11 | 12 |\n",
       "| 19 | 17 | 20 | 12 | 17 |\n",
       "| 14 | 14 | 18 | 11 | 20 |\n",
       "| 15 | 16 | 19 | 11 | 17 |\n",
       "| 13 | 16 | 13 | 15 | 20 |\n",
       "| 19 | 17 | 16 | 20 | 10 |\n",
       "| 12 | 15 | 10 | 10 | 15 |\n",
       "| 20 | 15 | 17 | 10 | 16 |\n",
       "| 10 | 19 | 15 | 19 | 18 |\n",
       "| 20 | 18 | 13 | 10 | 17 |\n",
       "| 15 | 13 | 19 | 19 | 12 |\n",
       "| 18 | 17 | 14 | 20 | 19 |\n",
       "| 12 | 19 | 11 | 20 | 18 |\n",
       "| 20 | 13 | 14 | 10 | 14 |\n",
       "| 12 | 10 | 11 | 18 | 19 |\n",
       "| 18 | 13 | 20 | 13 | 15 |\n",
       "| 20 | 11 | 11 | 13 | 17 |\n",
       "\n"
      ],
      "text/plain": [
       "      [,1] [,2] [,3] [,4] [,5]\n",
       " [1,] 11   20   15   14   14  \n",
       " [2,] 13   10   10   18   10  \n",
       " [3,] 10   13   13   14   19  \n",
       " [4,] 19   19   14   11   12  \n",
       " [5,] 19   17   20   12   17  \n",
       " [6,] 14   14   18   11   20  \n",
       " [7,] 15   16   19   11   17  \n",
       " [8,] 13   16   13   15   20  \n",
       " [9,] 19   17   16   20   10  \n",
       "[10,] 12   15   10   10   15  \n",
       "[11,] 20   15   17   10   16  \n",
       "[12,] 10   19   15   19   18  \n",
       "[13,] 20   18   13   10   17  \n",
       "[14,] 15   13   19   19   12  \n",
       "[15,] 18   17   14   20   19  \n",
       "[16,] 12   19   11   20   18  \n",
       "[17,] 20   13   14   10   14  \n",
       "[18,] 12   10   11   18   19  \n",
       "[19,] 18   13   20   13   15  \n",
       "[20,] 20   11   11   13   17  "
      ]
     },
     "metadata": {},
     "output_type": "display_data"
    }
   ],
   "source": [
    "x"
   ]
  },
  {
   "cell_type": "code",
   "execution_count": null,
   "metadata": {},
   "outputs": [],
   "source": []
  }
 ],
 "metadata": {
  "kernelspec": {
   "display_name": "R",
   "language": "R",
   "name": "ir"
  },
  "language_info": {
   "codemirror_mode": "r",
   "file_extension": ".r",
   "mimetype": "text/x-r-source",
   "name": "R",
   "pygments_lexer": "r",
   "version": "3.6.0"
  }
 },
 "nbformat": 4,
 "nbformat_minor": 2
}
